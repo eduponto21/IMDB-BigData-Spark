{
 "cells": [
  {
   "cell_type": "code",
   "execution_count": 5,
   "metadata": {},
   "outputs": [
    {
     "ename": "ImportError",
     "evalue": "Pandas >= 1.0.5 must be installed; however, it was not found.",
     "output_type": "error",
     "traceback": [
      "\u001b[1;31m---------------------------------------------------------------------------\u001b[0m",
      "\u001b[1;31mModuleNotFoundError\u001b[0m                       Traceback (most recent call last)",
      "File \u001b[1;32mc:\\Users\\usuario\\anaconda3\\envs\\bigdata\\Lib\\site-packages\\pyspark\\sql\\pandas\\utils.py:27\u001b[0m, in \u001b[0;36mrequire_minimum_pandas_version\u001b[1;34m()\u001b[0m\n\u001b[0;32m     26\u001b[0m \u001b[39mtry\u001b[39;00m:\n\u001b[1;32m---> 27\u001b[0m     \u001b[39mimport\u001b[39;00m \u001b[39mpandas\u001b[39;00m\n\u001b[0;32m     29\u001b[0m     have_pandas \u001b[39m=\u001b[39m \u001b[39mTrue\u001b[39;00m\n",
      "\u001b[1;31mModuleNotFoundError\u001b[0m: No module named 'pandas'",
      "\nThe above exception was the direct cause of the following exception:\n",
      "\u001b[1;31mImportError\u001b[0m                               Traceback (most recent call last)",
      "Cell \u001b[1;32mIn[5], line 2\u001b[0m\n\u001b[0;32m      1\u001b[0m \u001b[39mfrom\u001b[39;00m \u001b[39mpyspark\u001b[39;00m\u001b[39m.\u001b[39;00m\u001b[39msql\u001b[39;00m \u001b[39mimport\u001b[39;00m SparkSession\n\u001b[1;32m----> 2\u001b[0m \u001b[39mimport\u001b[39;00m \u001b[39mpyspark\u001b[39;00m\u001b[39m.\u001b[39;00m\u001b[39mpandas\u001b[39;00m \u001b[39mas\u001b[39;00m \u001b[39mps\u001b[39;00m\n",
      "File \u001b[1;32mc:\\Users\\usuario\\anaconda3\\envs\\bigdata\\Lib\\site-packages\\pyspark\\pandas\\__init__.py:34\u001b[0m\n\u001b[0;32m     31\u001b[0m \u001b[39mfrom\u001b[39;00m \u001b[39mpyspark\u001b[39;00m\u001b[39m.\u001b[39;00m\u001b[39msql\u001b[39;00m\u001b[39m.\u001b[39;00m\u001b[39mpandas\u001b[39;00m\u001b[39m.\u001b[39;00m\u001b[39mutils\u001b[39;00m \u001b[39mimport\u001b[39;00m require_minimum_pandas_version, require_minimum_pyarrow_version\n\u001b[0;32m     33\u001b[0m \u001b[39mtry\u001b[39;00m:\n\u001b[1;32m---> 34\u001b[0m     require_minimum_pandas_version()\n\u001b[0;32m     35\u001b[0m     require_minimum_pyarrow_version()\n\u001b[0;32m     36\u001b[0m \u001b[39mexcept\u001b[39;00m \u001b[39mImportError\u001b[39;00m \u001b[39mas\u001b[39;00m e:\n",
      "File \u001b[1;32mc:\\Users\\usuario\\anaconda3\\envs\\bigdata\\Lib\\site-packages\\pyspark\\sql\\pandas\\utils.py:34\u001b[0m, in \u001b[0;36mrequire_minimum_pandas_version\u001b[1;34m()\u001b[0m\n\u001b[0;32m     32\u001b[0m     raised_error \u001b[39m=\u001b[39m error\n\u001b[0;32m     33\u001b[0m \u001b[39mif\u001b[39;00m \u001b[39mnot\u001b[39;00m have_pandas:\n\u001b[1;32m---> 34\u001b[0m     \u001b[39mraise\u001b[39;00m \u001b[39mImportError\u001b[39;00m(\n\u001b[0;32m     35\u001b[0m         \u001b[39m\"\u001b[39m\u001b[39mPandas >= \u001b[39m\u001b[39m%s\u001b[39;00m\u001b[39m must be installed; however, \u001b[39m\u001b[39m\"\u001b[39m \u001b[39m\"\u001b[39m\u001b[39mit was not found.\u001b[39m\u001b[39m\"\u001b[39m \u001b[39m%\u001b[39m minimum_pandas_version\n\u001b[0;32m     36\u001b[0m     ) \u001b[39mfrom\u001b[39;00m \u001b[39mraised_error\u001b[39;00m\n\u001b[0;32m     37\u001b[0m \u001b[39mif\u001b[39;00m LooseVersion(pandas\u001b[39m.\u001b[39m__version__) \u001b[39m<\u001b[39m LooseVersion(minimum_pandas_version):\n\u001b[0;32m     38\u001b[0m     \u001b[39mraise\u001b[39;00m \u001b[39mImportError\u001b[39;00m(\n\u001b[0;32m     39\u001b[0m         \u001b[39m\"\u001b[39m\u001b[39mPandas >= \u001b[39m\u001b[39m%s\u001b[39;00m\u001b[39m must be installed; however, \u001b[39m\u001b[39m\"\u001b[39m\n\u001b[0;32m     40\u001b[0m         \u001b[39m\"\u001b[39m\u001b[39myour version was \u001b[39m\u001b[39m%s\u001b[39;00m\u001b[39m.\u001b[39m\u001b[39m\"\u001b[39m \u001b[39m%\u001b[39m (minimum_pandas_version, pandas\u001b[39m.\u001b[39m__version__)\n\u001b[0;32m     41\u001b[0m     )\n",
      "\u001b[1;31mImportError\u001b[0m: Pandas >= 1.0.5 must be installed; however, it was not found."
     ]
    }
   ],
   "source": [
    "from pyspark.sql import SparkSession\n",
    "import pyspark.pandas as ps"
   ]
  },
  {
   "cell_type": "code",
   "execution_count": 2,
   "metadata": {},
   "outputs": [],
   "source": [
    "spark = SparkSession.builder.appName('explore_spark').config('spark.master', 'local').getOrCreate()"
   ]
  },
  {
   "cell_type": "code",
   "execution_count": 3,
   "metadata": {},
   "outputs": [],
   "source": [
    "name_basics = spark.read.load('../Data/name.basics.tsv', format='csv', sep='\\t', inferSchema=True, header=True)\n",
    "title_akas = spark.read.load('../Data/title.akas.tsv', format='csv', sep='\\t', inferSchema=True, header=True)\n",
    "title_basics = spark.read.load('../Data/title.basics.tsv', format='csv', sep='\\t', inferSchema=True, header=True)\n",
    "title_crew = spark.read.load('../Data/title.crew.tsv', format='csv', sep='\\t', inferSchema=True, header=True)\n",
    "title_episode = spark.read.load('../Data/title.episode.tsv', format='csv', sep='\\t', inferSchema=True, header=True)\n",
    "title_principals = spark.read.load('../Data/title.principals.tsv', format='csv', sep='\\t', inferSchema=True, header=True)\n",
    "title_ratings = spark.read.load('../Data/title.ratings.tsv', format='csv', sep='\\t', inferSchema=True, header=True)"
   ]
  },
  {
   "cell_type": "code",
   "execution_count": 4,
   "metadata": {},
   "outputs": [
    {
     "name": "stdout",
     "output_type": "stream",
     "text": [
      "+---------+---------+--------------------+--------------------+-------+---------+-------+--------------+--------------------+\n",
      "|   tconst|titleType|        primaryTitle|       originalTitle|isAdult|startYear|endYear|runtimeMinutes|              genres|\n",
      "+---------+---------+--------------------+--------------------+-------+---------+-------+--------------+--------------------+\n",
      "|tt0000001|    short|          Carmencita|          Carmencita|      0|     1894|     \\N|             1|   Documentary,Short|\n",
      "|tt0000002|    short|Le clown et ses c...|Le clown et ses c...|      0|     1892|     \\N|             5|     Animation,Short|\n",
      "|tt0000003|    short|      Pauvre Pierrot|      Pauvre Pierrot|      0|     1892|     \\N|             4|Animation,Comedy,...|\n",
      "|tt0000004|    short|         Un bon bock|         Un bon bock|      0|     1892|     \\N|            12|     Animation,Short|\n",
      "|tt0000005|    short|    Blacksmith Scene|    Blacksmith Scene|      0|     1893|     \\N|             1|        Comedy,Short|\n",
      "+---------+---------+--------------------+--------------------+-------+---------+-------+--------------+--------------------+\n",
      "only showing top 5 rows\n",
      "\n"
     ]
    }
   ],
   "source": [
    "title_basics.show(5)"
   ]
  },
  {
   "cell_type": "code",
   "execution_count": null,
   "metadata": {},
   "outputs": [],
   "source": [
    "spark.get_dummies()"
   ]
  }
 ],
 "metadata": {
  "kernelspec": {
   "display_name": "bigdata",
   "language": "python",
   "name": "python3"
  },
  "language_info": {
   "codemirror_mode": {
    "name": "ipython",
    "version": 3
   },
   "file_extension": ".py",
   "mimetype": "text/x-python",
   "name": "python",
   "nbconvert_exporter": "python",
   "pygments_lexer": "ipython3",
   "version": "3.12.0"
  },
  "orig_nbformat": 4,
  "vscode": {
   "interpreter": {
    "hash": "46c5f1f8bb507a4726e7c155d4a75ec806c01f7e7fdb669d746a23308f022d32"
   }
  }
 },
 "nbformat": 4,
 "nbformat_minor": 2
}
