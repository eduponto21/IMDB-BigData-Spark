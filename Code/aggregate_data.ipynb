{
 "cells": [
  {
   "cell_type": "code",
   "execution_count": 1,
   "metadata": {},
   "outputs": [],
   "source": [
    "import warnings\n",
    "warnings.filterwarnings(\"ignore\")  # Ignore warnings coming from Arrow optimizations."
   ]
  },
  {
   "cell_type": "code",
   "execution_count": 2,
   "metadata": {},
   "outputs": [],
   "source": [
    "# import os\n",
    "# os.environ['HADOOP_HOME'] = 'Caminho/para/o/Hadoop'\n",
    "# os.environ['JAVA_HOME'] = 'Caminho/para/o/Java'"
   ]
  },
  {
   "cell_type": "code",
   "execution_count": 3,
   "metadata": {},
   "outputs": [],
   "source": [
    "from pyspark.sql import SparkSession\n",
    "from pyspark.sql.functions import *\n",
    "\n",
    "spark = SparkSession.builder.appName('explore_spark') \\\n",
    "    .config('spark.master', 'local') \\\n",
    "    .config(\"spark.executor.memory\", \"8g\") \\\n",
    "    .config(\"spark.executor.instances\", \"3\") \\\n",
    "    .config(\"spark.executor.cores\", \"4\") \\\n",
    "    .getOrCreate()\n",
    "\n",
    "\n",
    "# # Configuração manual das bibliotecas do Hadoop no classpath\n",
    "# spark = SparkSession.builder \\\n",
    "#     .appName(\"NomeDaAplicacao\") \\\n",
    "#     .config(\"spark.driver.extraClassPath\", \"Caminho/para/as/bibliotecas/hadoop.dll\") \\\n",
    "#     .getOrCreate()\n",
    "\n",
    "spark.conf.set(\"spark.sql.execution.arrow.pyspark.enabled\", True)\n",
    "# %timeit ps.range(300000).to_pandas()"
   ]
  },
  {
   "cell_type": "markdown",
   "metadata": {},
   "source": [
    "## Carregar dados dos ratings/votos dos títulos"
   ]
  },
  {
   "cell_type": "code",
   "execution_count": 4,
   "metadata": {},
   "outputs": [],
   "source": [
    "title_ratings = spark.read.load('../Data/title.ratings.tsv', format='csv', sep='\\t', inferSchema=True, header=True)"
   ]
  },
  {
   "cell_type": "code",
   "execution_count": 5,
   "metadata": {},
   "outputs": [
    {
     "name": "stdout",
     "output_type": "stream",
     "text": [
      "+---------+-------------+--------+\n",
      "|   tconst|averageRating|numVotes|\n",
      "+---------+-------------+--------+\n",
      "|tt0000001|          5.7|    2007|\n",
      "|tt0000002|          5.8|     270|\n",
      "+---------+-------------+--------+\n",
      "only showing top 2 rows\n",
      "\n"
     ]
    }
   ],
   "source": [
    "title_ratings.show(2)"
   ]
  },
  {
   "cell_type": "markdown",
   "metadata": {},
   "source": [
    "## Carregar dados dos títulos e concatena os ratings/votos com as informações dos titulos\n",
    "- somente aqueles que possuem rating\n",
    "- somente filmes\n",
    "- somente os que possuem algum gênero"
   ]
  },
  {
   "cell_type": "code",
   "execution_count": 6,
   "metadata": {},
   "outputs": [],
   "source": [
    "title_basics = spark.read.load('../Data/title.basics.tsv', format='csv', sep='\\t', inferSchema=True, header=True)"
   ]
  },
  {
   "cell_type": "code",
   "execution_count": 7,
   "metadata": {},
   "outputs": [
    {
     "name": "stdout",
     "output_type": "stream",
     "text": [
      "+------------+-------+\n",
      "|   titleType|  count|\n",
      "+------------+-------+\n",
      "|   tvEpisode|7909714|\n",
      "|       short| 964958|\n",
      "|       movie| 664652|\n",
      "|       video| 283511|\n",
      "|    tvSeries| 253097|\n",
      "|     tvMovie| 143596|\n",
      "|tvMiniSeries|  51367|\n",
      "|   tvSpecial|  44591|\n",
      "|   videoGame|  36627|\n",
      "|     tvShort|  10084|\n",
      "|     tvPilot|      1|\n",
      "+------------+-------+\n",
      "\n"
     ]
    }
   ],
   "source": [
    "# title_basics.select(col('titleType')).distinct().show()\n",
    "title_basics.groupBy('titleType').count().orderBy(col('count').desc()).show()"
   ]
  },
  {
   "cell_type": "code",
   "execution_count": 8,
   "metadata": {},
   "outputs": [],
   "source": [
    "title_basics = title_basics.filter(title_basics['titleType'] == 'movie')\n",
    "title_basics = title_basics.filter(title_basics['genres'] != '\\\\N')"
   ]
  },
  {
   "cell_type": "code",
   "execution_count": 9,
   "metadata": {},
   "outputs": [],
   "source": [
    "# Realiza um join usando 'tconst' como chave e 'inner' como tipo de join\n",
    "# https://sparkbyexamples.com/pyspark/pyspark-join-explained-with-examples/\n",
    "title_basics_filtered = title_basics.join(title_ratings, ['tconst'], 'inner').drop('titleType', 'endYear')"
   ]
  },
  {
   "cell_type": "code",
   "execution_count": 10,
   "metadata": {},
   "outputs": [
    {
     "data": {
      "text/plain": [
       "590391"
      ]
     },
     "execution_count": 10,
     "metadata": {},
     "output_type": "execute_result"
    }
   ],
   "source": [
    "title_basics.count()"
   ]
  },
  {
   "cell_type": "code",
   "execution_count": 11,
   "metadata": {},
   "outputs": [
    {
     "data": {
      "text/plain": [
       "290648"
      ]
     },
     "execution_count": 11,
     "metadata": {},
     "output_type": "execute_result"
    }
   ],
   "source": [
    "title_basics_filtered.count()"
   ]
  },
  {
   "cell_type": "code",
   "execution_count": 12,
   "metadata": {},
   "outputs": [
    {
     "name": "stdout",
     "output_type": "stream",
     "text": [
      "+-------+------+\n",
      "|isAdult| count|\n",
      "+-------+------+\n",
      "|      0|286094|\n",
      "|      1|  4554|\n",
      "+-------+------+\n",
      "\n"
     ]
    }
   ],
   "source": [
    "title_basics_filtered.groupBy('isAdult').count().show()"
   ]
  },
  {
   "cell_type": "code",
   "execution_count": 13,
   "metadata": {},
   "outputs": [],
   "source": [
    "# Criação da nova coluna com a condição de igualdade\n",
    "title_basics_filtered = title_basics_filtered.withColumn('popularIsOriginal', when(title_basics_filtered['primaryTitle'] == title_basics_filtered['originalTitle'], 1).otherwise(0))"
   ]
  },
  {
   "cell_type": "code",
   "execution_count": 14,
   "metadata": {},
   "outputs": [
    {
     "data": {
      "text/plain": [
       "25405"
      ]
     },
     "execution_count": 14,
     "metadata": {},
     "output_type": "execute_result"
    }
   ],
   "source": [
    "# Filtrar as linhas onde 'runtimeMinutes' é igual a '\\N' e contar o número de ocorrências\n",
    "title_basics_filtered.filter(title_basics_filtered['runtimeMinutes'] == '\\\\N').count()"
   ]
  },
  {
   "cell_type": "code",
   "execution_count": 15,
   "metadata": {},
   "outputs": [
    {
     "name": "stdout",
     "output_type": "stream",
     "text": [
      "+---------+--------------------+--------------------+-------+---------+--------------+--------------------+-------------+--------+-----------------+\n",
      "|   tconst|        primaryTitle|       originalTitle|isAdult|startYear|runtimeMinutes|              genres|averageRating|numVotes|popularIsOriginal|\n",
      "+---------+--------------------+--------------------+-------+---------+--------------+--------------------+-------------+--------+-----------------+\n",
      "|tt0000009|          Miss Jerry|          Miss Jerry|      0|     1894|            45|             Romance|          5.3|     208|                1|\n",
      "|tt0000147|The Corbett-Fitzs...|The Corbett-Fitzs...|      0|     1897|           100|Documentary,News,...|          5.3|     485|                1|\n",
      "|tt0000574|The Story of the ...|The Story of the ...|      0|     1906|            70|Action,Adventure,...|          6.0|     855|                1|\n",
      "|tt0000591|    The Prodigal Son|   L'enfant prodigue|      0|     1907|            90|               Drama|          5.0|      21|                0|\n",
      "|tt0000615|  Robbery Under Arms|  Robbery Under Arms|      0|     1907|            \\N|               Drama|          4.3|      25|                1|\n",
      "|tt0000630|              Hamlet|              Amleto|      0|     1908|            \\N|               Drama|          2.9|      27|                0|\n",
      "|tt0000675|         Don Quijote|         Don Quijote|      0|     1908|            \\N|               Drama|          4.2|      20|                1|\n",
      "|tt0000886|Hamlet, Prince of...|              Hamlet|      0|     1910|            \\N|               Drama|          4.7|      40|                0|\n",
      "|tt0000941|      Locura de amor|      Locura de amor|      0|     1909|            45|               Drama|          4.5|      27|                1|\n",
      "|tt0001028|          Salome Mad|          Salome Mad|      0|     1909|            \\N|              Comedy|          4.0|      20|                1|\n",
      "|tt0001049|      Gøngehøvdingen|      Gøngehøvdingen|      0|     1909|            \\N|           Drama,War|          4.2|      18|                1|\n",
      "|tt0001112|              Amleto|              Amleto|      0|     1910|            \\N|               Drama|          3.8|      45|                1|\n",
      "|tt0001115|       Ansigttyven I|       Ansigttyven I|      0|     1910|            \\N|               Crime|          4.3|      20|                1|\n",
      "|tt0001175|             Camille|La dame aux camélias|      0|     1912|            \\N|       Drama,Romance|          5.1|      42|                0|\n",
      "|tt0001184|Don Juan de Serra...|Don Juan de Serra...|      0|     1910|            58|     Adventure,Drama|          3.8|      21|                1|\n",
      "|tt0001240|              Hamlet|              Hamlet|      0|     1911|            \\N|               Drama|          3.8|      22|                1|\n",
      "|tt0001277|         Kapergasten|         Kapergasten|      0|     1910|            \\N|               Drama|          4.4|      25|                1|\n",
      "|tt0001285|   The Life of Moses|   The Life of Moses|      0|     1909|            50|Biography,Drama,F...|          5.4|      59|                1|\n",
      "|tt0001338|      A Night in May|Maiskaya noch, il...|      0|     1910|            \\N|               Drama|          5.2|      18|                0|\n",
      "|tt0001370|Rainha Depois de ...|Rainha Depois de ...|      0|     1910|            \\N|       Drama,History|          5.3|      25|                1|\n",
      "+---------+--------------------+--------------------+-------+---------+--------------+--------------------+-------------+--------+-----------------+\n",
      "only showing top 20 rows\n",
      "\n"
     ]
    }
   ],
   "source": [
    "title_basics_filtered.show()"
   ]
  },
  {
   "cell_type": "code",
   "execution_count": 16,
   "metadata": {},
   "outputs": [
    {
     "name": "stdout",
     "output_type": "stream",
     "text": [
      "root\n",
      " |-- tconst: string (nullable = true)\n",
      " |-- primaryTitle: string (nullable = true)\n",
      " |-- originalTitle: string (nullable = true)\n",
      " |-- isAdult: string (nullable = true)\n",
      " |-- startYear: string (nullable = true)\n",
      " |-- runtimeMinutes: string (nullable = true)\n",
      " |-- genres: string (nullable = true)\n",
      " |-- averageRating: double (nullable = true)\n",
      " |-- numVotes: integer (nullable = true)\n",
      " |-- popularIsOriginal: integer (nullable = false)\n",
      "\n"
     ]
    }
   ],
   "source": [
    "title_basics_filtered.printSchema()"
   ]
  },
  {
   "cell_type": "markdown",
   "metadata": {},
   "source": [
    "## dumificar 'genres'"
   ]
  },
  {
   "cell_type": "code",
   "execution_count": 17,
   "metadata": {},
   "outputs": [
    {
     "name": "stdout",
     "output_type": "stream",
     "text": [
      "+---------+------+-----+---------+---------+---------+------+-----+-----------+-----+------+-------+---------+-------+------+-----+-------+-------+----+----------+-------+------+-----+---------+--------+---+-------+\n",
      "|   tconst|Action|Adult|Adventure|Animation|Biography|Comedy|Crime|Documentary|Drama|Family|Fantasy|Film-Noir|History|Horror|Music|Musical|Mystery|News|Reality-TV|Romance|Sci-Fi|Sport|Talk-Show|Thriller|War|Western|\n",
      "+---------+------+-----+---------+---------+---------+------+-----+-----------+-----+------+-------+---------+-------+------+-----+-------+-------+----+----------+-------+------+-----+---------+--------+---+-------+\n",
      "|tt0000009|     0|    0|        0|        0|        0|     0|    0|          0|    0|     0|      0|        0|      0|     0|    0|      0|      0|   0|         0|      1|     0|    0|        0|       0|  0|      0|\n",
      "|tt0000147|     0|    0|        0|        0|        0|     0|    0|          1|    0|     0|      0|        0|      0|     0|    0|      0|      0|   1|         0|      0|     0|    1|        0|       0|  0|      0|\n",
      "|tt0000574|     1|    0|        1|        0|        1|     0|    0|          0|    0|     0|      0|        0|      0|     0|    0|      0|      0|   0|         0|      0|     0|    0|        0|       0|  0|      0|\n",
      "|tt0000591|     0|    0|        0|        0|        0|     0|    0|          0|    1|     0|      0|        0|      0|     0|    0|      0|      0|   0|         0|      0|     0|    0|        0|       0|  0|      0|\n",
      "|tt0000615|     0|    0|        0|        0|        0|     0|    0|          0|    1|     0|      0|        0|      0|     0|    0|      0|      0|   0|         0|      0|     0|    0|        0|       0|  0|      0|\n",
      "+---------+------+-----+---------+---------+---------+------+-----+-----------+-----+------+-------+---------+-------+------+-----+-------+-------+----+----------+-------+------+-----+---------+--------+---+-------+\n",
      "only showing top 5 rows\n",
      "\n"
     ]
    }
   ],
   "source": [
    "# Dividir a coluna 'genres' por vírgulas e expandir em colunas\n",
    "genres_split = title_basics_filtered.withColumn('genres', split('genres', ','))\n",
    "\n",
    "# Usar a função explode() para criar múltiplas linhas para cada gênero\n",
    "genres_exploded = genres_split.withColumn('genre', explode('genres'))\n",
    "\n",
    "# Criar dummies para cada gênero usando pivot()\n",
    "dummies = genres_exploded.groupBy('tconst').pivot('genre').agg(lit(1)).fillna(0)\n",
    "\n",
    "# Mostrar o DataFrame resultante com as colunas de dummies para gêneros\n",
    "dummies.show(5)"
   ]
  },
  {
   "cell_type": "code",
   "execution_count": 18,
   "metadata": {},
   "outputs": [
    {
     "name": "stdout",
     "output_type": "stream",
     "text": [
      "root\n",
      " |-- tconst: string (nullable = true)\n",
      " |-- Action: integer (nullable = true)\n",
      " |-- Adult: integer (nullable = true)\n",
      " |-- Adventure: integer (nullable = true)\n",
      " |-- Animation: integer (nullable = true)\n",
      " |-- Biography: integer (nullable = true)\n",
      " |-- Comedy: integer (nullable = true)\n",
      " |-- Crime: integer (nullable = true)\n",
      " |-- Documentary: integer (nullable = true)\n",
      " |-- Drama: integer (nullable = true)\n",
      " |-- Family: integer (nullable = true)\n",
      " |-- Fantasy: integer (nullable = true)\n",
      " |-- Film-Noir: integer (nullable = true)\n",
      " |-- History: integer (nullable = true)\n",
      " |-- Horror: integer (nullable = true)\n",
      " |-- Music: integer (nullable = true)\n",
      " |-- Musical: integer (nullable = true)\n",
      " |-- Mystery: integer (nullable = true)\n",
      " |-- News: integer (nullable = true)\n",
      " |-- Reality-TV: integer (nullable = true)\n",
      " |-- Romance: integer (nullable = true)\n",
      " |-- Sci-Fi: integer (nullable = true)\n",
      " |-- Sport: integer (nullable = true)\n",
      " |-- Talk-Show: integer (nullable = true)\n",
      " |-- Thriller: integer (nullable = true)\n",
      " |-- War: integer (nullable = true)\n",
      " |-- Western: integer (nullable = true)\n",
      "\n"
     ]
    }
   ],
   "source": [
    "dummies.printSchema()"
   ]
  },
  {
   "cell_type": "markdown",
   "metadata": {},
   "source": [
    "## Carregar dados dos atores principais/equipe dos títulos\n",
    "- somente dos titulos que possuem rating\n",
    "- somente filmes\n",
    "- somente os que possuem algum gênero\n",
    "- somente atores/atrizes"
   ]
  },
  {
   "cell_type": "code",
   "execution_count": 19,
   "metadata": {},
   "outputs": [],
   "source": [
    "title_principals = spark.read.load('../Data/title.principals.tsv', format='csv', sep='\\t', inferSchema=True, header=True)"
   ]
  },
  {
   "cell_type": "code",
   "execution_count": 20,
   "metadata": {},
   "outputs": [
    {
     "data": {
      "text/plain": [
       "59388712"
      ]
     },
     "execution_count": 20,
     "metadata": {},
     "output_type": "execute_result"
    }
   ],
   "source": [
    "title_principals.count()"
   ]
  },
  {
   "cell_type": "code",
   "execution_count": 21,
   "metadata": {},
   "outputs": [],
   "source": [
    "# Obter os 'tconst' do DataFrame movies\n",
    "tconst_movies = title_basics_filtered.select('tconst')\n",
    "\n",
    "# Filtrar o DataFrame title_principals para manter apenas as linhas em que 'tconst' está presente em movies\n",
    "title_principals_filtered = title_principals.join(tconst_movies, 'tconst', 'inner').drop('job', 'ordering', 'characters')"
   ]
  },
  {
   "cell_type": "code",
   "execution_count": 22,
   "metadata": {},
   "outputs": [
    {
     "data": {
      "text/plain": [
       "2601778"
      ]
     },
     "execution_count": 22,
     "metadata": {},
     "output_type": "execute_result"
    }
   ],
   "source": [
    "title_principals_filtered.count()"
   ]
  },
  {
   "cell_type": "code",
   "execution_count": 23,
   "metadata": {},
   "outputs": [
    {
     "name": "stdout",
     "output_type": "stream",
     "text": [
      "+---------+---------+---------------+\n",
      "|   tconst|   nconst|       category|\n",
      "+---------+---------+---------------+\n",
      "|tt0000941|nm0034453|          actor|\n",
      "|tt0000941|nm0140054|          actor|\n",
      "|tt0000941|nm0243918|          actor|\n",
      "|tt0000941|nm0294022|        actress|\n",
      "|tt0000941|nm0063413|       director|\n",
      "|tt0000941|nm0550220|       director|\n",
      "|tt0000941|nm0848502|         writer|\n",
      "|tt0002026|nm0115982|          actor|\n",
      "|tt0002026|nm0418086|        actress|\n",
      "|tt0002026|nm0027708|          actor|\n",
      "|tt0002026|nm0526167|        actress|\n",
      "|tt0002026|nm0959066|          actor|\n",
      "|tt0002026|nm0259235|       director|\n",
      "|tt0002026|nm0084804|       producer|\n",
      "|tt0002026|nm0064944|          actor|\n",
      "|tt0002026|nm0348052|        actress|\n",
      "|tt0002026|nm0959065|        actress|\n",
      "|tt0002423|nm0913298|cinematographer|\n",
      "|tt0002423|nm0624470|        actress|\n",
      "|tt0002423|nm0417837|          actor|\n",
      "+---------+---------+---------------+\n",
      "only showing top 20 rows\n",
      "\n"
     ]
    }
   ],
   "source": [
    "title_principals_filtered.show()"
   ]
  },
  {
   "cell_type": "code",
   "execution_count": 24,
   "metadata": {},
   "outputs": [
    {
     "name": "stdout",
     "output_type": "stream",
     "text": [
      "+-------------------+\n",
      "|           category|\n",
      "+-------------------+\n",
      "|            actress|\n",
      "|           producer|\n",
      "|             writer|\n",
      "|           composer|\n",
      "|           director|\n",
      "|               self|\n",
      "|              actor|\n",
      "|             editor|\n",
      "|    cinematographer|\n",
      "|      archive_sound|\n",
      "|production_designer|\n",
      "|    archive_footage|\n",
      "+-------------------+\n",
      "\n"
     ]
    }
   ],
   "source": [
    "title_principals_filtered.select('category').distinct().show()"
   ]
  },
  {
   "cell_type": "code",
   "execution_count": 25,
   "metadata": {},
   "outputs": [],
   "source": [
    "# separar as categorias\n",
    "actors = ['actress', 'actor', 'self']\n",
    "producers = ['writer', 'director', 'producer']\n",
    "crew = ['composer', 'editor', 'cinematographer', 'archive_sound', 'production_designer', 'archive_footage']\n",
    "\n",
    "title_principals_filtered_actors = title_principals_filtered.filter(col('category').isin(actors))\n",
    "title_principals_filtered_producers = title_principals_filtered.filter(col('category').isin(producers))\n",
    "title_principals_filtered_crew = title_principals_filtered.filter(col('category').isin(crew))"
   ]
  },
  {
   "cell_type": "code",
   "execution_count": 26,
   "metadata": {},
   "outputs": [
    {
     "data": {
      "text/plain": [
       "1183790"
      ]
     },
     "execution_count": 26,
     "metadata": {},
     "output_type": "execute_result"
    }
   ],
   "source": [
    "title_principals_filtered_actors.count()"
   ]
  },
  {
   "cell_type": "code",
   "execution_count": 27,
   "metadata": {},
   "outputs": [
    {
     "data": {
      "text/plain": [
       "856025"
      ]
     },
     "execution_count": 27,
     "metadata": {},
     "output_type": "execute_result"
    }
   ],
   "source": [
    "title_principals_filtered_producers.count()"
   ]
  },
  {
   "cell_type": "code",
   "execution_count": 28,
   "metadata": {},
   "outputs": [
    {
     "data": {
      "text/plain": [
       "561963"
      ]
     },
     "execution_count": 28,
     "metadata": {},
     "output_type": "execute_result"
    }
   ],
   "source": [
    "title_principals_filtered_crew.count()"
   ]
  },
  {
   "cell_type": "code",
   "execution_count": 29,
   "metadata": {},
   "outputs": [
    {
     "name": "stdout",
     "output_type": "stream",
     "text": [
      "+---------+---------+--------+\n",
      "|   tconst|   nconst|category|\n",
      "+---------+---------+--------+\n",
      "|tt0000630|nm0624446| actress|\n",
      "|tt0000941|nm0034453|   actor|\n",
      "+---------+---------+--------+\n",
      "only showing top 2 rows\n",
      "\n"
     ]
    }
   ],
   "source": [
    "title_principals_filtered_actors.show(2)"
   ]
  },
  {
   "cell_type": "markdown",
   "metadata": {},
   "source": [
    "## Fazer a media de cada grupo pros filmes"
   ]
  },
  {
   "cell_type": "code",
   "execution_count": 30,
   "metadata": {},
   "outputs": [],
   "source": [
    "from pyspark.sql.functions import avg"
   ]
  },
  {
   "cell_type": "code",
   "execution_count": 31,
   "metadata": {},
   "outputs": [],
   "source": [
    "# Etapa 1: Obter todos os títulos associados aos nomes presentes no dataset title_principals_filtered_actors\n",
    "titles_for_names = title_principals_filtered_producers.select('nconst', 'tconst').distinct()"
   ]
  },
  {
   "attachments": {},
   "cell_type": "markdown",
   "metadata": {},
   "source": [
    "### Actors"
   ]
  },
  {
   "cell_type": "code",
   "execution_count": 32,
   "metadata": {},
   "outputs": [],
   "source": [
    "# Etapa 2: Calcular as médias de 'averageRating' e 'numVotes' para esses títulos\n",
    "avg_ratings_votes_actor = titles_for_names.join(title_basics_filtered, 'tconst', 'inner') \\\n",
    "    .groupBy('nconst') \\\n",
    "    .agg(avg('averageRating').alias('avgRating'), avg('numVotes').alias('avgNumVotes'))\n",
    "\n",
    "# Etapa 3: Juntar esses nomes com as médias já calculadas\n",
    "joined_data = avg_ratings_votes_actor.join(titles_for_names, 'nconst', 'inner')\n",
    "\n",
    "# Etapa 4: Calcular as médias dos filmes com base nos nomes associados\n",
    "avg_ratings_per_film_actor = joined_data.groupBy('tconst') \\\n",
    "    .agg(avg('avgRating').alias('avgRatingPerFilm'), avg('avgNumVotes').alias('avgNumVotesPerFilm'))"
   ]
  },
  {
   "cell_type": "code",
   "execution_count": 33,
   "metadata": {},
   "outputs": [],
   "source": [
    "#avg_ratings_votes_actor.show()"
   ]
  },
  {
   "cell_type": "code",
   "execution_count": 34,
   "metadata": {},
   "outputs": [],
   "source": [
    "#avg_ratings_per_film_actor.show()"
   ]
  },
  {
   "cell_type": "code",
   "execution_count": 35,
   "metadata": {},
   "outputs": [
    {
     "name": "stdout",
     "output_type": "stream",
     "text": [
      "+---------+--------------------+--------------------+-------+---------+--------------+--------------------+-------------+--------+-----------------+----------------------+------------------------+\n",
      "|   tconst|        primaryTitle|       originalTitle|isAdult|startYear|runtimeMinutes|              genres|averageRating|numVotes|popularIsOriginal|avgRatingPerFilmActors|avgNumVotesPerFilmActors|\n",
      "+---------+--------------------+--------------------+-------+---------+--------------+--------------------+-------------+--------+-----------------+----------------------+------------------------+\n",
      "|tt0000009|          Miss Jerry|          Miss Jerry|      0|     1894|            45|             Romance|          5.3|     208|                1|                   5.3|                   208.0|\n",
      "|tt0000147|The Corbett-Fitzs...|The Corbett-Fitzs...|      0|     1897|           100|Documentary,News,...|          5.3|     485|                1|    5.8062499999999995|                 675.375|\n",
      "|tt0000574|The Story of the ...|The Story of the ...|      0|     1906|            70|Action,Adventure,...|          6.0|     855|                1|                   6.0|                   855.0|\n",
      "|tt0000591|    The Prodigal Son|   L'enfant prodigue|      0|     1907|            90|               Drama|          5.0|      21|                0|                   5.0|                    21.0|\n",
      "|tt0000630|              Hamlet|              Amleto|      0|     1908|            \\N|               Drama|          2.9|      27|                0|     5.243128546755489|      1741.9685418208735|\n",
      "+---------+--------------------+--------------------+-------+---------+--------------+--------------------+-------------+--------+-----------------+----------------------+------------------------+\n",
      "only showing top 5 rows\n",
      "\n"
     ]
    }
   ],
   "source": [
    "title_basics_filtered_final = title_basics_filtered.join(avg_ratings_per_film_actor, 'tconst', 'inner')\n",
    "\n",
    "title_basics_filtered_final = title_basics_filtered_final.withColumnRenamed(\"avgRatingPerFilm\", \"avgRatingPerFilmActors\")\n",
    "title_basics_filtered_final = title_basics_filtered_final.withColumnRenamed(\"avgNumVotesPerFilm\", \"avgNumVotesPerFilmActors\")\n",
    "\n",
    "title_basics_filtered_final.show(5)"
   ]
  },
  {
   "attachments": {},
   "cell_type": "markdown",
   "metadata": {},
   "source": [
    "### Producers"
   ]
  },
  {
   "cell_type": "code",
   "execution_count": 36,
   "metadata": {},
   "outputs": [],
   "source": [
    "# Etapa 2: Calcular as médias de 'averageRating' e 'numVotes' para esses títulos\n",
    "avg_ratings_votes_producer = titles_for_names.join(title_basics_filtered, 'tconst', 'inner') \\\n",
    "    .groupBy('nconst') \\\n",
    "    .agg(avg('averageRating').alias('avgRating'), avg('numVotes').alias('avgNumVotes'))\n",
    "\n",
    "# Etapa 3: Juntar esses nomes com as médias já calculadas\n",
    "joined_data = avg_ratings_votes_producer.join(titles_for_names, 'nconst', 'inner')\n",
    "\n",
    "# Etapa 4: Calcular as médias dos filmes com base nos nomes associados\n",
    "avg_ratings_per_film_producer = joined_data.groupBy('tconst') \\\n",
    "    .agg(avg('avgRating').alias('avgRatingPerFilm'), avg('avgNumVotes').alias('avgNumVotesPerFilm'))"
   ]
  },
  {
   "cell_type": "code",
   "execution_count": 37,
   "metadata": {},
   "outputs": [
    {
     "name": "stdout",
     "output_type": "stream",
     "text": [
      "+---------+--------------------+--------------------+-------+---------+--------------+--------------------+-------------+--------+-----------------+----------------------+------------------------+-------------------------+---------------------------+\n",
      "|   tconst|        primaryTitle|       originalTitle|isAdult|startYear|runtimeMinutes|              genres|averageRating|numVotes|popularIsOriginal|avgRatingPerFilmActors|avgNumVotesPerFilmActors|avgRatingPerFilmProducers|avgNumVotesPerFilmProducers|\n",
      "+---------+--------------------+--------------------+-------+---------+--------------+--------------------+-------------+--------+-----------------+----------------------+------------------------+-------------------------+---------------------------+\n",
      "|tt0000009|          Miss Jerry|          Miss Jerry|      0|     1894|            45|             Romance|          5.3|     208|                1|                   5.3|                   208.0|                      5.3|                      208.0|\n",
      "|tt0000147|The Corbett-Fitzs...|The Corbett-Fitzs...|      0|     1897|           100|Documentary,News,...|          5.3|     485|                1|    5.8062499999999995|                 675.375|       5.8062499999999995|                    675.375|\n",
      "|tt0000574|The Story of the ...|The Story of the ...|      0|     1906|            70|Action,Adventure,...|          6.0|     855|                1|                   6.0|                   855.0|                      6.0|                      855.0|\n",
      "|tt0000591|    The Prodigal Son|   L'enfant prodigue|      0|     1907|            90|               Drama|          5.0|      21|                0|                   5.0|                    21.0|                      5.0|                       21.0|\n",
      "|tt0000630|              Hamlet|              Amleto|      0|     1908|            \\N|               Drama|          2.9|      27|                0|     5.243128546755489|      1741.9685418208735|        5.243128546755489|         1741.9685418208735|\n",
      "+---------+--------------------+--------------------+-------+---------+--------------+--------------------+-------------+--------+-----------------+----------------------+------------------------+-------------------------+---------------------------+\n",
      "only showing top 5 rows\n",
      "\n"
     ]
    }
   ],
   "source": [
    "title_basics_filtered_final = title_basics_filtered_final.join(avg_ratings_per_film_producer, 'tconst', 'inner')\n",
    "\n",
    "title_basics_filtered_final = title_basics_filtered_final.withColumnRenamed(\"avgRatingPerFilm\", \"avgRatingPerFilmProducers\")\n",
    "title_basics_filtered_final = title_basics_filtered_final.withColumnRenamed(\"avgNumVotesPerFilm\", \"avgNumVotesPerFilmProducers\")\n",
    "\n",
    "title_basics_filtered_final.show(5)"
   ]
  },
  {
   "attachments": {},
   "cell_type": "markdown",
   "metadata": {},
   "source": [
    "### Crew"
   ]
  },
  {
   "cell_type": "code",
   "execution_count": 38,
   "metadata": {},
   "outputs": [],
   "source": [
    "# Etapa 1: Obter todos os títulos associados aos nomes presentes no dataset title_principals_filtered_actors\n",
    "titles_for_names = title_principals_filtered_crew.select('nconst', 'tconst').distinct()\n",
    "\n",
    "# Etapa 2: Calcular as médias de 'averageRating' e 'numVotes' para esses títulos\n",
    "avg_ratings_votes_crew = titles_for_names.join(title_basics_filtered, 'tconst', 'inner') \\\n",
    "    .groupBy('nconst') \\\n",
    "    .agg(avg('averageRating').alias('avgRating'), avg('numVotes').alias('avgNumVotes'))\n",
    "\n",
    "# Etapa 3: Juntar esses nomes com as médias já calculadas\n",
    "joined_data = avg_ratings_votes_crew.join(titles_for_names, 'nconst', 'inner')\n",
    "\n",
    "# Etapa 4: Calcular as médias dos filmes com base nos nomes associados\n",
    "avg_ratings_per_film_crew = joined_data.groupBy('tconst') \\\n",
    "    .agg(avg('avgRating').alias('avgRatingPerFilm'), avg('avgNumVotes').alias('avgNumVotesPerFilm'))"
   ]
  },
  {
   "cell_type": "code",
   "execution_count": 39,
   "metadata": {},
   "outputs": [
    {
     "name": "stdout",
     "output_type": "stream",
     "text": [
      "+---------+--------------------+--------------------+-------+---------+--------------+--------------------+-------------+--------+-----------------+----------------------+------------------------+-------------------------+---------------------------+--------------------+----------------------+\n",
      "|   tconst|        primaryTitle|       originalTitle|isAdult|startYear|runtimeMinutes|              genres|averageRating|numVotes|popularIsOriginal|avgRatingPerFilmActors|avgNumVotesPerFilmActors|avgRatingPerFilmProducers|avgNumVotesPerFilmProducers|avgRatingPerFilmCrew|avgNumVotesPerFilmCrew|\n",
      "+---------+--------------------+--------------------+-------+---------+--------------+--------------------+-------------+--------+-----------------+----------------------+------------------------+-------------------------+---------------------------+--------------------+----------------------+\n",
      "|tt0000574|The Story of the ...|The Story of the ...|      0|     1906|            70|Action,Adventure,...|          6.0|     855|                1|                   6.0|                   855.0|                      6.0|                      855.0|                5.45|                 520.0|\n",
      "|tt0001049|      Gøngehøvdingen|      Gøngehøvdingen|      0|     1909|            \\N|           Drama,War|          4.2|      18|                1|                   4.2|                    18.0|                      4.2|                       18.0|  5.6000000000000005|                  39.0|\n",
      "|tt0001184|Don Juan de Serra...|Don Juan de Serra...|      0|     1910|            58|     Adventure,Drama|          3.8|      21|                1|     4.533333333333334|      25.333333333333332|        4.533333333333334|         25.333333333333332|   5.699999999999999|                  22.4|\n",
      "|tt0001277|         Kapergasten|         Kapergasten|      0|     1910|            \\N|               Drama|          4.4|      25|                1|     4.466666666666666|      22.333333333333332|        4.466666666666666|         22.333333333333332|                 4.4|                  25.0|\n",
      "|tt0001440|       Valdemar Sejr|       Valdemar Sejr|      0|     1910|            \\N|       Drama,History|          4.7|      22|                1|     4.583333333333333|      22.166666666666664|        4.583333333333333|         22.166666666666664|                 4.7|                  22.0|\n",
      "+---------+--------------------+--------------------+-------+---------+--------------+--------------------+-------------+--------+-----------------+----------------------+------------------------+-------------------------+---------------------------+--------------------+----------------------+\n",
      "only showing top 5 rows\n",
      "\n"
     ]
    }
   ],
   "source": [
    "title_basics_filtered_final = title_basics_filtered_final.join(avg_ratings_per_film_crew, 'tconst', 'inner')\n",
    "\n",
    "title_basics_filtered_final = title_basics_filtered_final.withColumnRenamed(\"avgRatingPerFilm\", \"avgRatingPerFilmCrew\")\n",
    "title_basics_filtered_final = title_basics_filtered_final.withColumnRenamed(\"avgNumVotesPerFilm\", \"avgNumVotesPerFilmCrew\")\n",
    "\n",
    "title_basics_filtered_final.show(5)"
   ]
  },
  {
   "cell_type": "markdown",
   "metadata": {},
   "source": [
    "## Analisar titulos localizados"
   ]
  },
  {
   "cell_type": "code",
   "execution_count": 40,
   "metadata": {},
   "outputs": [],
   "source": [
    "title_akas = spark.read.load('../Data/title.akas.tsv', format='csv', sep='\\t', inferSchema=True, header=True)"
   ]
  },
  {
   "cell_type": "code",
   "execution_count": 41,
   "metadata": {},
   "outputs": [
    {
     "name": "stdout",
     "output_type": "stream",
     "text": [
      "+---------+--------+--------------------+------+--------+-----------+--------------------+---------------+\n",
      "|  titleId|ordering|               title|region|language|      types|          attributes|isOriginalTitle|\n",
      "+---------+--------+--------------------+------+--------+-----------+--------------------+---------------+\n",
      "|tt0000001|       1|          Карменсіта|    UA|      \\N|imdbDisplay|                  \\N|              0|\n",
      "|tt0000001|       2|          Carmencita|    DE|      \\N|         \\N|       literal title|              0|\n",
      "|tt0000001|       3|Carmencita - span...|    HU|      \\N|imdbDisplay|                  \\N|              0|\n",
      "|tt0000001|       4|          Καρμενσίτα|    GR|      \\N|imdbDisplay|                  \\N|              0|\n",
      "|tt0000001|       5|          Карменсита|    RU|      \\N|imdbDisplay|                  \\N|              0|\n",
      "|tt0000001|       6|          Carmencita|    US|      \\N|imdbDisplay|                  \\N|              0|\n",
      "|tt0000001|       7|          Carmencita|    \\N|      \\N|   original|                  \\N|              1|\n",
      "|tt0000001|       8|      カルメンチータ|    JP|      ja|imdbDisplay|                  \\N|              0|\n",
      "|tt0000002|       1|Le clown et ses c...|    \\N|      \\N|   original|                  \\N|              1|\n",
      "|tt0000002|       2|Le clown et ses c...|    FR|      \\N|imdbDisplay|                  \\N|              0|\n",
      "|tt0000002|       3|   A bohóc és kutyái|    HU|      \\N|imdbDisplay|                  \\N|              0|\n",
      "|tt0000002|       4|Der Clown und sei...|    DE|      \\N|         \\N|       literal title|              0|\n",
      "|tt0000002|       5|Clovnul si cainii...|    RO|      \\N|imdbDisplay|                  \\N|              0|\n",
      "|tt0000002|       6|  Клоун и его собаки|    RU|      \\N|imdbDisplay|                  \\N|              0|\n",
      "|tt0000002|       7|The Clown and His...|    US|      \\N|         \\N|literal English t...|              0|\n",
      "|tt0000002|       8|          道化師と犬|    JP|      ja|imdbDisplay|                  \\N|              0|\n",
      "|tt0000003|       1|    Sarmanul Pierrot|    RO|      \\N|imdbDisplay|                  \\N|              0|\n",
      "|tt0000003|       2|     Szegény Pierrot|    HU|      \\N|imdbDisplay|                  \\N|              0|\n",
      "|tt0000003|       3|        哀れなピエロ|    JP|      ja|imdbDisplay|                  \\N|              0|\n",
      "|tt0000003|       4|        Бідний П'єро|    UA|      \\N|imdbDisplay|                  \\N|              0|\n",
      "+---------+--------+--------------------+------+--------+-----------+--------------------+---------------+\n",
      "only showing top 20 rows\n",
      "\n"
     ]
    }
   ],
   "source": [
    "title_akas.show()"
   ]
  },
  {
   "cell_type": "code",
   "execution_count": 42,
   "metadata": {},
   "outputs": [],
   "source": [
    "# Obter os 'tconst' do DataFrame movies\n",
    "# tconst_movies contém os IDs de filmes já selecionados\n",
    "\n",
    "# filtrar somente as entradas de titulos que estamos considerando\n",
    "title_akas_filtered = title_akas.join(tconst_movies, title_akas['titleId'] == tconst_movies['tconst'], 'inner')"
   ]
  },
  {
   "cell_type": "code",
   "execution_count": 43,
   "metadata": {},
   "outputs": [
    {
     "name": "stdout",
     "output_type": "stream",
     "text": [
      "+---------+--------+--------------------+------+--------+-----------+--------------------+---------------+---------+\n",
      "|  titleId|ordering|               title|region|language|      types|          attributes|isOriginalTitle|   tconst|\n",
      "+---------+--------+--------------------+------+--------+-----------+--------------------+---------------+---------+\n",
      "|tt0000941|       1|      Locura de amor|    \\N|      \\N|   original|                  \\N|              1|tt0000941|\n",
      "|tt0000941|       2|          Love Crazy|   XWW|      en|         \\N|informal literal ...|              0|tt0000941|\n",
      "|tt0000941|       3|      Locura de amor|    ES|      \\N|imdbDisplay|                  \\N|              0|tt0000941|\n",
      "|tt0002026|       1|Anny - en gatepig...|    NO|      \\N|imdbDisplay|                  \\N|              0|tt0002026|\n",
      "|tt0002026|       2|Anny - Story of a...|   XWW|      en|         \\N|                  \\N|              0|tt0002026|\n",
      "|tt0002026|       3|Anny - en gatepig...|    \\N|      \\N|   original|                  \\N|              1|tt0002026|\n",
      "|tt0002423|      10|     Kungens Mätress|    SE|      \\N|         \\N|                  \\N|              0|tt0002423|\n",
      "|tt0002423|      11|          パッション|    JP|      ja|imdbDisplay|                  \\N|              0|tt0002423|\n",
      "|tt0002423|      12|             Passion|    FR|      \\N|imdbDisplay|                  \\N|              0|tt0002423|\n",
      "|tt0002423|      13|      Madame DuBarry|    PL|      \\N|         \\N|                  \\N|              0|tt0002423|\n",
      "|tt0002423|      14|      Madame DuBarry|    GB|      \\N|imdbDisplay|                  \\N|              0|tt0002423|\n",
      "|tt0002423|      15|        Мадам ДюБари|    BG|      bg|imdbDisplay|                  \\N|              0|tt0002423|\n",
      "|tt0002423|      16|      Madame Dubarry|    HU|      \\N|imdbDisplay|                  \\N|              0|tt0002423|\n",
      "|tt0002423|      17|      Madame DuBarry|    ES|      \\N|imdbDisplay|                  \\N|              0|tt0002423|\n",
      "|tt0002423|      18|      Madame DuBarry|    BR|      \\N|         \\N|                  \\N|              0|tt0002423|\n",
      "|tt0002423|       1|      Madame DuBarry|    \\N|      \\N|   original|                  \\N|              1|tt0002423|\n",
      "|tt0002423|       2|             Passion|    US|      \\N|imdbDisplay|                  \\N|              0|tt0002423|\n",
      "|tt0002423|       3|      Madame DuBarry|    DK|      \\N|imdbDisplay|                  \\N|              0|tt0002423|\n",
      "|tt0002423|       4|       Мадам ДюБарри|    RU|      \\N|imdbDisplay|                  \\N|              0|tt0002423|\n",
      "|tt0002423|       5|         La Du Barry|    FR|      \\N|         \\N|       reissue title|              0|tt0002423|\n",
      "+---------+--------+--------------------+------+--------+-----------+--------------------+---------------+---------+\n",
      "only showing top 20 rows\n",
      "\n"
     ]
    }
   ],
   "source": [
    "title_akas_filtered.show()"
   ]
  },
  {
   "cell_type": "code",
   "execution_count": 44,
   "metadata": {},
   "outputs": [
    {
     "name": "stdout",
     "output_type": "stream",
     "text": [
      "+---------+--------------------+\n",
      "|   tconst|numberOfTranslations|\n",
      "+---------+--------------------+\n",
      "|tt0000147|                   3|\n",
      "|tt0000574|                   9|\n",
      "|tt0000630|                   5|\n",
      "|tt0000675|                   2|\n",
      "|tt0000886|                   4|\n",
      "|tt0000941|                   3|\n",
      "|tt0001028|                   2|\n",
      "|tt0001049|                   3|\n",
      "|tt0001112|                   4|\n",
      "|tt0001115|                   2|\n",
      "|tt0001184|                   2|\n",
      "|tt0001277|                   2|\n",
      "|tt0001338|                   3|\n",
      "|tt0001370|                   2|\n",
      "|tt0001440|                   3|\n",
      "|tt0001498|                   4|\n",
      "|tt0001530|                   3|\n",
      "|tt0001790|                   6|\n",
      "|tt0001812|                   2|\n",
      "|tt0001911|                   5|\n",
      "+---------+--------------------+\n",
      "only showing top 20 rows\n",
      "\n"
     ]
    }
   ],
   "source": [
    "title_akas_filtered_translations = title_akas_filtered.groupBy('tconst').count().withColumnRenamed('count', 'numberOfTranslations')\n",
    "title_akas_filtered_translations.show()"
   ]
  },
  {
   "cell_type": "markdown",
   "metadata": {},
   "source": [
    "## Agregar dataset de features"
   ]
  },
  {
   "cell_type": "code",
   "execution_count": 51,
   "metadata": {},
   "outputs": [
    {
     "name": "stdout",
     "output_type": "stream",
     "text": [
      "+---------+--------------------+--------------------+-------+---------+--------------+--------------------+-------------+--------+-----------------+----------------------+------------------------+-------------------------+---------------------------+--------------------+----------------------+\n",
      "|   tconst|        primaryTitle|       originalTitle|isAdult|startYear|runtimeMinutes|              genres|averageRating|numVotes|popularIsOriginal|avgRatingPerFilmActors|avgNumVotesPerFilmActors|avgRatingPerFilmProducers|avgNumVotesPerFilmProducers|avgRatingPerFilmCrew|avgNumVotesPerFilmCrew|\n",
      "+---------+--------------------+--------------------+-------+---------+--------------+--------------------+-------------+--------+-----------------+----------------------+------------------------+-------------------------+---------------------------+--------------------+----------------------+\n",
      "|tt0000574|The Story of the ...|The Story of the ...|      0|     1906|            70|Action,Adventure,...|          6.0|     855|                1|                   6.0|                   855.0|                      6.0|                      855.0|                5.45|                 520.0|\n",
      "|tt0001049|      Gøngehøvdingen|      Gøngehøvdingen|      0|     1909|            \\N|           Drama,War|          4.2|      18|                1|                   4.2|                    18.0|                      4.2|                       18.0|  5.6000000000000005|                  39.0|\n",
      "|tt0001184|Don Juan de Serra...|Don Juan de Serra...|      0|     1910|            58|     Adventure,Drama|          3.8|      21|                1|     4.533333333333334|      25.333333333333332|        4.533333333333334|         25.333333333333332|   5.699999999999999|                  22.4|\n",
      "|tt0001277|         Kapergasten|         Kapergasten|      0|     1910|            \\N|               Drama|          4.4|      25|                1|     4.466666666666666|      22.333333333333332|        4.466666666666666|         22.333333333333332|                 4.4|                  25.0|\n",
      "|tt0001440|       Valdemar Sejr|       Valdemar Sejr|      0|     1910|            \\N|       Drama,History|          4.7|      22|                1|     4.583333333333333|      22.166666666666664|        4.583333333333333|         22.166666666666664|                 4.7|                  22.0|\n",
      "|tt0001498|The Battle of Tra...|The Battle of Tra...|      0|     1911|            51|                 War|          7.8|      14|                1|     5.491666666666666|                   56.75|        5.491666666666666|                      56.75|  5.8538461538461535|    270.53846153846155|\n",
      "|tt0001790|Les Misérables, P...|Les misérables - ...|      0|     1913|            60|               Drama|          6.0|      52|                0|    6.2247619047619045|      3123.3347619047618|       6.2247619047619045|         3123.3347619047618|  6.3374999999999995|                 74.75|\n",
      "|tt0001911|         Nell Gwynne|Sweet Nell of Old...|      0|     1911|            50|Biography,Drama,H...|          3.6|      24|                0|                 4.245|                    48.1|                    4.245|                       48.1|                5.15|                 23.75|\n",
      "|tt0001964|       The Traitress|      Die Verräterin|      0|     1911|            48|               Drama|          5.9|      93|                0|     5.893750000000001|                  87.125|        5.893750000000001|                     87.125|   6.057692307692308|    239.73076923076923|\n",
      "|tt0002022|              Anfisa|              Anfisa|      0|     1912|            45|               Drama|          6.0|      13|                1|     6.724655172413792|       333.7206896551724|        6.724655172413792|          333.7206896551724|   6.316666666666666|                  55.0|\n",
      "|tt0002186|   The Flying Circus| Den flyvende cirkus|      0|     1912|            46|               Drama|          6.5|     137|                0|                6.2875|                  104.75|                   6.2875|                     104.75|                 6.5|                 137.0|\n",
      "|tt0002199|From the Manger t...|From the Manger t...|      0|     1912|            60|     Biography,Drama|          5.8|     624|                1|                   6.3|       242.0909090909091|                      6.3|          242.0909090909091|                5.75|                171.75|\n",
      "|tt0002423|             Passion|      Madame DuBarry|      0|     1919|            85|Biography,Drama,R...|          6.6|     975|                0|      6.43407738095238|      1539.8962710084033|         6.43407738095238|         1539.8962710084033|               6.511|                 812.7|\n",
      "|tt0002452|The Independence ...|Independenta Roma...|      0|     1912|           120|         History,War|          6.4|     264|                0|     6.888888888888889|                   167.0|        6.888888888888889|                      167.0|                 6.9|     52.42857142857143|\n",
      "|tt0002500|The Black Chancellor|   Den sorte kansler|      0|     1912|            48|               Drama|          6.0|      23|                0|     5.815625000000001|                51.84375|        5.815625000000001|                   51.84375|                 6.0|     59.77777777777778|\n",
      "|tt0002514|    Saved in Mid-Air|  De svarta maskerna|      0|     1912|            60|               Drama|          4.9|      18|                0|     5.994956140350877|       409.2741228070176|        5.994956140350877|          409.2741228070176|    5.70344827586207|     384.8448275862069|\n",
      "|tt0002555|   The Last Bohemian|     Az utolsó bohém|      0|     1913|            \\N|       Drama,Romance|          4.5|      47|                0|     5.248702956989248|      1603.5262096774193|        5.248702956989248|         1603.5262096774193|   4.630434782608695|    39.630434782608695|\n",
      "|tt0002588|Zigomar contre Ni...|Zigomar contre Ni...|      0|     1912|            48|      Crime,Thriller|          6.0|      48|                1|      5.98888888888889|      223.08333333333334|         5.98888888888889|         223.08333333333334|   6.133734939759037|    469.72289156626505|\n",
      "|tt0002605|The Adventures of...|The Adventures of...|      0|     1913|           300|           Adventure|          5.5|      45|                1|    5.2819927536231885|       59.60139751552795|       5.2819927536231885|          59.60139751552795|                6.15|                  33.5|\n",
      "|tt0002628|          Der Andere|          Der Andere|      0|     1913|            48|      Drama,Thriller|          5.5|     108|                1|     5.824464285714286|      56.323214285714286|        5.824464285714286|         56.323214285714286|               5.675|                  92.0|\n",
      "+---------+--------------------+--------------------+-------+---------+--------------+--------------------+-------------+--------+-----------------+----------------------+------------------------+-------------------------+---------------------------+--------------------+----------------------+\n",
      "only showing top 20 rows\n",
      "\n"
     ]
    }
   ],
   "source": [
    "title_basics_filtered_final.show()"
   ]
  },
  {
   "cell_type": "code",
   "execution_count": 52,
   "metadata": {},
   "outputs": [],
   "source": [
    "titles_features_complete = title_basics_filtered_final.join(title_akas_filtered_translations, 'tconst', 'inner')\n",
    "titles_features_complete = titles_features_complete.join(dummies, 'tconst', 'inner')"
   ]
  },
  {
   "cell_type": "code",
   "execution_count": 53,
   "metadata": {},
   "outputs": [
    {
     "name": "stdout",
     "output_type": "stream",
     "text": [
      "+---------+--------------------+--------------------+-------+---------+--------------+--------------------+-------------+--------+-----------------+----------------------+------------------------+-------------------------+---------------------------+--------------------+----------------------+--------------------+------+-----+---------+---------+---------+------+-----+-----------+-----+------+-------+---------+-------+------+-----+-------+-------+----+----------+-------+------+-----+---------+--------+---+-------+\n",
      "|   tconst|        primaryTitle|       originalTitle|isAdult|startYear|runtimeMinutes|              genres|averageRating|numVotes|popularIsOriginal|avgRatingPerFilmActors|avgNumVotesPerFilmActors|avgRatingPerFilmProducers|avgNumVotesPerFilmProducers|avgRatingPerFilmCrew|avgNumVotesPerFilmCrew|numberOfTranslations|Action|Adult|Adventure|Animation|Biography|Comedy|Crime|Documentary|Drama|Family|Fantasy|Film-Noir|History|Horror|Music|Musical|Mystery|News|Reality-TV|Romance|Sci-Fi|Sport|Talk-Show|Thriller|War|Western|\n",
      "+---------+--------------------+--------------------+-------+---------+--------------+--------------------+-------------+--------+-----------------+----------------------+------------------------+-------------------------+---------------------------+--------------------+----------------------+--------------------+------+-----+---------+---------+---------+------+-----+-----------+-----+------+-------+---------+-------+------+-----+-------+-------+----+----------+-------+------+-----+---------+--------+---+-------+\n",
      "|tt0001184|Don Juan de Serra...|Don Juan de Serra...|      0|     1910|            58|     Adventure,Drama|          3.8|      21|                1|     4.533333333333334|      25.333333333333332|        4.533333333333334|         25.333333333333332|   5.699999999999999|                  22.4|                   2|     0|    0|        1|        0|        0|     0|    0|          0|    1|     0|      0|        0|      0|     0|    0|      0|      0|   0|         0|      0|     0|    0|        0|       0|  0|      0|\n",
      "|tt0001498|The Battle of Tra...|The Battle of Tra...|      0|     1911|            51|                 War|          7.8|      14|                1|     5.491666666666666|                   56.75|        5.491666666666666|                      56.75|  5.8538461538461535|    270.53846153846155|                   4|     0|    0|        0|        0|        0|     0|    0|          0|    0|     0|      0|        0|      0|     0|    0|      0|      0|   0|         0|      0|     0|    0|        0|       0|  1|      0|\n",
      "|tt0001790|Les Misérables, P...|Les misérables - ...|      0|     1913|            60|               Drama|          6.0|      52|                0|    6.2247619047619045|      3123.3347619047618|       6.2247619047619045|         3123.3347619047618|  6.3374999999999995|                 74.75|                   6|     0|    0|        0|        0|        0|     0|    0|          0|    1|     0|      0|        0|      0|     0|    0|      0|      0|   0|         0|      0|     0|    0|        0|       0|  0|      0|\n",
      "|tt0001911|         Nell Gwynne|Sweet Nell of Old...|      0|     1911|            50|Biography,Drama,H...|          3.6|      24|                0|                 4.245|                    48.1|                    4.245|                       48.1|                5.15|                 23.75|                   5|     0|    0|        0|        0|        1|     0|    0|          0|    1|     0|      0|        0|      1|     0|    0|      0|      0|   0|         0|      0|     0|    0|        0|       0|  0|      0|\n",
      "|tt0002199|From the Manger t...|From the Manger t...|      0|     1912|            60|     Biography,Drama|          5.8|     624|                1|                   6.3|       242.0909090909091|                      6.3|          242.0909090909091|                5.75|                171.75|                   9|     0|    0|        0|        0|        1|     0|    0|          0|    1|     0|      0|        0|      0|     0|    0|      0|      0|   0|         0|      0|     0|    0|        0|       0|  0|      0|\n",
      "|tt0002423|             Passion|      Madame DuBarry|      0|     1919|            85|Biography,Drama,R...|          6.6|     975|                0|      6.43407738095238|      1539.8962710084033|         6.43407738095238|         1539.8962710084033|               6.511|                 812.7|                  18|     0|    0|        0|        0|        1|     0|    0|          0|    1|     0|      0|        0|      0|     0|    0|      0|      0|   0|         0|      1|     0|    0|        0|       0|  0|      0|\n",
      "|tt0002452|The Independence ...|Independenta Roma...|      0|     1912|           120|         History,War|          6.4|     264|                0|     6.888888888888889|                   167.0|        6.888888888888889|                      167.0|                 6.9|     52.42857142857143|                  13|     0|    0|        0|        0|        0|     0|    0|          0|    0|     0|      0|        0|      1|     0|    0|      0|      0|   0|         0|      0|     0|    0|        0|       0|  1|      0|\n",
      "|tt0002500|The Black Chancellor|   Den sorte kansler|      0|     1912|            48|               Drama|          6.0|      23|                0|     5.815625000000001|                51.84375|        5.815625000000001|                   51.84375|                 6.0|     59.77777777777778|                   8|     0|    0|        0|        0|        0|     0|    0|          0|    1|     0|      0|        0|      0|     0|    0|      0|      0|   0|         0|      0|     0|    0|        0|       0|  0|      0|\n",
      "|tt0002588|Zigomar contre Ni...|Zigomar contre Ni...|      0|     1912|            48|      Crime,Thriller|          6.0|      48|                1|      5.98888888888889|      223.08333333333334|         5.98888888888889|         223.08333333333334|   6.133734939759037|    469.72289156626505|                   6|     0|    0|        0|        0|        0|     0|    1|          0|    0|     0|      0|        0|      0|     0|    0|      0|      0|   0|         0|      0|     0|    0|        0|       1|  0|      0|\n",
      "|tt0002628|          Der Andere|          Der Andere|      0|     1913|            48|      Drama,Thriller|          5.5|     108|                1|     5.824464285714286|      56.323214285714286|        5.824464285714286|         56.323214285714286|               5.675|                  92.0|                   7|     0|    0|        0|        0|        0|     0|    0|          0|    1|     0|      0|        0|      0|     0|    0|      0|      0|   0|         0|      0|     0|    0|        0|       1|  0|      0|\n",
      "|tt0002844|Fantômas: In the ...|Fantômas - À l'om...|      0|     1913|            54|         Crime,Drama|          6.9|    2438|                0|      6.71077380952381|       2199.289514652015|         6.71077380952381|          2199.289514652015|   6.957142857142857|     2177.964285714286|                  26|     0|    0|        0|        0|        0|     0|    1|          0|    1|     0|      0|        0|      0|     0|    0|      0|      0|   0|         0|      0|     0|    0|        0|       0|  0|      0|\n",
      "|tt0002917|Brother Against B...|         Gränsfolken|      0|     1913|            51|               Drama|          5.6|      45|                0|     6.383625730994152|       936.0701754385964|        6.383625730994152|          936.0701754385964|   5.798599137931035|    208.54741379310346|                  12|     0|    0|        0|        0|        0|     0|    0|          0|    1|     0|      0|        0|      0|     0|    0|      0|      0|   0|         0|      0|     0|    0|        0|       0|  0|      0|\n",
      "|tt0003037|Fantomas: The Man...|Juve contre Fantômas|      0|     1913|            61|         Crime,Drama|          6.9|    1652|                0|      6.71077380952381|       2199.289514652015|         6.71077380952381|          2199.289514652015|   6.618681318681319|    1108.9835164835165|                  21|     0|    0|        0|        0|        0|     0|    1|          0|    1|     0|      0|        0|      0|     0|    0|      0|      0|   0|         0|      0|     0|    0|        0|       0|  0|      0|\n",
      "|tt0003131|         War Is Hell|Maudite soit la g...|      0|     1914|            50|           Drama,War|          6.6|     181|                0|                 6.525|                   67.25|                    6.525|                      67.25|   6.175000000000001|     41.33333333333333|                  12|     0|    0|        0|        0|        0|     0|    0|          0|    1|     0|      0|        0|      0|     0|    0|      0|      0|   0|         0|      0|     0|    0|        0|       0|  1|      0|\n",
      "|tt0003489|The Last Days of ...|Gli ultimi giorni...|      0|     1913|            88|     Adventure,Drama|          6.1|     609|                0|    5.4850892857142854|       196.5720238095238|       5.4850892857142854|          196.5720238095238|                 6.1|                 609.0|                  18|     0|    0|        1|        0|        0|     0|    0|          0|    1|     0|      0|        0|      0|     0|    0|      0|      0|   0|         0|      0|     0|    0|        0|       0|  0|      0|\n",
      "|tt0003565|   Where Is Coletti?|     Wo ist Coletti?|      0|     1913|            86|        Comedy,Crime|          6.2|      44|                0|    6.1242857142857146|       41.01428571428571|       6.1242857142857146|          41.01428571428571|                5.85|                  76.0|                   4|     0|    0|        0|        0|        0|     1|    1|          0|    0|     0|      0|        0|      0|     0|    0|      0|      0|   0|         0|      0|     0|    0|        0|       0|  0|      0|\n",
      "|tt0003617|             America|             America|      0|     1914|            \\N|           Adventure|          3.3|      22|                1|     3.883333333333333|      28.166666666666668|        3.883333333333333|         28.166666666666668|   4.449999999999999|                 102.0|                   3|     0|    0|        1|        0|        0|     0|    0|          0|    0|     0|      0|        0|      0|     0|    0|      0|      0|   0|         0|      0|     0|    0|        0|       0|  0|      0|\n",
      "|tt0003637|       Assunta Spina|       Assunta Spina|      0|     1915|            72|               Drama|          6.2|     487|                1|     6.166666666666666|                   360.5|        6.166666666666666|                      360.5|   5.699999999999999|    220.16666666666669|                   9|     0|    0|        0|        0|        0|     0|    0|          0|    1|     0|      0|        0|      0|     0|    0|      0|      0|   0|         0|      0|     0|    0|        0|       0|  0|      0|\n",
      "|tt0003657|         The Bargain|         The Bargain|      0|     1914|            70|             Western|          6.5|     235|                1|     5.891815476190476|       93.53720238095238|        5.891815476190476|          93.53720238095238|   5.415384615384616|      93.6923076923077|                   5|     0|    0|        0|        0|        0|     0|    0|          0|    0|     0|      0|        0|      0|     0|    0|      0|      0|   0|         0|      0|     0|    0|        0|       0|  0|      1|\n",
      "|tt0003692|  The Boundary Rider|  The Boundary Rider|      0|     1914|            \\N|     Adventure,Crime|          6.7|      18|                1|     6.109935897435898|       39.36217948717949|        6.109935897435898|          39.36217948717949|   6.171428571428571|                  24.0|                   4|     0|    0|        1|        0|        0|     0|    1|          0|    0|     0|      0|        0|      0|     0|    0|      0|      0|   0|         0|      0|     0|    0|        0|       0|  0|      0|\n",
      "+---------+--------------------+--------------------+-------+---------+--------------+--------------------+-------------+--------+-----------------+----------------------+------------------------+-------------------------+---------------------------+--------------------+----------------------+--------------------+------+-----+---------+---------+---------+------+-----+-----------+-----+------+-------+---------+-------+------+-----+-------+-------+----+----------+-------+------+-----+---------+--------+---+-------+\n",
      "only showing top 20 rows\n",
      "\n"
     ]
    }
   ],
   "source": [
    "titles_features_complete.show()"
   ]
  },
  {
   "cell_type": "code",
   "execution_count": 54,
   "metadata": {},
   "outputs": [
    {
     "data": {
      "text/plain": [
       "231355"
      ]
     },
     "execution_count": 54,
     "metadata": {},
     "output_type": "execute_result"
    }
   ],
   "source": [
    "titles_features_complete.count()"
   ]
  },
  {
   "cell_type": "markdown",
   "metadata": {},
   "source": [
    "## Salvar os dados selecionados"
   ]
  },
  {
   "cell_type": "code",
   "execution_count": 55,
   "metadata": {},
   "outputs": [],
   "source": [
    "# Reduzir o número de partições para 1 antes de salvar\n",
    "titles_features_complete = titles_features_complete.coalesce(1)\n",
    "\n",
    "# Salvar como CSV\n",
    "titles_features_complete.write.mode('overwrite').option('header', 'true').csv('../Data/movies.features.complete.csv')"
   ]
  }
 ],
 "metadata": {
  "kernelspec": {
   "display_name": "bigdata",
   "language": "python",
   "name": "python3"
  },
  "language_info": {
   "codemirror_mode": {
    "name": "ipython",
    "version": 3
   },
   "file_extension": ".py",
   "mimetype": "text/x-python",
   "name": "python",
   "nbconvert_exporter": "python",
   "pygments_lexer": "ipython3",
   "version": "3.12.0"
  },
  "vscode": {
   "interpreter": {
    "hash": "46c5f1f8bb507a4726e7c155d4a75ec806c01f7e7fdb669d746a23308f022d32"
   }
  }
 },
 "nbformat": 4,
 "nbformat_minor": 2
}
