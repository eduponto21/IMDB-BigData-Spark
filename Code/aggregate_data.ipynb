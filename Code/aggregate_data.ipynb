{
 "cells": [
  {
   "cell_type": "code",
   "execution_count": 52,
   "metadata": {},
   "outputs": [],
   "source": [
    "import warnings\n",
    "warnings.filterwarnings(\"ignore\")  # Ignore warnings coming from Arrow optimizations."
   ]
  },
  {
   "cell_type": "code",
   "execution_count": 53,
   "metadata": {},
   "outputs": [],
   "source": [
    "# import os\n",
    "# os.environ['HADOOP_HOME'] = 'Caminho/para/o/Hadoop'\n",
    "# os.environ['JAVA_HOME'] = 'Caminho/para/o/Java'"
   ]
  },
  {
   "cell_type": "code",
   "execution_count": 54,
   "metadata": {},
   "outputs": [],
   "source": [
    "from pyspark.sql import SparkSession\n",
    "from pyspark.sql.functions import *\n",
    "\n",
    "spark = SparkSession.builder.appName('explore_spark') \\\n",
    "    .config('spark.master', 'local') \\\n",
    "    .config(\"spark.executor.memory\", \"8g\") \\\n",
    "    .config(\"spark.executor.instances\", \"3\") \\\n",
    "    .config(\"spark.executor.cores\", \"4\") \\\n",
    "    .getOrCreate()\n",
    "\n",
    "\n",
    "# # Configuração manual das bibliotecas do Hadoop no classpath\n",
    "# spark = SparkSession.builder \\\n",
    "#     .appName(\"NomeDaAplicacao\") \\\n",
    "#     .config(\"spark.driver.extraClassPath\", \"Caminho/para/as/bibliotecas/hadoop.dll\") \\\n",
    "#     .getOrCreate()\n",
    "\n",
    "spark.conf.set(\"spark.sql.execution.arrow.pyspark.enabled\", True)\n",
    "# %timeit ps.range(300000).to_pandas()"
   ]
  },
  {
   "cell_type": "markdown",
   "metadata": {},
   "source": [
    "## Carregar dados dos ratings/votos dos títulos"
   ]
  },
  {
   "cell_type": "code",
   "execution_count": 55,
   "metadata": {},
   "outputs": [],
   "source": [
    "title_ratings = spark.read.load('../Data/title.ratings.tsv', format='csv', sep='\\t', inferSchema=True, header=True)"
   ]
  },
  {
   "cell_type": "code",
   "execution_count": 56,
   "metadata": {},
   "outputs": [
    {
     "name": "stdout",
     "output_type": "stream",
     "text": [
      "+---------+-------------+--------+\n",
      "|   tconst|averageRating|numVotes|\n",
      "+---------+-------------+--------+\n",
      "|tt0000001|          5.7|    2007|\n",
      "|tt0000002|          5.8|     270|\n",
      "+---------+-------------+--------+\n",
      "only showing top 2 rows\n",
      "\n"
     ]
    }
   ],
   "source": [
    "title_ratings.show(2)"
   ]
  },
  {
   "cell_type": "markdown",
   "metadata": {},
   "source": [
    "## Carregar dados dos títulos e concatena os ratings/votos com as informações dos titulos\n",
    "- somente aqueles que possuem rating\n",
    "- somente filmes\n",
    "- somente os que possuem algum gênero"
   ]
  },
  {
   "cell_type": "code",
   "execution_count": 57,
   "metadata": {},
   "outputs": [],
   "source": [
    "title_basics = spark.read.load('../Data/title.basics.tsv', format='csv', sep='\\t', inferSchema=True, header=True)"
   ]
  },
  {
   "cell_type": "code",
   "execution_count": 58,
   "metadata": {},
   "outputs": [
    {
     "name": "stdout",
     "output_type": "stream",
     "text": [
      "+------------+-------+\n",
      "|   titleType|  count|\n",
      "+------------+-------+\n",
      "|   tvEpisode|7909714|\n",
      "|       short| 964958|\n",
      "|       movie| 664652|\n",
      "|       video| 283511|\n",
      "|    tvSeries| 253097|\n",
      "|     tvMovie| 143596|\n",
      "|tvMiniSeries|  51367|\n",
      "|   tvSpecial|  44591|\n",
      "|   videoGame|  36627|\n",
      "|     tvShort|  10084|\n",
      "|     tvPilot|      1|\n",
      "+------------+-------+\n",
      "\n"
     ]
    }
   ],
   "source": [
    "# title_basics.select(col('titleType')).distinct().show()\n",
    "title_basics.groupBy('titleType').count().orderBy(col('count').desc()).show()"
   ]
  },
  {
   "cell_type": "code",
   "execution_count": 59,
   "metadata": {},
   "outputs": [],
   "source": [
    "title_basics = title_basics.filter(title_basics['titleType'] == 'movie')\n",
    "title_basics = title_basics.filter(title_basics['genres'] != '\\\\N')"
   ]
  },
  {
   "cell_type": "code",
   "execution_count": 60,
   "metadata": {},
   "outputs": [],
   "source": [
    "# Realiza um join usando 'tconst' como chave e 'inner' como tipo de join\n",
    "# https://sparkbyexamples.com/pyspark/pyspark-join-explained-with-examples/\n",
    "title_basics_filtered = title_basics.join(title_ratings, ['tconst'], 'inner').drop('titleType', 'endYear')"
   ]
  },
  {
   "cell_type": "code",
   "execution_count": 61,
   "metadata": {},
   "outputs": [
    {
     "data": {
      "text/plain": [
       "590391"
      ]
     },
     "execution_count": 61,
     "metadata": {},
     "output_type": "execute_result"
    }
   ],
   "source": [
    "title_basics.count()"
   ]
  },
  {
   "cell_type": "code",
   "execution_count": 62,
   "metadata": {},
   "outputs": [
    {
     "data": {
      "text/plain": [
       "290648"
      ]
     },
     "execution_count": 62,
     "metadata": {},
     "output_type": "execute_result"
    }
   ],
   "source": [
    "title_basics_filtered.count()"
   ]
  },
  {
   "cell_type": "code",
   "execution_count": 63,
   "metadata": {},
   "outputs": [
    {
     "name": "stdout",
     "output_type": "stream",
     "text": [
      "+-------+------+\n",
      "|isAdult| count|\n",
      "+-------+------+\n",
      "|      0|286094|\n",
      "|      1|  4554|\n",
      "+-------+------+\n",
      "\n"
     ]
    }
   ],
   "source": [
    "title_basics_filtered.groupBy('isAdult').count().show()"
   ]
  },
  {
   "cell_type": "code",
   "execution_count": 64,
   "metadata": {},
   "outputs": [],
   "source": [
    "# Criação da nova coluna com a condição de igualdade\n",
    "title_basics_filtered = title_basics_filtered.withColumn('popularIsOriginal', when(title_basics_filtered['primaryTitle'] == title_basics_filtered['originalTitle'], 1).otherwise(0))"
   ]
  },
  {
   "cell_type": "code",
   "execution_count": 65,
   "metadata": {},
   "outputs": [
    {
     "data": {
      "text/plain": [
       "25405"
      ]
     },
     "execution_count": 65,
     "metadata": {},
     "output_type": "execute_result"
    }
   ],
   "source": [
    "# Filtrar as linhas onde 'runtimeMinutes' é igual a '\\N' e contar o número de ocorrências\n",
    "title_basics_filtered.filter(title_basics_filtered['runtimeMinutes'] == '\\\\N').count()"
   ]
  },
  {
   "cell_type": "code",
   "execution_count": 66,
   "metadata": {},
   "outputs": [
    {
     "name": "stdout",
     "output_type": "stream",
     "text": [
      "+---------+--------------------+--------------------+-------+---------+--------------+--------------------+-------------+--------+-----------------+\n",
      "|   tconst|        primaryTitle|       originalTitle|isAdult|startYear|runtimeMinutes|              genres|averageRating|numVotes|popularIsOriginal|\n",
      "+---------+--------------------+--------------------+-------+---------+--------------+--------------------+-------------+--------+-----------------+\n",
      "|tt0000009|          Miss Jerry|          Miss Jerry|      0|     1894|            45|             Romance|          5.3|     208|                1|\n",
      "|tt0000147|The Corbett-Fitzs...|The Corbett-Fitzs...|      0|     1897|           100|Documentary,News,...|          5.3|     485|                1|\n",
      "|tt0000574|The Story of the ...|The Story of the ...|      0|     1906|            70|Action,Adventure,...|          6.0|     855|                1|\n",
      "|tt0000591|    The Prodigal Son|   L'enfant prodigue|      0|     1907|            90|               Drama|          5.0|      21|                0|\n",
      "|tt0000615|  Robbery Under Arms|  Robbery Under Arms|      0|     1907|            \\N|               Drama|          4.3|      25|                1|\n",
      "|tt0000630|              Hamlet|              Amleto|      0|     1908|            \\N|               Drama|          2.9|      27|                0|\n",
      "|tt0000675|         Don Quijote|         Don Quijote|      0|     1908|            \\N|               Drama|          4.2|      20|                1|\n",
      "|tt0000886|Hamlet, Prince of...|              Hamlet|      0|     1910|            \\N|               Drama|          4.7|      40|                0|\n",
      "|tt0000941|      Locura de amor|      Locura de amor|      0|     1909|            45|               Drama|          4.5|      27|                1|\n",
      "|tt0001028|          Salome Mad|          Salome Mad|      0|     1909|            \\N|              Comedy|          4.0|      20|                1|\n",
      "|tt0001049|      Gøngehøvdingen|      Gøngehøvdingen|      0|     1909|            \\N|           Drama,War|          4.2|      18|                1|\n",
      "|tt0001112|              Amleto|              Amleto|      0|     1910|            \\N|               Drama|          3.8|      45|                1|\n",
      "|tt0001115|       Ansigttyven I|       Ansigttyven I|      0|     1910|            \\N|               Crime|          4.3|      20|                1|\n",
      "|tt0001175|             Camille|La dame aux camélias|      0|     1912|            \\N|       Drama,Romance|          5.1|      42|                0|\n",
      "|tt0001184|Don Juan de Serra...|Don Juan de Serra...|      0|     1910|            58|     Adventure,Drama|          3.8|      21|                1|\n",
      "|tt0001240|              Hamlet|              Hamlet|      0|     1911|            \\N|               Drama|          3.8|      22|                1|\n",
      "|tt0001277|         Kapergasten|         Kapergasten|      0|     1910|            \\N|               Drama|          4.4|      25|                1|\n",
      "|tt0001285|   The Life of Moses|   The Life of Moses|      0|     1909|            50|Biography,Drama,F...|          5.4|      59|                1|\n",
      "|tt0001338|      A Night in May|Maiskaya noch, il...|      0|     1910|            \\N|               Drama|          5.2|      18|                0|\n",
      "|tt0001370|Rainha Depois de ...|Rainha Depois de ...|      0|     1910|            \\N|       Drama,History|          5.3|      25|                1|\n",
      "+---------+--------------------+--------------------+-------+---------+--------------+--------------------+-------------+--------+-----------------+\n",
      "only showing top 20 rows\n",
      "\n"
     ]
    }
   ],
   "source": [
    "title_basics_filtered.show()"
   ]
  },
  {
   "cell_type": "code",
   "execution_count": 67,
   "metadata": {},
   "outputs": [
    {
     "name": "stdout",
     "output_type": "stream",
     "text": [
      "root\n",
      " |-- tconst: string (nullable = true)\n",
      " |-- primaryTitle: string (nullable = true)\n",
      " |-- originalTitle: string (nullable = true)\n",
      " |-- isAdult: string (nullable = true)\n",
      " |-- startYear: string (nullable = true)\n",
      " |-- runtimeMinutes: string (nullable = true)\n",
      " |-- genres: string (nullable = true)\n",
      " |-- averageRating: double (nullable = true)\n",
      " |-- numVotes: integer (nullable = true)\n",
      " |-- popularIsOriginal: integer (nullable = false)\n",
      "\n"
     ]
    }
   ],
   "source": [
    "title_basics_filtered.printSchema()"
   ]
  },
  {
   "cell_type": "markdown",
   "metadata": {},
   "source": [
    "## dumificar 'genres'"
   ]
  },
  {
   "cell_type": "code",
   "execution_count": 68,
   "metadata": {},
   "outputs": [
    {
     "name": "stdout",
     "output_type": "stream",
     "text": [
      "+---------+------+-----+---------+---------+---------+------+-----+-----------+-----+------+-------+---------+-------+------+-----+-------+-------+----+----------+-------+------+-----+---------+--------+---+-------+\n",
      "|   tconst|Action|Adult|Adventure|Animation|Biography|Comedy|Crime|Documentary|Drama|Family|Fantasy|Film-Noir|History|Horror|Music|Musical|Mystery|News|Reality-TV|Romance|Sci-Fi|Sport|Talk-Show|Thriller|War|Western|\n",
      "+---------+------+-----+---------+---------+---------+------+-----+-----------+-----+------+-------+---------+-------+------+-----+-------+-------+----+----------+-------+------+-----+---------+--------+---+-------+\n",
      "|tt0000009|     0|    0|        0|        0|        0|     0|    0|          0|    0|     0|      0|        0|      0|     0|    0|      0|      0|   0|         0|      1|     0|    0|        0|       0|  0|      0|\n",
      "|tt0000147|     0|    0|        0|        0|        0|     0|    0|          1|    0|     0|      0|        0|      0|     0|    0|      0|      0|   1|         0|      0|     0|    1|        0|       0|  0|      0|\n",
      "|tt0000574|     1|    0|        1|        0|        1|     0|    0|          0|    0|     0|      0|        0|      0|     0|    0|      0|      0|   0|         0|      0|     0|    0|        0|       0|  0|      0|\n",
      "|tt0000591|     0|    0|        0|        0|        0|     0|    0|          0|    1|     0|      0|        0|      0|     0|    0|      0|      0|   0|         0|      0|     0|    0|        0|       0|  0|      0|\n",
      "|tt0000615|     0|    0|        0|        0|        0|     0|    0|          0|    1|     0|      0|        0|      0|     0|    0|      0|      0|   0|         0|      0|     0|    0|        0|       0|  0|      0|\n",
      "+---------+------+-----+---------+---------+---------+------+-----+-----------+-----+------+-------+---------+-------+------+-----+-------+-------+----+----------+-------+------+-----+---------+--------+---+-------+\n",
      "only showing top 5 rows\n",
      "\n"
     ]
    }
   ],
   "source": [
    "# Dividir a coluna 'genres' por vírgulas e expandir em colunas\n",
    "genres_split = title_basics_filtered.withColumn('genres', split('genres', ','))\n",
    "\n",
    "# Usar a função explode() para criar múltiplas linhas para cada gênero\n",
    "genres_exploded = genres_split.withColumn('genre', explode('genres'))\n",
    "\n",
    "# Criar dummies para cada gênero usando pivot()\n",
    "dummies = genres_exploded.groupBy('tconst').pivot('genre').agg(lit(1)).fillna(0)\n",
    "\n",
    "# Mostrar o DataFrame resultante com as colunas de dummies para gêneros\n",
    "dummies.show(5)"
   ]
  },
  {
   "cell_type": "code",
   "execution_count": 69,
   "metadata": {},
   "outputs": [
    {
     "name": "stdout",
     "output_type": "stream",
     "text": [
      "root\n",
      " |-- tconst: string (nullable = true)\n",
      " |-- Action: integer (nullable = true)\n",
      " |-- Adult: integer (nullable = true)\n",
      " |-- Adventure: integer (nullable = true)\n",
      " |-- Animation: integer (nullable = true)\n",
      " |-- Biography: integer (nullable = true)\n",
      " |-- Comedy: integer (nullable = true)\n",
      " |-- Crime: integer (nullable = true)\n",
      " |-- Documentary: integer (nullable = true)\n",
      " |-- Drama: integer (nullable = true)\n",
      " |-- Family: integer (nullable = true)\n",
      " |-- Fantasy: integer (nullable = true)\n",
      " |-- Film-Noir: integer (nullable = true)\n",
      " |-- History: integer (nullable = true)\n",
      " |-- Horror: integer (nullable = true)\n",
      " |-- Music: integer (nullable = true)\n",
      " |-- Musical: integer (nullable = true)\n",
      " |-- Mystery: integer (nullable = true)\n",
      " |-- News: integer (nullable = true)\n",
      " |-- Reality-TV: integer (nullable = true)\n",
      " |-- Romance: integer (nullable = true)\n",
      " |-- Sci-Fi: integer (nullable = true)\n",
      " |-- Sport: integer (nullable = true)\n",
      " |-- Talk-Show: integer (nullable = true)\n",
      " |-- Thriller: integer (nullable = true)\n",
      " |-- War: integer (nullable = true)\n",
      " |-- Western: integer (nullable = true)\n",
      "\n"
     ]
    }
   ],
   "source": [
    "dummies.printSchema()"
   ]
  },
  {
   "cell_type": "markdown",
   "metadata": {},
   "source": [
    "## Carregar dados dos atores principais/equipe dos títulos\n",
    "- somente dos titulos que possuem rating\n",
    "- somente filmes\n",
    "- somente os que possuem algum gênero\n",
    "- somente atores/atrizes"
   ]
  },
  {
   "cell_type": "code",
   "execution_count": 70,
   "metadata": {},
   "outputs": [],
   "source": [
    "title_principals = spark.read.load('../Data/title.principals.tsv', format='csv', sep='\\t', inferSchema=True, header=True)"
   ]
  },
  {
   "cell_type": "code",
   "execution_count": 71,
   "metadata": {},
   "outputs": [
    {
     "data": {
      "text/plain": [
       "59388712"
      ]
     },
     "execution_count": 71,
     "metadata": {},
     "output_type": "execute_result"
    }
   ],
   "source": [
    "title_principals.count()"
   ]
  },
  {
   "cell_type": "code",
   "execution_count": 72,
   "metadata": {},
   "outputs": [],
   "source": [
    "# Obter os 'tconst' do DataFrame movies\n",
    "tconst_movies = title_basics_filtered.select('tconst')\n",
    "\n",
    "# Filtrar o DataFrame title_principals para manter apenas as linhas em que 'tconst' está presente em movies\n",
    "title_principals_filtered = title_principals.join(tconst_movies, 'tconst', 'inner').drop('job', 'ordering', 'characters')"
   ]
  },
  {
   "cell_type": "code",
   "execution_count": 73,
   "metadata": {},
   "outputs": [
    {
     "data": {
      "text/plain": [
       "2601778"
      ]
     },
     "execution_count": 73,
     "metadata": {},
     "output_type": "execute_result"
    }
   ],
   "source": [
    "title_principals_filtered.count()"
   ]
  },
  {
   "cell_type": "code",
   "execution_count": 74,
   "metadata": {},
   "outputs": [
    {
     "name": "stdout",
     "output_type": "stream",
     "text": [
      "+---------+---------+---------------+\n",
      "|   tconst|   nconst|       category|\n",
      "+---------+---------+---------------+\n",
      "|tt0000941|nm0034453|          actor|\n",
      "|tt0000941|nm0140054|          actor|\n",
      "|tt0000941|nm0243918|          actor|\n",
      "|tt0000941|nm0294022|        actress|\n",
      "|tt0000941|nm0063413|       director|\n",
      "|tt0000941|nm0550220|       director|\n",
      "|tt0000941|nm0848502|         writer|\n",
      "|tt0002026|nm0115982|          actor|\n",
      "|tt0002026|nm0418086|        actress|\n",
      "|tt0002026|nm0027708|          actor|\n",
      "|tt0002026|nm0526167|        actress|\n",
      "|tt0002026|nm0959066|          actor|\n",
      "|tt0002026|nm0259235|       director|\n",
      "|tt0002026|nm0084804|       producer|\n",
      "|tt0002026|nm0064944|          actor|\n",
      "|tt0002026|nm0348052|        actress|\n",
      "|tt0002026|nm0959065|        actress|\n",
      "|tt0002423|nm0913298|cinematographer|\n",
      "|tt0002423|nm0624470|        actress|\n",
      "|tt0002423|nm0417837|          actor|\n",
      "+---------+---------+---------------+\n",
      "only showing top 20 rows\n",
      "\n"
     ]
    }
   ],
   "source": [
    "title_principals_filtered.show()"
   ]
  },
  {
   "cell_type": "code",
   "execution_count": 75,
   "metadata": {},
   "outputs": [
    {
     "name": "stdout",
     "output_type": "stream",
     "text": [
      "+-------------------+\n",
      "|           category|\n",
      "+-------------------+\n",
      "|            actress|\n",
      "|           producer|\n",
      "|             writer|\n",
      "|           composer|\n",
      "|           director|\n",
      "|               self|\n",
      "|              actor|\n",
      "|             editor|\n",
      "|    cinematographer|\n",
      "|      archive_sound|\n",
      "|production_designer|\n",
      "|    archive_footage|\n",
      "+-------------------+\n",
      "\n"
     ]
    }
   ],
   "source": [
    "title_principals_filtered.select('category').distinct().show()"
   ]
  },
  {
   "cell_type": "code",
   "execution_count": 76,
   "metadata": {},
   "outputs": [],
   "source": [
    "# separar as categorias\n",
    "actors = ['actress', 'actor', 'self']\n",
    "producers = ['writer', 'director', 'producer']\n",
    "crew = ['composer', 'editor', 'cinematographer', 'archive_sound', 'production_designer', 'archive_footage']\n",
    "\n",
    "title_principals_filtered_actors = title_principals_filtered.filter(col('category').isin(actors))\n",
    "title_principals_filtered_producers = title_principals_filtered.filter(col('category').isin(producers))\n",
    "title_principals_filtered_crew = title_principals_filtered.filter(col('category').isin(crew))"
   ]
  },
  {
   "cell_type": "code",
   "execution_count": 77,
   "metadata": {},
   "outputs": [
    {
     "data": {
      "text/plain": [
       "1183790"
      ]
     },
     "execution_count": 77,
     "metadata": {},
     "output_type": "execute_result"
    }
   ],
   "source": [
    "title_principals_filtered_actors.count()"
   ]
  },
  {
   "cell_type": "code",
   "execution_count": 78,
   "metadata": {},
   "outputs": [
    {
     "data": {
      "text/plain": [
       "856025"
      ]
     },
     "execution_count": 78,
     "metadata": {},
     "output_type": "execute_result"
    }
   ],
   "source": [
    "title_principals_filtered_producers.count()"
   ]
  },
  {
   "cell_type": "code",
   "execution_count": 79,
   "metadata": {},
   "outputs": [
    {
     "data": {
      "text/plain": [
       "561963"
      ]
     },
     "execution_count": 79,
     "metadata": {},
     "output_type": "execute_result"
    }
   ],
   "source": [
    "title_principals_filtered_crew.count()"
   ]
  },
  {
   "cell_type": "code",
   "execution_count": 80,
   "metadata": {},
   "outputs": [
    {
     "name": "stdout",
     "output_type": "stream",
     "text": [
      "+---------+---------+--------+\n",
      "|   tconst|   nconst|category|\n",
      "+---------+---------+--------+\n",
      "|tt0000630|nm0624446| actress|\n",
      "|tt0000941|nm0034453|   actor|\n",
      "+---------+---------+--------+\n",
      "only showing top 2 rows\n",
      "\n"
     ]
    }
   ],
   "source": [
    "title_principals_filtered_actors.show(2)"
   ]
  },
  {
   "cell_type": "markdown",
   "metadata": {},
   "source": [
    "## Fazer a media de cada grupo pros filmes"
   ]
  },
  {
   "cell_type": "code",
   "execution_count": 81,
   "metadata": {},
   "outputs": [],
   "source": [
    "from pyspark.sql.functions import avg"
   ]
  },
  {
   "cell_type": "code",
   "execution_count": 82,
   "metadata": {},
   "outputs": [],
   "source": [
    "# Etapa 1: Obter todos os títulos associados aos nomes presentes no dataset title_principals_filtered_actors\n",
    "titles_for_names = title_principals_filtered_producers.select('nconst', 'tconst').distinct()"
   ]
  },
  {
   "attachments": {},
   "cell_type": "markdown",
   "metadata": {},
   "source": [
    "### Actors"
   ]
  },
  {
   "cell_type": "code",
   "execution_count": 83,
   "metadata": {},
   "outputs": [],
   "source": [
    "# Etapa 2: Calcular as médias de 'averageRating' e 'numVotes' para esses títulos\n",
    "avg_ratings_votes_actor = titles_for_names.join(title_basics_filtered, 'tconst', 'inner') \\\n",
    "    .groupBy('nconst') \\\n",
    "    .agg(avg('averageRating').alias('avgRating'), avg('numVotes').alias('avgNumVotes'))\n",
    "\n",
    "# Etapa 3: Juntar esses nomes com as médias já calculadas\n",
    "joined_data = avg_ratings_votes_actor.join(titles_for_names, 'nconst', 'inner')\n",
    "\n",
    "joined_data = joined_data.join(title_principals_filtered_actors.select('nconst'), 'nconst', 'inner')\n",
    "\n",
    "# Etapa 4: Calcular as médias dos filmes com base nos nomes associados\n",
    "avg_ratings_per_film_actor = joined_data.groupBy('tconst') \\\n",
    "    .agg(avg('avgRating').alias('avgRatingPerFilm'), avg('avgNumVotes').alias('avgNumVotesPerFilm'))"
   ]
  },
  {
   "cell_type": "code",
   "execution_count": 84,
   "metadata": {},
   "outputs": [
    {
     "name": "stdout",
     "output_type": "stream",
     "text": [
      "+------+---------+-----------+------+\n",
      "|nconst|avgRating|avgNumVotes|tconst|\n",
      "+------+---------+-----------+------+\n",
      "+------+---------+-----------+------+\n",
      "\n"
     ]
    }
   ],
   "source": [
    "joined_data.filter(joined_data['tconst'] == 'tt0001184').show()"
   ]
  },
  {
   "cell_type": "code",
   "execution_count": 85,
   "metadata": {},
   "outputs": [
    {
     "name": "stdout",
     "output_type": "stream",
     "text": [
      "+------+----------------+------------------+\n",
      "|tconst|avgRatingPerFilm|avgNumVotesPerFilm|\n",
      "+------+----------------+------------------+\n",
      "+------+----------------+------------------+\n",
      "\n"
     ]
    }
   ],
   "source": [
    "avg_ratings_per_film_actor.filter(avg_ratings_per_film_actor['tconst'] == 'tt0001184').show()"
   ]
  },
  {
   "cell_type": "code",
   "execution_count": 86,
   "metadata": {},
   "outputs": [
    {
     "name": "stdout",
     "output_type": "stream",
     "text": [
      "+---------+---------+--------------------+--------------------+-------+---------+--------------+---------------+-------------+--------+-----------------+\n",
      "|   tconst|   nconst|        primaryTitle|       originalTitle|isAdult|startYear|runtimeMinutes|         genres|averageRating|numVotes|popularIsOriginal|\n",
      "+---------+---------+--------------------+--------------------+-------+---------+--------------+---------------+-------------+--------+-----------------+\n",
      "|tt0001184|nm0063413|Don Juan de Serra...|Don Juan de Serra...|      0|     1910|            58|Adventure,Drama|          3.8|      21|                1|\n",
      "|tt0001184|nm0550220|Don Juan de Serra...|Don Juan de Serra...|      0|     1910|            58|Adventure,Drama|          3.8|      21|                1|\n",
      "|tt0001184|nm0049370|Don Juan de Serra...|Don Juan de Serra...|      0|     1910|            58|Adventure,Drama|          3.8|      21|                1|\n",
      "+---------+---------+--------------------+--------------------+-------+---------+--------------+---------------+-------------+--------+-----------------+\n",
      "\n"
     ]
    }
   ],
   "source": [
    "test = titles_for_names.join(title_basics_filtered, 'tconst', 'inner')\n",
    "\n",
    "test.filter(test['tconst'] == 'tt0001184').show()"
   ]
  },
  {
   "cell_type": "code",
   "execution_count": null,
   "metadata": {},
   "outputs": [],
   "source": []
  },
  {
   "cell_type": "code",
   "execution_count": 87,
   "metadata": {},
   "outputs": [
    {
     "name": "stdout",
     "output_type": "stream",
     "text": [
      "+------+----------------+------------------+\n",
      "|tconst|avgRatingPerFilm|avgNumVotesPerFilm|\n",
      "+------+----------------+------------------+\n",
      "+------+----------------+------------------+\n",
      "\n"
     ]
    }
   ],
   "source": [
    "avg_ratings_per_film_actor.filter(avg_ratings_per_film_actor['tconst'] == 'tt0001184').show()"
   ]
  },
  {
   "cell_type": "code",
   "execution_count": 88,
   "metadata": {},
   "outputs": [
    {
     "name": "stdout",
     "output_type": "stream",
     "text": [
      "+---------+--------------------+--------------------+-------+---------+--------------+--------------------+-------------+--------+-----------------+----------------------+------------------------+\n",
      "|   tconst|        primaryTitle|       originalTitle|isAdult|startYear|runtimeMinutes|              genres|averageRating|numVotes|popularIsOriginal|avgRatingPerFilmActors|avgNumVotesPerFilmActors|\n",
      "+---------+--------------------+--------------------+-------+---------+--------------+--------------------+-------------+--------+-----------------+----------------------+------------------------+\n",
      "|tt0000147|The Corbett-Fitzs...|The Corbett-Fitzs...|      0|     1897|           100|Documentary,News,...|          5.3|     485|                1|     6.312499999999999|                  865.75|\n",
      "|tt0000630|              Hamlet|              Amleto|      0|     1908|            \\N|               Drama|          2.9|      27|                0|                   4.7|                    25.0|\n",
      "|tt0001028|          Salome Mad|          Salome Mad|      0|     1909|            \\N|              Comedy|          4.0|      20|                1|                 5.275|                    17.5|\n",
      "|tt0001049|      Gøngehøvdingen|      Gøngehøvdingen|      0|     1909|            \\N|           Drama,War|          4.2|      18|                1|                   4.2|                    18.0|\n",
      "|tt0001115|       Ansigttyven I|       Ansigttyven I|      0|     1910|            \\N|               Crime|          4.3|      20|                1|     4.383333333333333|      21.166666666666664|\n",
      "+---------+--------------------+--------------------+-------+---------+--------------+--------------------+-------------+--------+-----------------+----------------------+------------------------+\n",
      "only showing top 5 rows\n",
      "\n"
     ]
    }
   ],
   "source": [
    "title_basics_filtered_final = title_basics_filtered.join(avg_ratings_per_film_actor, 'tconst', 'inner')\n",
    "\n",
    "title_basics_filtered_final = title_basics_filtered_final.withColumnRenamed(\"avgRatingPerFilm\", \"avgRatingPerFilmActors\")\n",
    "title_basics_filtered_final = title_basics_filtered_final.withColumnRenamed(\"avgNumVotesPerFilm\", \"avgNumVotesPerFilmActors\")\n",
    "\n",
    "title_basics_filtered_final.show(5)"
   ]
  },
  {
   "attachments": {},
   "cell_type": "markdown",
   "metadata": {},
   "source": [
    "### Producers"
   ]
  },
  {
   "cell_type": "code",
   "execution_count": 89,
   "metadata": {},
   "outputs": [],
   "source": [
    "# Etapa 2: Calcular as médias de 'averageRating' e 'numVotes' para esses títulos\n",
    "avg_ratings_votes_producer = titles_for_names.join(title_basics_filtered, 'tconst', 'inner') \\\n",
    "    .groupBy('nconst') \\\n",
    "    .agg(avg('averageRating').alias('avgRating'), avg('numVotes').alias('avgNumVotes'))\n",
    "\n",
    "# Etapa 3: Juntar esses nomes com as médias já calculadas\n",
    "joined_data = avg_ratings_votes_producer.join(titles_for_names, 'nconst', 'inner')\n",
    "\n",
    "joined_data = joined_data.join(title_principals_filtered_producers.select('nconst'), 'nconst', 'inner')\n",
    "\n",
    "# Etapa 4: Calcular as médias dos filmes com base nos nomes associados\n",
    "avg_ratings_per_film_producer = joined_data.groupBy('tconst') \\\n",
    "    .agg(avg('avgRating').alias('avgRatingPerFilm'), avg('avgNumVotes').alias('avgNumVotesPerFilm'))"
   ]
  },
  {
   "cell_type": "code",
   "execution_count": 90,
   "metadata": {},
   "outputs": [
    {
     "name": "stdout",
     "output_type": "stream",
     "text": [
      "+---------+------------------+-----------+---------+\n",
      "|   nconst|         avgRating|avgNumVotes|   tconst|\n",
      "+---------+------------------+-----------+---------+\n",
      "|nm0049370|               4.9|       31.0|tt0001184|\n",
      "|nm0049370|               4.9|       31.0|tt0001184|\n",
      "|nm0063413| 4.766666666666667|       24.0|tt0001184|\n",
      "|nm0063413| 4.766666666666667|       24.0|tt0001184|\n",
      "|nm0063413| 4.766666666666667|       24.0|tt0001184|\n",
      "|nm0550220|3.9333333333333336|       21.0|tt0001184|\n",
      "|nm0550220|3.9333333333333336|       21.0|tt0001184|\n",
      "|nm0550220|3.9333333333333336|       21.0|tt0001184|\n",
      "+---------+------------------+-----------+---------+\n",
      "\n"
     ]
    }
   ],
   "source": [
    "joined_data.filter(joined_data['tconst'] == 'tt0001184').show()"
   ]
  },
  {
   "cell_type": "code",
   "execution_count": 91,
   "metadata": {},
   "outputs": [
    {
     "name": "stdout",
     "output_type": "stream",
     "text": [
      "+------+----------------+------------------+\n",
      "|tconst|avgRatingPerFilm|avgNumVotesPerFilm|\n",
      "+------+----------------+------------------+\n",
      "+------+----------------+------------------+\n",
      "\n"
     ]
    }
   ],
   "source": [
    "avg_ratings_per_film_actor.filter(avg_ratings_per_film_actor['tconst'] == 'tt0001184').show()"
   ]
  },
  {
   "cell_type": "code",
   "execution_count": 92,
   "metadata": {},
   "outputs": [
    {
     "name": "stdout",
     "output_type": "stream",
     "text": [
      "+---------+--------------------+--------------------+-------+---------+--------------+--------------------+-------------+--------+-----------------+----------------------+------------------------+-------------------------+---------------------------+\n",
      "|   tconst|        primaryTitle|       originalTitle|isAdult|startYear|runtimeMinutes|              genres|averageRating|numVotes|popularIsOriginal|avgRatingPerFilmActors|avgNumVotesPerFilmActors|avgRatingPerFilmProducers|avgNumVotesPerFilmProducers|\n",
      "+---------+--------------------+--------------------+-------+---------+--------------+--------------------+-------------+--------+-----------------+----------------------+------------------------+-------------------------+---------------------------+\n",
      "|tt0000147|The Corbett-Fitzs...|The Corbett-Fitzs...|      0|     1897|           100|Documentary,News,...|          5.3|     485|                1|     6.312499999999999|                  865.75|        6.199999999999999|          823.4444444444445|\n",
      "|tt0000630|              Hamlet|              Amleto|      0|     1908|            \\N|               Drama|          2.9|      27|                0|                   4.7|                    25.0|        6.538987341772123|          4956.288607594918|\n",
      "|tt0001028|          Salome Mad|          Salome Mad|      0|     1909|            \\N|              Comedy|          4.0|      20|                1|                 5.275|                    17.5|        6.009523809523811|         29.238095238095237|\n",
      "|tt0001049|      Gøngehøvdingen|      Gøngehøvdingen|      0|     1909|            \\N|           Drama,War|          4.2|      18|                1|                   4.2|                    18.0|                      4.2|                       18.0|\n",
      "|tt0001115|       Ansigttyven I|       Ansigttyven I|      0|     1910|            \\N|               Crime|          4.3|      20|                1|     4.383333333333333|      21.166666666666664|        4.424999999999999|         21.749999999999996|\n",
      "+---------+--------------------+--------------------+-------+---------+--------------+--------------------+-------------+--------+-----------------+----------------------+------------------------+-------------------------+---------------------------+\n",
      "only showing top 5 rows\n",
      "\n"
     ]
    }
   ],
   "source": [
    "title_basics_filtered_final = title_basics_filtered_final.join(avg_ratings_per_film_producer, 'tconst', 'inner')\n",
    "\n",
    "title_basics_filtered_final = title_basics_filtered_final.withColumnRenamed(\"avgRatingPerFilm\", \"avgRatingPerFilmProducers\")\n",
    "title_basics_filtered_final = title_basics_filtered_final.withColumnRenamed(\"avgNumVotesPerFilm\", \"avgNumVotesPerFilmProducers\")\n",
    "\n",
    "title_basics_filtered_final.show(5)"
   ]
  },
  {
   "attachments": {},
   "cell_type": "markdown",
   "metadata": {},
   "source": [
    "### Crew"
   ]
  },
  {
   "cell_type": "code",
   "execution_count": 93,
   "metadata": {},
   "outputs": [],
   "source": [
    "# Etapa 2: Calcular as médias de 'averageRating' e 'numVotes' para esses títulos\n",
    "avg_ratings_votes_crew = titles_for_names.join(title_basics_filtered, 'tconst', 'inner') \\\n",
    "    .groupBy('nconst') \\\n",
    "    .agg(avg('averageRating').alias('avgRating'), avg('numVotes').alias('avgNumVotes'))\n",
    "\n",
    "# Etapa 3: Juntar esses nomes com as médias já calculadas\n",
    "joined_data = avg_ratings_votes_crew.join(titles_for_names, 'nconst', 'inner')\n",
    "\n",
    "joined_data = joined_data.join(title_principals_filtered_crew.select('nconst'), 'nconst', 'inner')\n",
    "\n",
    "# Etapa 4: Calcular as médias dos filmes com base nos nomes associados\n",
    "avg_ratings_per_film_crew = joined_data.groupBy('tconst') \\\n",
    "    .agg(avg('avgRating').alias('avgRatingPerFilm'), avg('avgNumVotes').alias('avgNumVotesPerFilm'))"
   ]
  },
  {
   "cell_type": "code",
   "execution_count": 94,
   "metadata": {},
   "outputs": [
    {
     "name": "stdout",
     "output_type": "stream",
     "text": [
      "+------+---------+-----------+------+\n",
      "|nconst|avgRating|avgNumVotes|tconst|\n",
      "+------+---------+-----------+------+\n",
      "+------+---------+-----------+------+\n",
      "\n"
     ]
    }
   ],
   "source": [
    "joined_data.filter(joined_data['tconst'] == 'tt0001184').show()"
   ]
  },
  {
   "cell_type": "code",
   "execution_count": 95,
   "metadata": {},
   "outputs": [
    {
     "name": "stdout",
     "output_type": "stream",
     "text": [
      "+------+----------------+------------------+\n",
      "|tconst|avgRatingPerFilm|avgNumVotesPerFilm|\n",
      "+------+----------------+------------------+\n",
      "+------+----------------+------------------+\n",
      "\n"
     ]
    }
   ],
   "source": [
    "avg_ratings_per_film_crew.filter(avg_ratings_per_film_crew['tconst'] == 'tt0001184').show()"
   ]
  },
  {
   "cell_type": "code",
   "execution_count": 96,
   "metadata": {},
   "outputs": [
    {
     "name": "stdout",
     "output_type": "stream",
     "text": [
      "+---------+--------------------+--------------------+-------+---------+--------------+--------------------+-------------+--------+-----------------+----------------------+------------------------+-------------------------+---------------------------+--------------------+----------------------+\n",
      "|   tconst|        primaryTitle|       originalTitle|isAdult|startYear|runtimeMinutes|              genres|averageRating|numVotes|popularIsOriginal|avgRatingPerFilmActors|avgNumVotesPerFilmActors|avgRatingPerFilmProducers|avgNumVotesPerFilmProducers|avgRatingPerFilmCrew|avgNumVotesPerFilmCrew|\n",
      "+---------+--------------------+--------------------+-------+---------+--------------+--------------------+-------------+--------+-----------------+----------------------+------------------------+-------------------------+---------------------------+--------------------+----------------------+\n",
      "|tt0001911|         Nell Gwynne|Sweet Nell of Old...|      0|     1911|            50|Biography,Drama,H...|          3.6|      24|                0|     6.180000000000001|                   120.4|                   5.2125|                      84.25|   6.180000000000001|                 120.4|\n",
      "|tt0002514|    Saved in Mid-Air|  De svarta maskerna|      0|     1912|            60|               Drama|          4.9|      18|                0|     6.347368421052631|      384.94736842105266|        6.407142857142859|          497.5357142857147|   6.347368421052631|    384.94736842105266|\n",
      "|tt0002917|Brother Against B...|         Gränsfolken|      0|     1913|            51|               Drama|          5.6|      45|                0|     6.347368421052631|      384.94736842105266|        6.405000000000006|         1636.7999999999984|   6.347368421052631|    384.94736842105266|\n",
      "|tt0003014|       Ingeborg Holm|       Ingeborg Holm|      0|     1913|            96|               Drama|          7.0|    1380|                1|     6.931818181818185|      1108.1363636363637|        6.934782608695655|         1119.9565217391307|   6.931818181818182|    1108.1363636363637|\n",
      "|tt0003698| Brewster's Millions| Brewster's Millions|      0|     1914|            \\N|              Comedy|          6.5|      53|                1|     5.770490506329113|      404.86471518987355|         6.18264462809918|         1707.8429752066108|    6.31392405063291|    1918.4177215189873|\n",
      "+---------+--------------------+--------------------+-------+---------+--------------+--------------------+-------------+--------+-----------------+----------------------+------------------------+-------------------------+---------------------------+--------------------+----------------------+\n",
      "only showing top 5 rows\n",
      "\n"
     ]
    }
   ],
   "source": [
    "title_basics_filtered_final = title_basics_filtered_final.join(avg_ratings_per_film_crew, 'tconst', 'inner')\n",
    "\n",
    "title_basics_filtered_final = title_basics_filtered_final.withColumnRenamed(\"avgRatingPerFilm\", \"avgRatingPerFilmCrew\")\n",
    "title_basics_filtered_final = title_basics_filtered_final.withColumnRenamed(\"avgNumVotesPerFilm\", \"avgNumVotesPerFilmCrew\")\n",
    "\n",
    "title_basics_filtered_final.show(5)"
   ]
  },
  {
   "cell_type": "markdown",
   "metadata": {},
   "source": [
    "## Analisar titulos localizados"
   ]
  },
  {
   "cell_type": "code",
   "execution_count": 97,
   "metadata": {},
   "outputs": [],
   "source": [
    "title_akas = spark.read.load('../Data/title.akas.tsv', format='csv', sep='\\t', inferSchema=True, header=True)"
   ]
  },
  {
   "cell_type": "code",
   "execution_count": 98,
   "metadata": {},
   "outputs": [
    {
     "name": "stdout",
     "output_type": "stream",
     "text": [
      "+---------+--------+--------------------+------+--------+-----------+--------------------+---------------+\n",
      "|  titleId|ordering|               title|region|language|      types|          attributes|isOriginalTitle|\n",
      "+---------+--------+--------------------+------+--------+-----------+--------------------+---------------+\n",
      "|tt0000001|       1|          Карменсіта|    UA|      \\N|imdbDisplay|                  \\N|              0|\n",
      "|tt0000001|       2|          Carmencita|    DE|      \\N|         \\N|       literal title|              0|\n",
      "|tt0000001|       3|Carmencita - span...|    HU|      \\N|imdbDisplay|                  \\N|              0|\n",
      "|tt0000001|       4|          Καρμενσίτα|    GR|      \\N|imdbDisplay|                  \\N|              0|\n",
      "|tt0000001|       5|          Карменсита|    RU|      \\N|imdbDisplay|                  \\N|              0|\n",
      "|tt0000001|       6|          Carmencita|    US|      \\N|imdbDisplay|                  \\N|              0|\n",
      "|tt0000001|       7|          Carmencita|    \\N|      \\N|   original|                  \\N|              1|\n",
      "|tt0000001|       8|      カルメンチータ|    JP|      ja|imdbDisplay|                  \\N|              0|\n",
      "|tt0000002|       1|Le clown et ses c...|    \\N|      \\N|   original|                  \\N|              1|\n",
      "|tt0000002|       2|Le clown et ses c...|    FR|      \\N|imdbDisplay|                  \\N|              0|\n",
      "|tt0000002|       3|   A bohóc és kutyái|    HU|      \\N|imdbDisplay|                  \\N|              0|\n",
      "|tt0000002|       4|Der Clown und sei...|    DE|      \\N|         \\N|       literal title|              0|\n",
      "|tt0000002|       5|Clovnul si cainii...|    RO|      \\N|imdbDisplay|                  \\N|              0|\n",
      "|tt0000002|       6|  Клоун и его собаки|    RU|      \\N|imdbDisplay|                  \\N|              0|\n",
      "|tt0000002|       7|The Clown and His...|    US|      \\N|         \\N|literal English t...|              0|\n",
      "|tt0000002|       8|          道化師と犬|    JP|      ja|imdbDisplay|                  \\N|              0|\n",
      "|tt0000003|       1|    Sarmanul Pierrot|    RO|      \\N|imdbDisplay|                  \\N|              0|\n",
      "|tt0000003|       2|     Szegény Pierrot|    HU|      \\N|imdbDisplay|                  \\N|              0|\n",
      "|tt0000003|       3|        哀れなピエロ|    JP|      ja|imdbDisplay|                  \\N|              0|\n",
      "|tt0000003|       4|        Бідний П'єро|    UA|      \\N|imdbDisplay|                  \\N|              0|\n",
      "+---------+--------+--------------------+------+--------+-----------+--------------------+---------------+\n",
      "only showing top 20 rows\n",
      "\n"
     ]
    }
   ],
   "source": [
    "title_akas.show()"
   ]
  },
  {
   "cell_type": "code",
   "execution_count": 99,
   "metadata": {},
   "outputs": [],
   "source": [
    "# Obter os 'tconst' do DataFrame movies\n",
    "# tconst_movies contém os IDs de filmes já selecionados\n",
    "\n",
    "# filtrar somente as entradas de titulos que estamos considerando\n",
    "title_akas_filtered = title_akas.join(tconst_movies, title_akas['titleId'] == tconst_movies['tconst'], 'inner')"
   ]
  },
  {
   "cell_type": "code",
   "execution_count": 100,
   "metadata": {},
   "outputs": [
    {
     "name": "stdout",
     "output_type": "stream",
     "text": [
      "+---------+--------+--------------------+------+--------+-----------+--------------------+---------------+---------+\n",
      "|  titleId|ordering|               title|region|language|      types|          attributes|isOriginalTitle|   tconst|\n",
      "+---------+--------+--------------------+------+--------+-----------+--------------------+---------------+---------+\n",
      "|tt0000941|       1|      Locura de amor|    \\N|      \\N|   original|                  \\N|              1|tt0000941|\n",
      "|tt0000941|       2|          Love Crazy|   XWW|      en|         \\N|informal literal ...|              0|tt0000941|\n",
      "|tt0000941|       3|      Locura de amor|    ES|      \\N|imdbDisplay|                  \\N|              0|tt0000941|\n",
      "|tt0002026|       1|Anny - en gatepig...|    NO|      \\N|imdbDisplay|                  \\N|              0|tt0002026|\n",
      "|tt0002026|       2|Anny - Story of a...|   XWW|      en|         \\N|                  \\N|              0|tt0002026|\n",
      "|tt0002026|       3|Anny - en gatepig...|    \\N|      \\N|   original|                  \\N|              1|tt0002026|\n",
      "|tt0002423|      10|     Kungens Mätress|    SE|      \\N|         \\N|                  \\N|              0|tt0002423|\n",
      "|tt0002423|      11|          パッション|    JP|      ja|imdbDisplay|                  \\N|              0|tt0002423|\n",
      "|tt0002423|      12|             Passion|    FR|      \\N|imdbDisplay|                  \\N|              0|tt0002423|\n",
      "|tt0002423|      13|      Madame DuBarry|    PL|      \\N|         \\N|                  \\N|              0|tt0002423|\n",
      "|tt0002423|      14|      Madame DuBarry|    GB|      \\N|imdbDisplay|                  \\N|              0|tt0002423|\n",
      "|tt0002423|      15|        Мадам ДюБари|    BG|      bg|imdbDisplay|                  \\N|              0|tt0002423|\n",
      "|tt0002423|      16|      Madame Dubarry|    HU|      \\N|imdbDisplay|                  \\N|              0|tt0002423|\n",
      "|tt0002423|      17|      Madame DuBarry|    ES|      \\N|imdbDisplay|                  \\N|              0|tt0002423|\n",
      "|tt0002423|      18|      Madame DuBarry|    BR|      \\N|         \\N|                  \\N|              0|tt0002423|\n",
      "|tt0002423|       1|      Madame DuBarry|    \\N|      \\N|   original|                  \\N|              1|tt0002423|\n",
      "|tt0002423|       2|             Passion|    US|      \\N|imdbDisplay|                  \\N|              0|tt0002423|\n",
      "|tt0002423|       3|      Madame DuBarry|    DK|      \\N|imdbDisplay|                  \\N|              0|tt0002423|\n",
      "|tt0002423|       4|       Мадам ДюБарри|    RU|      \\N|imdbDisplay|                  \\N|              0|tt0002423|\n",
      "|tt0002423|       5|         La Du Barry|    FR|      \\N|         \\N|       reissue title|              0|tt0002423|\n",
      "+---------+--------+--------------------+------+--------+-----------+--------------------+---------------+---------+\n",
      "only showing top 20 rows\n",
      "\n"
     ]
    }
   ],
   "source": [
    "title_akas_filtered.show()"
   ]
  },
  {
   "cell_type": "code",
   "execution_count": 101,
   "metadata": {},
   "outputs": [
    {
     "name": "stdout",
     "output_type": "stream",
     "text": [
      "+---------+--------------------+\n",
      "|   tconst|numberOfTranslations|\n",
      "+---------+--------------------+\n",
      "|tt0000147|                   3|\n",
      "|tt0000574|                   9|\n",
      "|tt0000630|                   5|\n",
      "|tt0000675|                   2|\n",
      "|tt0000886|                   4|\n",
      "|tt0000941|                   3|\n",
      "|tt0001028|                   2|\n",
      "|tt0001049|                   3|\n",
      "|tt0001112|                   4|\n",
      "|tt0001115|                   2|\n",
      "|tt0001184|                   2|\n",
      "|tt0001277|                   2|\n",
      "|tt0001338|                   3|\n",
      "|tt0001370|                   2|\n",
      "|tt0001440|                   3|\n",
      "|tt0001498|                   4|\n",
      "|tt0001530|                   3|\n",
      "|tt0001790|                   6|\n",
      "|tt0001812|                   2|\n",
      "|tt0001911|                   5|\n",
      "+---------+--------------------+\n",
      "only showing top 20 rows\n",
      "\n"
     ]
    }
   ],
   "source": [
    "title_akas_filtered_translations = title_akas_filtered.groupBy('tconst').count().withColumnRenamed('count', 'numberOfTranslations')\n",
    "title_akas_filtered_translations.show()"
   ]
  },
  {
   "cell_type": "markdown",
   "metadata": {},
   "source": [
    "## Agregar dataset de features"
   ]
  },
  {
   "cell_type": "code",
   "execution_count": 102,
   "metadata": {},
   "outputs": [
    {
     "name": "stdout",
     "output_type": "stream",
     "text": [
      "+---------+--------------------+--------------------+-------+---------+--------------+--------------------+-------------+--------+-----------------+----------------------+------------------------+-------------------------+---------------------------+--------------------+----------------------+\n",
      "|   tconst|        primaryTitle|       originalTitle|isAdult|startYear|runtimeMinutes|              genres|averageRating|numVotes|popularIsOriginal|avgRatingPerFilmActors|avgNumVotesPerFilmActors|avgRatingPerFilmProducers|avgNumVotesPerFilmProducers|avgRatingPerFilmCrew|avgNumVotesPerFilmCrew|\n",
      "+---------+--------------------+--------------------+-------+---------+--------------+--------------------+-------------+--------+-----------------+----------------------+------------------------+-------------------------+---------------------------+--------------------+----------------------+\n",
      "|tt0001911|         Nell Gwynne|Sweet Nell of Old...|      0|     1911|            50|Biography,Drama,H...|          3.6|      24|                0|     6.180000000000001|                   120.4|                   5.2125|                      84.25|   6.180000000000001|                 120.4|\n",
      "|tt0002514|    Saved in Mid-Air|  De svarta maskerna|      0|     1912|            60|               Drama|          4.9|      18|                0|     6.347368421052631|      384.94736842105266|        6.407142857142859|          497.5357142857147|   6.347368421052631|    384.94736842105266|\n",
      "|tt0002917|Brother Against B...|         Gränsfolken|      0|     1913|            51|               Drama|          5.6|      45|                0|     6.347368421052631|      384.94736842105266|        6.405000000000006|         1636.7999999999984|   6.347368421052631|    384.94736842105266|\n",
      "|tt0003014|       Ingeborg Holm|       Ingeborg Holm|      0|     1913|            96|               Drama|          7.0|    1380|                1|     6.931818181818185|      1108.1363636363637|        6.934782608695655|         1119.9565217391307|   6.931818181818182|    1108.1363636363637|\n",
      "|tt0003698| Brewster's Millions| Brewster's Millions|      0|     1914|            \\N|              Comedy|          6.5|      53|                1|     5.770490506329113|      404.86471518987355|         6.18264462809918|         1707.8429752066108|    6.31392405063291|    1918.4177215189873|\n",
      "|tt0004013|   The Ghost Breaker|   The Ghost Breaker|      0|     1914|            60|    Adventure,Horror|          4.5|      42|                1|     5.770490506329113|      404.86471518987355|        6.168823529411772|         1090.4647058823527|    6.31392405063291|    1918.4177215189873|\n",
      "|tt0004047|          Half Breed|            Halvblod|      0|     1913|            69|               Drama|          7.0|      12|                0|     6.931818181818185|      1108.1363636363637|        6.864000000000002|          979.2400000000001|   6.931818181818182|    1108.1363636363637|\n",
      "|tt0004099|His Majesty, the ...|His Majesty, the ...|      0|     1914|            59|Adventure,Comedy,...|          5.4|     516|                1|     5.532233044733056|       733.2855339105361|        5.489655172413791|          23737.96551724139|  5.7250000000000005|                278.75|\n",
      "|tt0004207|   The Last Egyptian|   The Last Egyptian|      0|     1914|            \\N|Adventure,Drama,R...|          5.2|      24|                1|     5.440909090909091|       31190.31818181818|        5.484615384615382|         26434.692307692316|  5.7250000000000005|                278.75|\n",
      "|tt0004223|The Life of Gener...|The Life of Gener...|      0|     1914|           105|Action,Adventure,...|          6.3|      70|                1|     6.004504504504505|       1896.063063063063|        5.892682926829285|         1285.6487804878084|   6.004504504504505|     1896.063063063063|\n",
      "|tt0004294|   The Man from Home|   The Man from Home|      0|     1914|            \\N|               Drama|          6.6|      22|                1|      6.31392405063291|      1918.4177215189873|        6.318253968253971|         1611.1984126984075|    6.31392405063291|    1918.4177215189873|\n",
      "|tt0004387|   Down with Weapons|    Ned med Vaabnene|      0|     1914|            73|           Drama,War|          6.0|      46|                0|     6.107692307692308|       94.15384615384616|        6.543333333333333|         4180.7666666666655|  6.9312499999999995|             7759.5625|\n",
      "|tt0004457|The Patchwork Gir...|The Patchwork Gir...|      0|     1914|            81|Adventure,Comedy,...|          5.5|     554|                1|     5.532233044733056|       733.2855339105361|       5.4899999999999975|          22965.16666666668|            5.696875|             313.15625|\n",
      "|tt0004465|The Perils of Pau...|The Perils of Pau...|      0|     1914|           199|Action,Adventure,...|          6.4|    1074|                1|     6.072289156626506|       319.8192771084337|       6.0447916666666694|         399.96874999999915|   6.010869565217392|    185.32608695652175|\n",
      "|tt0004545|  Rose of the Rancho|  Rose of the Rancho|      0|     1914|            50|Action,Adventure,...|          3.1|      42|                1|      6.31392405063291|      1918.4177215189873|        6.204807692307692|         1534.8269230769204|    6.31392405063291|    1918.4177215189873|\n",
      "|tt0004555|         Salomy Jane|         Salomy Jane|      0|     1914|            85| Crime,Drama,Western|          5.8|      69|                1|                   5.1|                    42.0|        5.670192307692291|          276.0769230769231|   5.589873417721519|     283.9746835443038|\n",
      "|tt0004635|       The Squaw Man|       The Squaw Man|      0|     1914|            74|Action,Drama,Romance|          5.7|    1025|                1|     5.770490506329113|      404.86471518987355|        6.205208333333342|         1621.6354166666667|    6.31392405063291|    1918.4177215189873|\n",
      "|tt0004766|       The Virginian|       The Virginian|      0|     1914|            55|             Western|          5.6|     240|                1|      6.31392405063291|      1918.4177215189873|        6.278409090909096|         1777.6022727272712|    6.31392405063291|    1918.4177215189873|\n",
      "|tt0004866|          After Five|          After Five|      0|     1915|            50|     Comedy,Thriller|          4.0|      24|                1|     5.770490506329113|      404.86471518987355|         6.25496183206106|          1241.610687022901|    6.31392405063291|    1918.4177215189873|\n",
      "|tt0004905|            The Arab|            The Arab|      0|     1915|            50|     Adventure,Drama|          5.2|      51|                1|      6.31392405063291|      1918.4177215189873|       6.3139240506329175|         1918.4177215189854|    6.31392405063291|    1918.4177215189873|\n",
      "+---------+--------------------+--------------------+-------+---------+--------------+--------------------+-------------+--------+-----------------+----------------------+------------------------+-------------------------+---------------------------+--------------------+----------------------+\n",
      "only showing top 20 rows\n",
      "\n"
     ]
    }
   ],
   "source": [
    "title_basics_filtered_final.show()"
   ]
  },
  {
   "cell_type": "code",
   "execution_count": 103,
   "metadata": {},
   "outputs": [],
   "source": [
    "titles_features_complete = title_basics_filtered_final.join(title_akas_filtered_translations, 'tconst', 'inner')\n",
    "titles_features_complete = titles_features_complete.join(dummies, 'tconst', 'inner')"
   ]
  },
  {
   "cell_type": "code",
   "execution_count": 104,
   "metadata": {},
   "outputs": [
    {
     "name": "stdout",
     "output_type": "stream",
     "text": [
      "+---------+--------------------+--------------------+-------+---------+--------------+--------------------+-------------+--------+-----------------+----------------------+------------------------+-------------------------+---------------------------+--------------------+----------------------+--------------------+------+-----+---------+---------+---------+------+-----+-----------+-----+------+-------+---------+-------+------+-----+-------+-------+----+----------+-------+------+-----+---------+--------+---+-------+\n",
      "|   tconst|        primaryTitle|       originalTitle|isAdult|startYear|runtimeMinutes|              genres|averageRating|numVotes|popularIsOriginal|avgRatingPerFilmActors|avgNumVotesPerFilmActors|avgRatingPerFilmProducers|avgNumVotesPerFilmProducers|avgRatingPerFilmCrew|avgNumVotesPerFilmCrew|numberOfTranslations|Action|Adult|Adventure|Animation|Biography|Comedy|Crime|Documentary|Drama|Family|Fantasy|Film-Noir|History|Horror|Music|Musical|Mystery|News|Reality-TV|Romance|Sci-Fi|Sport|Talk-Show|Thriller|War|Western|\n",
      "+---------+--------------------+--------------------+-------+---------+--------------+--------------------+-------------+--------+-----------------+----------------------+------------------------+-------------------------+---------------------------+--------------------+----------------------+--------------------+------+-----+---------+---------+---------+------+-----+-----------+-----+------+-------+---------+-------+------+-----+-------+-------+----+----------+-------+------+-----+---------+--------+---+-------+\n",
      "|tt0001911|         Nell Gwynne|Sweet Nell of Old...|      0|     1911|            50|Biography,Drama,H...|          3.6|      24|                0|     6.180000000000001|                   120.4|                   5.2125|                      84.25|   6.180000000000001|                 120.4|                   5|     0|    0|        0|        0|        1|     0|    0|          0|    1|     0|      0|        0|      1|     0|    0|      0|      0|   0|         0|      0|     0|    0|        0|       0|  0|      0|\n",
      "|tt0002917|Brother Against B...|         Gränsfolken|      0|     1913|            51|               Drama|          5.6|      45|                0|     6.347368421052631|      384.94736842105266|        6.405000000000006|         1636.7999999999984|   6.347368421052631|    384.94736842105266|                  12|     0|    0|        0|        0|        0|     0|    0|          0|    1|     0|      0|        0|      0|     0|    0|      0|      0|   0|         0|      0|     0|    0|        0|       0|  0|      0|\n",
      "|tt0004099|His Majesty, the ...|His Majesty, the ...|      0|     1914|            59|Adventure,Comedy,...|          5.4|     516|                1|     5.532233044733056|       733.2855339105361|        5.489655172413791|          23737.96551724139|  5.7250000000000005|                278.75|                  10|     0|    0|        1|        0|        0|     1|    0|          0|    0|     1|      0|        0|      0|     0|    0|      0|      0|   0|         0|      0|     0|    0|        0|       0|  0|      0|\n",
      "|tt0004457|The Patchwork Gir...|The Patchwork Gir...|      0|     1914|            81|Adventure,Comedy,...|          5.5|     554|                1|     5.532233044733056|       733.2855339105361|       5.4899999999999975|          22965.16666666668|            5.696875|             313.15625|                   8|     0|    0|        1|        0|        0|     1|    0|          0|    0|     1|      0|        0|      0|     0|    0|      0|      0|   0|         0|      0|     0|    0|        0|       0|  0|      0|\n",
      "|tt0004635|       The Squaw Man|       The Squaw Man|      0|     1914|            74|Action,Drama,Romance|          5.7|    1025|                1|     5.770490506329113|      404.86471518987355|        6.205208333333342|         1621.6354166666667|    6.31392405063291|    1918.4177215189873|                   8|     1|    0|        0|        0|        0|     0|    0|          0|    1|     0|      0|        0|      0|     0|    0|      0|      0|   0|         0|      1|     0|    0|        0|       0|  0|      0|\n",
      "|tt0004766|       The Virginian|       The Virginian|      0|     1914|            55|             Western|          5.6|     240|                1|      6.31392405063291|      1918.4177215189873|        6.278409090909096|         1777.6022727272712|    6.31392405063291|    1918.4177215189873|                   7|     0|    0|        0|        0|        0|     0|    0|          0|    0|     0|      0|        0|      0|     0|    0|      0|      0|   0|         0|      0|     0|    0|        0|       0|  0|      1|\n",
      "|tt0004905|            The Arab|            The Arab|      0|     1915|            50|     Adventure,Drama|          5.2|      51|                1|      6.31392405063291|      1918.4177215189873|       6.3139240506329175|         1918.4177215189854|    6.31392405063291|    1918.4177215189873|                   4|     0|    0|        1|        0|        0|     0|    0|          0|    1|     0|      0|        0|      0|     0|    0|      0|      0|   0|         0|      0|     0|    0|        0|       0|  0|      0|\n",
      "|tt0005061|              Carmen|              Carmen|      0|     1915|            60|               Drama|          4.2|      43|                1|     6.004504504504505|       1896.063063063063|        6.084666666666685|         1568.5266666666712|   6.004504504504505|     1896.063063063063|                   5|     0|    0|        0|        0|        0|     0|    0|          0|    1|     0|      0|        0|      0|     0|    0|      0|      0|   0|         0|      0|     0|    0|        0|       0|  0|      0|\n",
      "|tt0005078|           The Cheat|           The Cheat|      0|     1915|            59|       Drama,Romance|          6.5|    2713|                1|     6.386962025316455|      1479.2088607594937|        6.326470588235305|         1486.8676470588234|    6.31392405063291|    1918.4177215189873|                  14|     0|    0|        0|        0|        0|     0|    0|          0|    1|     0|      0|        0|      0|     0|    0|      0|      0|   0|         0|      1|     0|    0|        0|       0|  0|      0|\n",
      "|tt0005180|The Dawn of a Tom...|The Dawn of a Tom...|      0|     1915|            50|               Drama|          7.1|      26|                1|     6.525000000000003|                   196.5|        6.493999999999999|          2149.700000000003|   6.552173913043478|     89.82608695652173|                   4|     0|    0|        0|        0|        0|     0|    0|          0|    1|     0|      0|        0|      0|     0|    0|      0|      0|   0|         0|      0|     0|    0|        0|       0|  0|      0|\n",
      "|tt0005974|The Romance of El...|The Romance of El...|      0|     1915|            \\N|           Adventure|          6.8|      28|                1|     6.072289156626506|       319.8192771084337|        6.011206896551732|           224.150862068966|   6.010869565217392|    185.32608695652175|                   5|     0|    0|        1|        0|        0|     0|    0|          0|    0|     0|      0|        0|      0|     0|    0|      0|      0|   0|         0|      0|     0|    0|        0|       0|  0|      0|\n",
      "|tt0005997|    The Sable Lorcha|    The Sable Lorcha|      0|     1915|            50|Adventure,Crime,T...|          5.5|      25|                1|     5.961538461538462|       102.6923076923077|        5.900000000000001|          92.33333333333333|   5.961538461538462|     102.6923076923077|                   2|     0|    0|        1|        0|        0|     0|    1|          0|    0|     0|      0|        0|      0|     0|    0|      0|      0|   0|         0|      0|     0|    0|        0|       1|  0|      0|\n",
      "|tt0006357|American Aristocracy|American Aristocracy|      0|     1916|            52|Adventure,Comedy,...|          6.1|     121|                1|     5.961538461538462|       102.6923076923077|        6.248437499999995|         2360.4062499999986|   5.961538461538462|     102.6923076923077|                   6|     0|    0|        1|        0|        0|     1|    0|          0|    1|     0|      0|        0|      0|     0|    0|      0|      0|   0|         0|      0|     0|    0|        0|       0|  0|      0|\n",
      "|tt0006397|      Wolo czawienko|   Balettprimadonnan|      0|     1916|            54|               Drama|          5.6|      65|                0|     6.347368421052631|      384.94736842105266|        6.310000000000001|         368.94999999999993|   6.347368421052631|    384.94736842105266|                  14|     0|    0|        0|        0|        0|     0|    0|          0|    1|     0|      0|        0|      0|     0|    0|      0|      0|   0|         0|      0|     0|    0|        0|       0|  0|      0|\n",
      "|tt0006761|           Havsgamar|           Havsgamar|      0|     1916|            51|         Crime,Drama|          5.9|      93|                1|     6.931818181818185|      1108.1363636363637|        6.674074074074077|          912.0740740740742|   6.931818181818182|    1108.1363636363637|                  14|     0|    0|        0|        0|        0|     0|    1|          0|    1|     0|      0|        0|      0|     0|    0|      0|      0|   0|         0|      0|     0|    0|        0|       0|  0|      0|\n",
      "|tt0006770|The Heart of Nora...|The Heart of Nora...|      0|     1916|            50|               Drama|          6.0|      20|                1|     6.386962025316455|      1479.2088607594937|        6.326470588235305|         1486.8676470588234|    6.31392405063291|    1918.4177215189873|                   4|     0|    0|        0|        0|        0|     0|    0|          0|    1|     0|      0|        0|      0|     0|    0|      0|      0|   0|         0|      0|     0|    0|        0|       0|  0|      0|\n",
      "|tt0006861|An Innocent Magda...|An Innocent Magda...|      0|     1916|            50|               Drama|          6.4|      55|                1|     6.160576923076923|       511.3557692307692|        6.160606060606084|          823.8848484848465|  6.2320754716981135|    1530.7358490566037|                   5|     0|    0|        0|        0|        0|     0|    0|          0|    1|     0|      0|        0|      0|     0|    0|      0|      0|   0|         0|      0|     0|    0|        0|       0|  0|      0|\n",
      "|tt0007100|The Mutiny of the...|The Mutiny of the...|      0|     1916|            55|      Drama,Thriller|          7.7|      35|                1|                  7.32|                   56.35|        6.433333333333334|         106.16666666666667|   6.180000000000001|                 120.4|                   5|     0|    0|        0|        0|        0|     0|    0|          0|    1|     0|      0|        0|      0|     0|    0|      0|      0|   0|         0|      0|     0|    0|        0|       1|  0|      0|\n",
      "|tt0007279|  Rübezahls Hochzeit|  Rübezahls Hochzeit|      0|     1916|            \\N|               Drama|          5.5|      39|                1|     6.025000000000002|                    23.0|                    6.025|                       23.0|               6.025|                  23.0|                   4|     0|    0|        0|        0|        0|     0|    0|          0|    1|     0|      0|        0|      0|     0|    0|      0|      0|   0|         0|      0|     0|    0|        0|       0|  0|      0|\n",
      "|tt0007367|The Social Secretary|The Social Secretary|      0|     1916|            52|        Comedy,Drama|          5.8|     559|                1|     5.993103448275862|       431.9310344827586|        6.214285714285722|         1829.9699248120262|  6.2320754716981135|    1530.7358490566037|                   8|     0|    0|        0|        0|        0|     1|    0|          0|    1|     0|      0|        0|      0|     0|    0|      0|      0|   0|         0|      0|     0|    0|        0|       0|  0|      0|\n",
      "+---------+--------------------+--------------------+-------+---------+--------------+--------------------+-------------+--------+-----------------+----------------------+------------------------+-------------------------+---------------------------+--------------------+----------------------+--------------------+------+-----+---------+---------+---------+------+-----+-----------+-----+------+-------+---------+-------+------+-----+-------+-------+----+----------+-------+------+-----+---------+--------+---+-------+\n",
      "only showing top 20 rows\n",
      "\n"
     ]
    }
   ],
   "source": [
    "titles_features_complete.show()"
   ]
  },
  {
   "cell_type": "code",
   "execution_count": 105,
   "metadata": {},
   "outputs": [
    {
     "data": {
      "text/plain": [
       "25600"
      ]
     },
     "execution_count": 105,
     "metadata": {},
     "output_type": "execute_result"
    }
   ],
   "source": [
    "titles_features_complete.count()"
   ]
  },
  {
   "cell_type": "markdown",
   "metadata": {},
   "source": [
    "## Salvar os dados selecionados"
   ]
  },
  {
   "cell_type": "code",
   "execution_count": 106,
   "metadata": {},
   "outputs": [
    {
     "ename": "Py4JJavaError",
     "evalue": "An error occurred while calling o864.csv.\n: java.lang.RuntimeException: java.io.FileNotFoundException: java.io.FileNotFoundException: HADOOP_HOME and hadoop.home.dir are unset. -see https://wiki.apache.org/hadoop/WindowsProblems\r\n\tat org.apache.hadoop.util.Shell.getWinUtilsPath(Shell.java:735)\r\n\tat org.apache.hadoop.util.Shell.getSetPermissionCommand(Shell.java:270)\r\n\tat org.apache.hadoop.util.Shell.getSetPermissionCommand(Shell.java:286)\r\n\tat org.apache.hadoop.fs.RawLocalFileSystem.setPermission(RawLocalFileSystem.java:978)\r\n\tat org.apache.hadoop.fs.RawLocalFileSystem.mkOneDirWithMode(RawLocalFileSystem.java:660)\r\n\tat org.apache.hadoop.fs.RawLocalFileSystem.mkdirsWithOptionalPermission(RawLocalFileSystem.java:700)\r\n\tat org.apache.hadoop.fs.RawLocalFileSystem.mkdirs(RawLocalFileSystem.java:672)\r\n\tat org.apache.hadoop.fs.RawLocalFileSystem.mkdirsWithOptionalPermission(RawLocalFileSystem.java:699)\r\n\tat org.apache.hadoop.fs.RawLocalFileSystem.mkdirs(RawLocalFileSystem.java:672)\r\n\tat org.apache.hadoop.fs.RawLocalFileSystem.mkdirsWithOptionalPermission(RawLocalFileSystem.java:699)\r\n\tat org.apache.hadoop.fs.RawLocalFileSystem.mkdirs(RawLocalFileSystem.java:672)\r\n\tat org.apache.hadoop.fs.ChecksumFileSystem.mkdirs(ChecksumFileSystem.java:788)\r\n\tat org.apache.hadoop.mapreduce.lib.output.FileOutputCommitter.setupJob(FileOutputCommitter.java:356)\r\n\tat org.apache.spark.internal.io.HadoopMapReduceCommitProtocol.setupJob(HadoopMapReduceCommitProtocol.scala:188)\r\n\tat org.apache.spark.sql.execution.datasources.FileFormatWriter$.writeAndCommit(FileFormatWriter.scala:269)\r\n\tat org.apache.spark.sql.execution.datasources.FileFormatWriter$.executeWrite(FileFormatWriter.scala:304)\r\n\tat org.apache.spark.sql.execution.datasources.FileFormatWriter$.write(FileFormatWriter.scala:190)\r\n\tat org.apache.spark.sql.execution.datasources.InsertIntoHadoopFsRelationCommand.run(InsertIntoHadoopFsRelationCommand.scala:190)\r\n\tat org.apache.spark.sql.execution.command.DataWritingCommandExec.sideEffectResult$lzycompute(commands.scala:113)\r\n\tat org.apache.spark.sql.execution.command.DataWritingCommandExec.sideEffectResult(commands.scala:111)\r\n\tat org.apache.spark.sql.execution.command.DataWritingCommandExec.executeCollect(commands.scala:125)\r\n\tat org.apache.spark.sql.execution.adaptive.AdaptiveSparkPlanExec.$anonfun$executeCollect$1(AdaptiveSparkPlanExec.scala:374)\r\n\tat org.apache.spark.sql.execution.adaptive.AdaptiveSparkPlanExec.withFinalPlanUpdate(AdaptiveSparkPlanExec.scala:402)\r\n\tat org.apache.spark.sql.execution.adaptive.AdaptiveSparkPlanExec.executeCollect(AdaptiveSparkPlanExec.scala:374)\r\n\tat org.apache.spark.sql.execution.QueryExecution$$anonfun$eagerlyExecuteCommands$1.$anonfun$applyOrElse$1(QueryExecution.scala:107)\r\n\tat org.apache.spark.sql.execution.SQLExecution$.$anonfun$withNewExecutionId$6(SQLExecution.scala:125)\r\n\tat org.apache.spark.sql.execution.SQLExecution$.withSQLConfPropagated(SQLExecution.scala:201)\r\n\tat org.apache.spark.sql.execution.SQLExecution$.$anonfun$withNewExecutionId$1(SQLExecution.scala:108)\r\n\tat org.apache.spark.sql.SparkSession.withActive(SparkSession.scala:900)\r\n\tat org.apache.spark.sql.execution.SQLExecution$.withNewExecutionId(SQLExecution.scala:66)\r\n\tat org.apache.spark.sql.execution.QueryExecution$$anonfun$eagerlyExecuteCommands$1.applyOrElse(QueryExecution.scala:107)\r\n\tat org.apache.spark.sql.execution.QueryExecution$$anonfun$eagerlyExecuteCommands$1.applyOrElse(QueryExecution.scala:98)\r\n\tat org.apache.spark.sql.catalyst.trees.TreeNode.$anonfun$transformDownWithPruning$1(TreeNode.scala:461)\r\n\tat org.apache.spark.sql.catalyst.trees.CurrentOrigin$.withOrigin(origin.scala:76)\r\n\tat org.apache.spark.sql.catalyst.trees.TreeNode.transformDownWithPruning(TreeNode.scala:461)\r\n\tat org.apache.spark.sql.catalyst.plans.logical.LogicalPlan.org$apache$spark$sql$catalyst$plans$logical$AnalysisHelper$$super$transformDownWithPruning(LogicalPlan.scala:32)\r\n\tat org.apache.spark.sql.catalyst.plans.logical.AnalysisHelper.transformDownWithPruning(AnalysisHelper.scala:267)\r\n\tat org.apache.spark.sql.catalyst.plans.logical.AnalysisHelper.transformDownWithPruning$(AnalysisHelper.scala:263)\r\n\tat org.apache.spark.sql.catalyst.plans.logical.LogicalPlan.transformDownWithPruning(LogicalPlan.scala:32)\r\n\tat org.apache.spark.sql.catalyst.plans.logical.LogicalPlan.transformDownWithPruning(LogicalPlan.scala:32)\r\n\tat org.apache.spark.sql.catalyst.trees.TreeNode.transformDown(TreeNode.scala:437)\r\n\tat org.apache.spark.sql.execution.QueryExecution.eagerlyExecuteCommands(QueryExecution.scala:98)\r\n\tat org.apache.spark.sql.execution.QueryExecution.commandExecuted$lzycompute(QueryExecution.scala:85)\r\n\tat org.apache.spark.sql.execution.QueryExecution.commandExecuted(QueryExecution.scala:83)\r\n\tat org.apache.spark.sql.execution.QueryExecution.assertCommandExecuted(QueryExecution.scala:142)\r\n\tat org.apache.spark.sql.DataFrameWriter.runCommand(DataFrameWriter.scala:859)\r\n\tat org.apache.spark.sql.DataFrameWriter.saveToV1Source(DataFrameWriter.scala:388)\r\n\tat org.apache.spark.sql.DataFrameWriter.saveInternal(DataFrameWriter.scala:361)\r\n\tat org.apache.spark.sql.DataFrameWriter.save(DataFrameWriter.scala:240)\r\n\tat org.apache.spark.sql.DataFrameWriter.csv(DataFrameWriter.scala:850)\r\n\tat sun.reflect.NativeMethodAccessorImpl.invoke0(Native Method)\r\n\tat sun.reflect.NativeMethodAccessorImpl.invoke(Unknown Source)\r\n\tat sun.reflect.DelegatingMethodAccessorImpl.invoke(Unknown Source)\r\n\tat java.lang.reflect.Method.invoke(Unknown Source)\r\n\tat py4j.reflection.MethodInvoker.invoke(MethodInvoker.java:244)\r\n\tat py4j.reflection.ReflectionEngine.invoke(ReflectionEngine.java:374)\r\n\tat py4j.Gateway.invoke(Gateway.java:282)\r\n\tat py4j.commands.AbstractCommand.invokeMethod(AbstractCommand.java:132)\r\n\tat py4j.commands.CallCommand.execute(CallCommand.java:79)\r\n\tat py4j.ClientServerConnection.waitForCommands(ClientServerConnection.java:182)\r\n\tat py4j.ClientServerConnection.run(ClientServerConnection.java:106)\r\n\tat java.lang.Thread.run(Unknown Source)\r\nCaused by: java.io.FileNotFoundException: java.io.FileNotFoundException: HADOOP_HOME and hadoop.home.dir are unset. -see https://wiki.apache.org/hadoop/WindowsProblems\r\n\tat org.apache.hadoop.util.Shell.fileNotFoundException(Shell.java:547)\r\n\tat org.apache.hadoop.util.Shell.getHadoopHomeDir(Shell.java:568)\r\n\tat org.apache.hadoop.util.Shell.getQualifiedBin(Shell.java:591)\r\n\tat org.apache.hadoop.util.Shell.<clinit>(Shell.java:688)\r\n\tat org.apache.hadoop.util.StringUtils.<clinit>(StringUtils.java:79)\r\n\tat org.apache.hadoop.conf.Configuration.getTimeDurationHelper(Configuration.java:1907)\r\n\tat org.apache.hadoop.conf.Configuration.getTimeDuration(Configuration.java:1867)\r\n\tat org.apache.hadoop.conf.Configuration.getTimeDuration(Configuration.java:1840)\r\n\tat org.apache.hadoop.util.ShutdownHookManager.getShutdownTimeout(ShutdownHookManager.java:183)\r\n\tat org.apache.hadoop.util.ShutdownHookManager$HookEntry.<init>(ShutdownHookManager.java:207)\r\n\tat org.apache.hadoop.util.ShutdownHookManager.addShutdownHook(ShutdownHookManager.java:304)\r\n\tat org.apache.spark.util.SparkShutdownHookManager.install(ShutdownHookManager.scala:181)\r\n\tat org.apache.spark.util.ShutdownHookManager$.shutdownHooks$lzycompute(ShutdownHookManager.scala:50)\r\n\tat org.apache.spark.util.ShutdownHookManager$.shutdownHooks(ShutdownHookManager.scala:48)\r\n\tat org.apache.spark.util.ShutdownHookManager$.addShutdownHook(ShutdownHookManager.scala:153)\r\n\tat org.apache.spark.util.ShutdownHookManager$.<init>(ShutdownHookManager.scala:58)\r\n\tat org.apache.spark.util.ShutdownHookManager$.<clinit>(ShutdownHookManager.scala)\r\n\tat org.apache.spark.util.Utils$.createTempDir(Utils.scala:242)\r\n\tat org.apache.spark.util.SparkFileUtils.createTempDir(SparkFileUtils.scala:103)\r\n\tat org.apache.spark.util.SparkFileUtils.createTempDir$(SparkFileUtils.scala:102)\r\n\tat org.apache.spark.util.Utils$.createTempDir(Utils.scala:94)\r\n\tat org.apache.spark.deploy.SparkSubmit.prepareSubmitEnvironment(SparkSubmit.scala:372)\r\n\tat org.apache.spark.deploy.SparkSubmit.org$apache$spark$deploy$SparkSubmit$$runMain(SparkSubmit.scala:964)\r\n\tat org.apache.spark.deploy.SparkSubmit.doRunMain$1(SparkSubmit.scala:194)\r\n\tat org.apache.spark.deploy.SparkSubmit.submit(SparkSubmit.scala:217)\r\n\tat org.apache.spark.deploy.SparkSubmit.doSubmit(SparkSubmit.scala:91)\r\n\tat org.apache.spark.deploy.SparkSubmit$$anon$2.doSubmit(SparkSubmit.scala:1120)\r\n\tat org.apache.spark.deploy.SparkSubmit$.main(SparkSubmit.scala:1129)\r\n\tat org.apache.spark.deploy.SparkSubmit.main(SparkSubmit.scala)\r\nCaused by: java.io.FileNotFoundException: HADOOP_HOME and hadoop.home.dir are unset.\r\n\tat org.apache.hadoop.util.Shell.checkHadoopHomeInner(Shell.java:467)\r\n\tat org.apache.hadoop.util.Shell.checkHadoopHome(Shell.java:438)\r\n\tat org.apache.hadoop.util.Shell.<clinit>(Shell.java:515)\r\n\t... 25 more\r\n",
     "output_type": "error",
     "traceback": [
      "\u001b[1;31m---------------------------------------------------------------------------\u001b[0m",
      "\u001b[1;31mPy4JJavaError\u001b[0m                             Traceback (most recent call last)",
      "Cell \u001b[1;32mIn[106], line 5\u001b[0m\n\u001b[0;32m      2\u001b[0m titles_features_complete \u001b[39m=\u001b[39m titles_features_complete\u001b[39m.\u001b[39mcoalesce(\u001b[39m1\u001b[39m)\n\u001b[0;32m      4\u001b[0m \u001b[39m# Salvar como CSV\u001b[39;00m\n\u001b[1;32m----> 5\u001b[0m titles_features_complete\u001b[39m.\u001b[39;49mwrite\u001b[39m.\u001b[39;49mmode(\u001b[39m'\u001b[39;49m\u001b[39moverwrite\u001b[39;49m\u001b[39m'\u001b[39;49m)\u001b[39m.\u001b[39;49moption(\u001b[39m'\u001b[39;49m\u001b[39mheader\u001b[39;49m\u001b[39m'\u001b[39;49m, \u001b[39m'\u001b[39;49m\u001b[39mtrue\u001b[39;49m\u001b[39m'\u001b[39;49m)\u001b[39m.\u001b[39;49mcsv(\u001b[39m'\u001b[39;49m\u001b[39m../Data/movies.features.complete.csv\u001b[39;49m\u001b[39m'\u001b[39;49m)\n",
      "File \u001b[1;32mc:\\Users\\usuario\\anaconda3\\envs\\bigdata\\Lib\\site-packages\\pyspark\\sql\\readwriter.py:1864\u001b[0m, in \u001b[0;36mDataFrameWriter.csv\u001b[1;34m(self, path, mode, compression, sep, quote, escape, header, nullValue, escapeQuotes, quoteAll, dateFormat, timestampFormat, ignoreLeadingWhiteSpace, ignoreTrailingWhiteSpace, charToEscapeQuoteEscaping, encoding, emptyValue, lineSep)\u001b[0m\n\u001b[0;32m   1845\u001b[0m \u001b[39mself\u001b[39m\u001b[39m.\u001b[39mmode(mode)\n\u001b[0;32m   1846\u001b[0m \u001b[39mself\u001b[39m\u001b[39m.\u001b[39m_set_opts(\n\u001b[0;32m   1847\u001b[0m     compression\u001b[39m=\u001b[39mcompression,\n\u001b[0;32m   1848\u001b[0m     sep\u001b[39m=\u001b[39msep,\n\u001b[1;32m   (...)\u001b[0m\n\u001b[0;32m   1862\u001b[0m     lineSep\u001b[39m=\u001b[39mlineSep,\n\u001b[0;32m   1863\u001b[0m )\n\u001b[1;32m-> 1864\u001b[0m \u001b[39mself\u001b[39;49m\u001b[39m.\u001b[39;49m_jwrite\u001b[39m.\u001b[39;49mcsv(path)\n",
      "File \u001b[1;32mc:\\Users\\usuario\\anaconda3\\envs\\bigdata\\Lib\\site-packages\\py4j\\java_gateway.py:1322\u001b[0m, in \u001b[0;36mJavaMember.__call__\u001b[1;34m(self, *args)\u001b[0m\n\u001b[0;32m   1316\u001b[0m command \u001b[39m=\u001b[39m proto\u001b[39m.\u001b[39mCALL_COMMAND_NAME \u001b[39m+\u001b[39m\\\n\u001b[0;32m   1317\u001b[0m     \u001b[39mself\u001b[39m\u001b[39m.\u001b[39mcommand_header \u001b[39m+\u001b[39m\\\n\u001b[0;32m   1318\u001b[0m     args_command \u001b[39m+\u001b[39m\\\n\u001b[0;32m   1319\u001b[0m     proto\u001b[39m.\u001b[39mEND_COMMAND_PART\n\u001b[0;32m   1321\u001b[0m answer \u001b[39m=\u001b[39m \u001b[39mself\u001b[39m\u001b[39m.\u001b[39mgateway_client\u001b[39m.\u001b[39msend_command(command)\n\u001b[1;32m-> 1322\u001b[0m return_value \u001b[39m=\u001b[39m get_return_value(\n\u001b[0;32m   1323\u001b[0m     answer, \u001b[39mself\u001b[39;49m\u001b[39m.\u001b[39;49mgateway_client, \u001b[39mself\u001b[39;49m\u001b[39m.\u001b[39;49mtarget_id, \u001b[39mself\u001b[39;49m\u001b[39m.\u001b[39;49mname)\n\u001b[0;32m   1325\u001b[0m \u001b[39mfor\u001b[39;00m temp_arg \u001b[39min\u001b[39;00m temp_args:\n\u001b[0;32m   1326\u001b[0m     \u001b[39mif\u001b[39;00m \u001b[39mhasattr\u001b[39m(temp_arg, \u001b[39m\"\u001b[39m\u001b[39m_detach\u001b[39m\u001b[39m\"\u001b[39m):\n",
      "File \u001b[1;32mc:\\Users\\usuario\\anaconda3\\envs\\bigdata\\Lib\\site-packages\\pyspark\\errors\\exceptions\\captured.py:179\u001b[0m, in \u001b[0;36mcapture_sql_exception.<locals>.deco\u001b[1;34m(*a, **kw)\u001b[0m\n\u001b[0;32m    177\u001b[0m \u001b[39mdef\u001b[39;00m \u001b[39mdeco\u001b[39m(\u001b[39m*\u001b[39ma: Any, \u001b[39m*\u001b[39m\u001b[39m*\u001b[39mkw: Any) \u001b[39m-\u001b[39m\u001b[39m>\u001b[39m Any:\n\u001b[0;32m    178\u001b[0m     \u001b[39mtry\u001b[39;00m:\n\u001b[1;32m--> 179\u001b[0m         \u001b[39mreturn\u001b[39;00m f(\u001b[39m*\u001b[39;49ma, \u001b[39m*\u001b[39;49m\u001b[39m*\u001b[39;49mkw)\n\u001b[0;32m    180\u001b[0m     \u001b[39mexcept\u001b[39;00m Py4JJavaError \u001b[39mas\u001b[39;00m e:\n\u001b[0;32m    181\u001b[0m         converted \u001b[39m=\u001b[39m convert_exception(e\u001b[39m.\u001b[39mjava_exception)\n",
      "File \u001b[1;32mc:\\Users\\usuario\\anaconda3\\envs\\bigdata\\Lib\\site-packages\\py4j\\protocol.py:326\u001b[0m, in \u001b[0;36mget_return_value\u001b[1;34m(answer, gateway_client, target_id, name)\u001b[0m\n\u001b[0;32m    324\u001b[0m value \u001b[39m=\u001b[39m OUTPUT_CONVERTER[\u001b[39mtype\u001b[39m](answer[\u001b[39m2\u001b[39m:], gateway_client)\n\u001b[0;32m    325\u001b[0m \u001b[39mif\u001b[39;00m answer[\u001b[39m1\u001b[39m] \u001b[39m==\u001b[39m REFERENCE_TYPE:\n\u001b[1;32m--> 326\u001b[0m     \u001b[39mraise\u001b[39;00m Py4JJavaError(\n\u001b[0;32m    327\u001b[0m         \u001b[39m\"\u001b[39m\u001b[39mAn error occurred while calling \u001b[39m\u001b[39m{0}\u001b[39;00m\u001b[39m{1}\u001b[39;00m\u001b[39m{2}\u001b[39;00m\u001b[39m.\u001b[39m\u001b[39m\\n\u001b[39;00m\u001b[39m\"\u001b[39m\u001b[39m.\u001b[39m\n\u001b[0;32m    328\u001b[0m         \u001b[39mformat\u001b[39m(target_id, \u001b[39m\"\u001b[39m\u001b[39m.\u001b[39m\u001b[39m\"\u001b[39m, name), value)\n\u001b[0;32m    329\u001b[0m \u001b[39melse\u001b[39;00m:\n\u001b[0;32m    330\u001b[0m     \u001b[39mraise\u001b[39;00m Py4JError(\n\u001b[0;32m    331\u001b[0m         \u001b[39m\"\u001b[39m\u001b[39mAn error occurred while calling \u001b[39m\u001b[39m{0}\u001b[39;00m\u001b[39m{1}\u001b[39;00m\u001b[39m{2}\u001b[39;00m\u001b[39m. Trace:\u001b[39m\u001b[39m\\n\u001b[39;00m\u001b[39m{3}\u001b[39;00m\u001b[39m\\n\u001b[39;00m\u001b[39m\"\u001b[39m\u001b[39m.\u001b[39m\n\u001b[0;32m    332\u001b[0m         \u001b[39mformat\u001b[39m(target_id, \u001b[39m\"\u001b[39m\u001b[39m.\u001b[39m\u001b[39m\"\u001b[39m, name, value))\n",
      "\u001b[1;31mPy4JJavaError\u001b[0m: An error occurred while calling o864.csv.\n: java.lang.RuntimeException: java.io.FileNotFoundException: java.io.FileNotFoundException: HADOOP_HOME and hadoop.home.dir are unset. -see https://wiki.apache.org/hadoop/WindowsProblems\r\n\tat org.apache.hadoop.util.Shell.getWinUtilsPath(Shell.java:735)\r\n\tat org.apache.hadoop.util.Shell.getSetPermissionCommand(Shell.java:270)\r\n\tat org.apache.hadoop.util.Shell.getSetPermissionCommand(Shell.java:286)\r\n\tat org.apache.hadoop.fs.RawLocalFileSystem.setPermission(RawLocalFileSystem.java:978)\r\n\tat org.apache.hadoop.fs.RawLocalFileSystem.mkOneDirWithMode(RawLocalFileSystem.java:660)\r\n\tat org.apache.hadoop.fs.RawLocalFileSystem.mkdirsWithOptionalPermission(RawLocalFileSystem.java:700)\r\n\tat org.apache.hadoop.fs.RawLocalFileSystem.mkdirs(RawLocalFileSystem.java:672)\r\n\tat org.apache.hadoop.fs.RawLocalFileSystem.mkdirsWithOptionalPermission(RawLocalFileSystem.java:699)\r\n\tat org.apache.hadoop.fs.RawLocalFileSystem.mkdirs(RawLocalFileSystem.java:672)\r\n\tat org.apache.hadoop.fs.RawLocalFileSystem.mkdirsWithOptionalPermission(RawLocalFileSystem.java:699)\r\n\tat org.apache.hadoop.fs.RawLocalFileSystem.mkdirs(RawLocalFileSystem.java:672)\r\n\tat org.apache.hadoop.fs.ChecksumFileSystem.mkdirs(ChecksumFileSystem.java:788)\r\n\tat org.apache.hadoop.mapreduce.lib.output.FileOutputCommitter.setupJob(FileOutputCommitter.java:356)\r\n\tat org.apache.spark.internal.io.HadoopMapReduceCommitProtocol.setupJob(HadoopMapReduceCommitProtocol.scala:188)\r\n\tat org.apache.spark.sql.execution.datasources.FileFormatWriter$.writeAndCommit(FileFormatWriter.scala:269)\r\n\tat org.apache.spark.sql.execution.datasources.FileFormatWriter$.executeWrite(FileFormatWriter.scala:304)\r\n\tat org.apache.spark.sql.execution.datasources.FileFormatWriter$.write(FileFormatWriter.scala:190)\r\n\tat org.apache.spark.sql.execution.datasources.InsertIntoHadoopFsRelationCommand.run(InsertIntoHadoopFsRelationCommand.scala:190)\r\n\tat org.apache.spark.sql.execution.command.DataWritingCommandExec.sideEffectResult$lzycompute(commands.scala:113)\r\n\tat org.apache.spark.sql.execution.command.DataWritingCommandExec.sideEffectResult(commands.scala:111)\r\n\tat org.apache.spark.sql.execution.command.DataWritingCommandExec.executeCollect(commands.scala:125)\r\n\tat org.apache.spark.sql.execution.adaptive.AdaptiveSparkPlanExec.$anonfun$executeCollect$1(AdaptiveSparkPlanExec.scala:374)\r\n\tat org.apache.spark.sql.execution.adaptive.AdaptiveSparkPlanExec.withFinalPlanUpdate(AdaptiveSparkPlanExec.scala:402)\r\n\tat org.apache.spark.sql.execution.adaptive.AdaptiveSparkPlanExec.executeCollect(AdaptiveSparkPlanExec.scala:374)\r\n\tat org.apache.spark.sql.execution.QueryExecution$$anonfun$eagerlyExecuteCommands$1.$anonfun$applyOrElse$1(QueryExecution.scala:107)\r\n\tat org.apache.spark.sql.execution.SQLExecution$.$anonfun$withNewExecutionId$6(SQLExecution.scala:125)\r\n\tat org.apache.spark.sql.execution.SQLExecution$.withSQLConfPropagated(SQLExecution.scala:201)\r\n\tat org.apache.spark.sql.execution.SQLExecution$.$anonfun$withNewExecutionId$1(SQLExecution.scala:108)\r\n\tat org.apache.spark.sql.SparkSession.withActive(SparkSession.scala:900)\r\n\tat org.apache.spark.sql.execution.SQLExecution$.withNewExecutionId(SQLExecution.scala:66)\r\n\tat org.apache.spark.sql.execution.QueryExecution$$anonfun$eagerlyExecuteCommands$1.applyOrElse(QueryExecution.scala:107)\r\n\tat org.apache.spark.sql.execution.QueryExecution$$anonfun$eagerlyExecuteCommands$1.applyOrElse(QueryExecution.scala:98)\r\n\tat org.apache.spark.sql.catalyst.trees.TreeNode.$anonfun$transformDownWithPruning$1(TreeNode.scala:461)\r\n\tat org.apache.spark.sql.catalyst.trees.CurrentOrigin$.withOrigin(origin.scala:76)\r\n\tat org.apache.spark.sql.catalyst.trees.TreeNode.transformDownWithPruning(TreeNode.scala:461)\r\n\tat org.apache.spark.sql.catalyst.plans.logical.LogicalPlan.org$apache$spark$sql$catalyst$plans$logical$AnalysisHelper$$super$transformDownWithPruning(LogicalPlan.scala:32)\r\n\tat org.apache.spark.sql.catalyst.plans.logical.AnalysisHelper.transformDownWithPruning(AnalysisHelper.scala:267)\r\n\tat org.apache.spark.sql.catalyst.plans.logical.AnalysisHelper.transformDownWithPruning$(AnalysisHelper.scala:263)\r\n\tat org.apache.spark.sql.catalyst.plans.logical.LogicalPlan.transformDownWithPruning(LogicalPlan.scala:32)\r\n\tat org.apache.spark.sql.catalyst.plans.logical.LogicalPlan.transformDownWithPruning(LogicalPlan.scala:32)\r\n\tat org.apache.spark.sql.catalyst.trees.TreeNode.transformDown(TreeNode.scala:437)\r\n\tat org.apache.spark.sql.execution.QueryExecution.eagerlyExecuteCommands(QueryExecution.scala:98)\r\n\tat org.apache.spark.sql.execution.QueryExecution.commandExecuted$lzycompute(QueryExecution.scala:85)\r\n\tat org.apache.spark.sql.execution.QueryExecution.commandExecuted(QueryExecution.scala:83)\r\n\tat org.apache.spark.sql.execution.QueryExecution.assertCommandExecuted(QueryExecution.scala:142)\r\n\tat org.apache.spark.sql.DataFrameWriter.runCommand(DataFrameWriter.scala:859)\r\n\tat org.apache.spark.sql.DataFrameWriter.saveToV1Source(DataFrameWriter.scala:388)\r\n\tat org.apache.spark.sql.DataFrameWriter.saveInternal(DataFrameWriter.scala:361)\r\n\tat org.apache.spark.sql.DataFrameWriter.save(DataFrameWriter.scala:240)\r\n\tat org.apache.spark.sql.DataFrameWriter.csv(DataFrameWriter.scala:850)\r\n\tat sun.reflect.NativeMethodAccessorImpl.invoke0(Native Method)\r\n\tat sun.reflect.NativeMethodAccessorImpl.invoke(Unknown Source)\r\n\tat sun.reflect.DelegatingMethodAccessorImpl.invoke(Unknown Source)\r\n\tat java.lang.reflect.Method.invoke(Unknown Source)\r\n\tat py4j.reflection.MethodInvoker.invoke(MethodInvoker.java:244)\r\n\tat py4j.reflection.ReflectionEngine.invoke(ReflectionEngine.java:374)\r\n\tat py4j.Gateway.invoke(Gateway.java:282)\r\n\tat py4j.commands.AbstractCommand.invokeMethod(AbstractCommand.java:132)\r\n\tat py4j.commands.CallCommand.execute(CallCommand.java:79)\r\n\tat py4j.ClientServerConnection.waitForCommands(ClientServerConnection.java:182)\r\n\tat py4j.ClientServerConnection.run(ClientServerConnection.java:106)\r\n\tat java.lang.Thread.run(Unknown Source)\r\nCaused by: java.io.FileNotFoundException: java.io.FileNotFoundException: HADOOP_HOME and hadoop.home.dir are unset. -see https://wiki.apache.org/hadoop/WindowsProblems\r\n\tat org.apache.hadoop.util.Shell.fileNotFoundException(Shell.java:547)\r\n\tat org.apache.hadoop.util.Shell.getHadoopHomeDir(Shell.java:568)\r\n\tat org.apache.hadoop.util.Shell.getQualifiedBin(Shell.java:591)\r\n\tat org.apache.hadoop.util.Shell.<clinit>(Shell.java:688)\r\n\tat org.apache.hadoop.util.StringUtils.<clinit>(StringUtils.java:79)\r\n\tat org.apache.hadoop.conf.Configuration.getTimeDurationHelper(Configuration.java:1907)\r\n\tat org.apache.hadoop.conf.Configuration.getTimeDuration(Configuration.java:1867)\r\n\tat org.apache.hadoop.conf.Configuration.getTimeDuration(Configuration.java:1840)\r\n\tat org.apache.hadoop.util.ShutdownHookManager.getShutdownTimeout(ShutdownHookManager.java:183)\r\n\tat org.apache.hadoop.util.ShutdownHookManager$HookEntry.<init>(ShutdownHookManager.java:207)\r\n\tat org.apache.hadoop.util.ShutdownHookManager.addShutdownHook(ShutdownHookManager.java:304)\r\n\tat org.apache.spark.util.SparkShutdownHookManager.install(ShutdownHookManager.scala:181)\r\n\tat org.apache.spark.util.ShutdownHookManager$.shutdownHooks$lzycompute(ShutdownHookManager.scala:50)\r\n\tat org.apache.spark.util.ShutdownHookManager$.shutdownHooks(ShutdownHookManager.scala:48)\r\n\tat org.apache.spark.util.ShutdownHookManager$.addShutdownHook(ShutdownHookManager.scala:153)\r\n\tat org.apache.spark.util.ShutdownHookManager$.<init>(ShutdownHookManager.scala:58)\r\n\tat org.apache.spark.util.ShutdownHookManager$.<clinit>(ShutdownHookManager.scala)\r\n\tat org.apache.spark.util.Utils$.createTempDir(Utils.scala:242)\r\n\tat org.apache.spark.util.SparkFileUtils.createTempDir(SparkFileUtils.scala:103)\r\n\tat org.apache.spark.util.SparkFileUtils.createTempDir$(SparkFileUtils.scala:102)\r\n\tat org.apache.spark.util.Utils$.createTempDir(Utils.scala:94)\r\n\tat org.apache.spark.deploy.SparkSubmit.prepareSubmitEnvironment(SparkSubmit.scala:372)\r\n\tat org.apache.spark.deploy.SparkSubmit.org$apache$spark$deploy$SparkSubmit$$runMain(SparkSubmit.scala:964)\r\n\tat org.apache.spark.deploy.SparkSubmit.doRunMain$1(SparkSubmit.scala:194)\r\n\tat org.apache.spark.deploy.SparkSubmit.submit(SparkSubmit.scala:217)\r\n\tat org.apache.spark.deploy.SparkSubmit.doSubmit(SparkSubmit.scala:91)\r\n\tat org.apache.spark.deploy.SparkSubmit$$anon$2.doSubmit(SparkSubmit.scala:1120)\r\n\tat org.apache.spark.deploy.SparkSubmit$.main(SparkSubmit.scala:1129)\r\n\tat org.apache.spark.deploy.SparkSubmit.main(SparkSubmit.scala)\r\nCaused by: java.io.FileNotFoundException: HADOOP_HOME and hadoop.home.dir are unset.\r\n\tat org.apache.hadoop.util.Shell.checkHadoopHomeInner(Shell.java:467)\r\n\tat org.apache.hadoop.util.Shell.checkHadoopHome(Shell.java:438)\r\n\tat org.apache.hadoop.util.Shell.<clinit>(Shell.java:515)\r\n\t... 25 more\r\n"
     ]
    }
   ],
   "source": [
    "# Reduzir o número de partições para 1 antes de salvar\n",
    "titles_features_complete = titles_features_complete.coalesce(1)\n",
    "\n",
    "# Salvar como CSV\n",
    "titles_features_complete.write.mode('overwrite').option('header', 'true').csv('../Data/movies.features.complete.csv')"
   ]
  }
 ],
 "metadata": {
  "kernelspec": {
   "display_name": "bigdata",
   "language": "python",
   "name": "python3"
  },
  "language_info": {
   "codemirror_mode": {
    "name": "ipython",
    "version": 3
   },
   "file_extension": ".py",
   "mimetype": "text/x-python",
   "name": "python",
   "nbconvert_exporter": "python",
   "pygments_lexer": "ipython3",
   "version": "3.12.0"
  },
  "vscode": {
   "interpreter": {
    "hash": "46c5f1f8bb507a4726e7c155d4a75ec806c01f7e7fdb669d746a23308f022d32"
   }
  }
 },
 "nbformat": 4,
 "nbformat_minor": 2
}
