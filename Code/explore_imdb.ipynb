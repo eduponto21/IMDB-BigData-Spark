{
 "cells": [
  {
   "cell_type": "code",
   "execution_count": 12,
   "metadata": {},
   "outputs": [],
   "source": [
    "import pandas as pd\n",
    "import numpy as np\n",
    "import pyspark.pandas as ps\n",
    "from pyspark.sql import SparkSession\n",
    "\n",
    "spark = SparkSession.builder.appName('explore_spark').config('spark.master', 'local').getOrCreate()"
   ]
  },
  {
   "cell_type": "code",
   "execution_count": 2,
   "metadata": {},
   "outputs": [],
   "source": [
    "ps.set_option('display.max_rows', 10)"
   ]
  },
  {
   "cell_type": "code",
   "execution_count": 11,
   "metadata": {},
   "outputs": [],
   "source": [
    "prev = spark.conf.get(\"spark.sql.execution.arrow.pyspark.enabled\")  # Keep its default value.\n",
    "ps.set_option(\"compute.default_index_type\", \"distributed\")  # Use default index prevent overhead.\n",
    "import warnings\n",
    "warnings.filterwarnings(\"ignore\")  # Ignore warnings coming from Arrow optimizations."
   ]
  },
  {
   "cell_type": "code",
   "execution_count": 18,
   "metadata": {},
   "outputs": [
    {
     "name": "stdout",
     "output_type": "stream",
     "text": [
      "117 ms ± 38.1 ms per loop (mean ± std. dev. of 7 runs, 10 loops each)\n"
     ]
    }
   ],
   "source": [
    "spark.conf.set(\"spark.sql.execution.arrow.pyspark.enabled\", True)\n",
    "%timeit ps.range(300000).to_pandas()"
   ]
  },
  {
   "cell_type": "code",
   "execution_count": 13,
   "metadata": {},
   "outputs": [],
   "source": [
    "name_basics = ps.read_csv('../Data/name.basics.tsv', sep='\\t', inferSchema=True)\n",
    "# title_akas = ps.read_csv('../Data/title.akas.tsv', sep='\\t', inferSchema=True)\n",
    "title_basics = ps.read_csv('../Data/title.basics.tsv', sep='\\t', inferSchema=True)\n",
    "title_crew = ps.read_csv('../Data/title.crew.tsv', sep='\\t', inferSchema=True)\n",
    "# title_episode = ps.read_csv('../Data/title.episode.tsv', sep='\\t', inferSchema=True)\n",
    "title_principals = ps.read_csv('../Data/title.principals.tsv', sep='\\t', inferSchema=True)\n",
    "title_ratings = ps.read_csv('../Data/title.ratings.tsv', sep='\\t', inferSchema=True)"
   ]
  },
  {
   "cell_type": "code",
   "execution_count": 10,
   "metadata": {},
   "outputs": [
    {
     "data": {
      "text/plain": [
       "pyspark.pandas.frame.DataFrame"
      ]
     },
     "execution_count": 10,
     "metadata": {},
     "output_type": "execute_result"
    }
   ],
   "source": [
    "type(name_basics)"
   ]
  },
  {
   "cell_type": "code",
   "execution_count": 4,
   "metadata": {},
   "outputs": [
    {
     "data": {
      "text/html": [
       "<div>\n",
       "<style scoped>\n",
       "    .dataframe tbody tr th:only-of-type {\n",
       "        vertical-align: middle;\n",
       "    }\n",
       "\n",
       "    .dataframe tbody tr th {\n",
       "        vertical-align: top;\n",
       "    }\n",
       "\n",
       "    .dataframe thead th {\n",
       "        text-align: right;\n",
       "    }\n",
       "</style>\n",
       "<table border=\"1\" class=\"dataframe\">\n",
       "  <thead>\n",
       "    <tr style=\"text-align: right;\">\n",
       "      <th></th>\n",
       "      <th>nconst</th>\n",
       "      <th>primaryName</th>\n",
       "      <th>birthYear</th>\n",
       "      <th>deathYear</th>\n",
       "      <th>primaryProfession</th>\n",
       "      <th>knownForTitles</th>\n",
       "    </tr>\n",
       "  </thead>\n",
       "  <tbody>\n",
       "    <tr>\n",
       "      <th>0</th>\n",
       "      <td>nm0000001</td>\n",
       "      <td>Fred Astaire</td>\n",
       "      <td>1899</td>\n",
       "      <td>1987</td>\n",
       "      <td>soundtrack,actor,miscellaneous</td>\n",
       "      <td>tt0050419,tt0072308,tt0031983,tt0053137</td>\n",
       "    </tr>\n",
       "    <tr>\n",
       "      <th>1</th>\n",
       "      <td>nm0000002</td>\n",
       "      <td>Lauren Bacall</td>\n",
       "      <td>1924</td>\n",
       "      <td>2014</td>\n",
       "      <td>actress,soundtrack</td>\n",
       "      <td>tt0117057,tt0075213,tt0038355,tt0037382</td>\n",
       "    </tr>\n",
       "    <tr>\n",
       "      <th>2</th>\n",
       "      <td>nm0000003</td>\n",
       "      <td>Brigitte Bardot</td>\n",
       "      <td>1934</td>\n",
       "      <td>\\N</td>\n",
       "      <td>actress,soundtrack,music_department</td>\n",
       "      <td>tt0049189,tt0054452,tt0056404,tt0057345</td>\n",
       "    </tr>\n",
       "    <tr>\n",
       "      <th>3</th>\n",
       "      <td>nm0000004</td>\n",
       "      <td>John Belushi</td>\n",
       "      <td>1949</td>\n",
       "      <td>1982</td>\n",
       "      <td>actor,soundtrack,writer</td>\n",
       "      <td>tt0078723,tt0077975,tt0072562,tt0080455</td>\n",
       "    </tr>\n",
       "    <tr>\n",
       "      <th>4</th>\n",
       "      <td>nm0000005</td>\n",
       "      <td>Ingmar Bergman</td>\n",
       "      <td>1918</td>\n",
       "      <td>2007</td>\n",
       "      <td>writer,director,actor</td>\n",
       "      <td>tt0083922,tt0050986,tt0050976,tt0069467</td>\n",
       "    </tr>\n",
       "  </tbody>\n",
       "</table>\n",
       "</div>"
      ],
      "text/plain": [
       "      nconst      primaryName birthYear deathYear                    primaryProfession                           knownForTitles\n",
       "0  nm0000001     Fred Astaire      1899      1987       soundtrack,actor,miscellaneous  tt0050419,tt0072308,tt0031983,tt0053137\n",
       "1  nm0000002    Lauren Bacall      1924      2014                   actress,soundtrack  tt0117057,tt0075213,tt0038355,tt0037382\n",
       "2  nm0000003  Brigitte Bardot      1934        \\N  actress,soundtrack,music_department  tt0049189,tt0054452,tt0056404,tt0057345\n",
       "3  nm0000004     John Belushi      1949      1982              actor,soundtrack,writer  tt0078723,tt0077975,tt0072562,tt0080455\n",
       "4  nm0000005   Ingmar Bergman      1918      2007                writer,director,actor  tt0083922,tt0050986,tt0050976,tt0069467"
      ]
     },
     "execution_count": 4,
     "metadata": {},
     "output_type": "execute_result"
    }
   ],
   "source": [
    "name_basics.head(5)\n",
    "# title_akas.head(5)\n",
    "# title_basics.head(5)\n",
    "# title_crew.head(5)\n",
    "# title_episode.head(5)\n",
    "# title_principals.head(5)\n",
    "# title_ratings.head(5)"
   ]
  },
  {
   "cell_type": "code",
   "execution_count": 23,
   "metadata": {},
   "outputs": [],
   "source": [
    "# title_ratings.describe()"
   ]
  },
  {
   "cell_type": "code",
   "execution_count": 22,
   "metadata": {},
   "outputs": [
    {
     "data": {
      "text/html": [
       "<div>\n",
       "<style scoped>\n",
       "    .dataframe tbody tr th:only-of-type {\n",
       "        vertical-align: middle;\n",
       "    }\n",
       "\n",
       "    .dataframe tbody tr th {\n",
       "        vertical-align: top;\n",
       "    }\n",
       "\n",
       "    .dataframe thead th {\n",
       "        text-align: right;\n",
       "    }\n",
       "</style>\n",
       "<table border=\"1\" class=\"dataframe\">\n",
       "  <thead>\n",
       "    <tr style=\"text-align: right;\">\n",
       "      <th></th>\n",
       "      <th>tconst</th>\n",
       "      <th>averageRating</th>\n",
       "      <th>numVotes</th>\n",
       "    </tr>\n",
       "  </thead>\n",
       "  <tbody>\n",
       "    <tr>\n",
       "      <th>82643</th>\n",
       "      <td>tt0111161</td>\n",
       "      <td>9.3</td>\n",
       "      <td>2824743</td>\n",
       "    </tr>\n",
       "    <tr>\n",
       "      <th>252047</th>\n",
       "      <td>tt0468569</td>\n",
       "      <td>9.0</td>\n",
       "      <td>2806239</td>\n",
       "    </tr>\n",
       "    <tr>\n",
       "      <th>650347</th>\n",
       "      <td>tt1375666</td>\n",
       "      <td>8.8</td>\n",
       "      <td>2490927</td>\n",
       "    </tr>\n",
       "    <tr>\n",
       "      <th>99224</th>\n",
       "      <td>tt0137523</td>\n",
       "      <td>8.8</td>\n",
       "      <td>2260236</td>\n",
       "    </tr>\n",
       "    <tr>\n",
       "      <th>438449</th>\n",
       "      <td>tt0944947</td>\n",
       "      <td>9.2</td>\n",
       "      <td>2226899</td>\n",
       "    </tr>\n",
       "  </tbody>\n",
       "</table>\n",
       "</div>"
      ],
      "text/plain": [
       "           tconst  averageRating  numVotes\n",
       "82643   tt0111161            9.3   2824743\n",
       "252047  tt0468569            9.0   2806239\n",
       "650347  tt1375666            8.8   2490927\n",
       "99224   tt0137523            8.8   2260236\n",
       "438449  tt0944947            9.2   2226899"
      ]
     },
     "execution_count": 22,
     "metadata": {},
     "output_type": "execute_result"
    }
   ],
   "source": [
    "title_ratings.sort_values(by='numVotes', ascending=False).head()"
   ]
  },
  {
   "cell_type": "code",
   "execution_count": 25,
   "metadata": {},
   "outputs": [
    {
     "data": {
      "text/plain": [
       "titleType\n",
       "tvPilot              1\n",
       "tvShort          10084\n",
       "videoGame        36627\n",
       "tvSpecial        44591\n",
       "tvMiniSeries     51367\n",
       "tvMovie         143596\n",
       "tvSeries        253097\n",
       "video           283511\n",
       "movie           664652\n",
       "short           964958\n",
       "Name: tconst, dtype: int64\n",
       "Showing only the first 10"
      ]
     },
     "execution_count": 25,
     "metadata": {},
     "output_type": "execute_result"
    }
   ],
   "source": [
    "title_basics.groupby('titleType').count().sort_values('tconst')['tconst']"
   ]
  },
  {
   "cell_type": "code",
   "execution_count": 33,
   "metadata": {},
   "outputs": [
    {
     "data": {
      "text/html": [
       "<div>\n",
       "<style scoped>\n",
       "    .dataframe tbody tr th:only-of-type {\n",
       "        vertical-align: middle;\n",
       "    }\n",
       "\n",
       "    .dataframe tbody tr th {\n",
       "        vertical-align: top;\n",
       "    }\n",
       "\n",
       "    .dataframe thead th {\n",
       "        text-align: right;\n",
       "    }\n",
       "</style>\n",
       "<table border=\"1\" class=\"dataframe\">\n",
       "  <thead>\n",
       "    <tr style=\"text-align: right;\">\n",
       "      <th></th>\n",
       "      <th>tconst</th>\n",
       "      <th>titleType</th>\n",
       "      <th>primaryTitle</th>\n",
       "      <th>originalTitle</th>\n",
       "      <th>isAdult</th>\n",
       "      <th>startYear</th>\n",
       "      <th>runtimeMinutes</th>\n",
       "      <th>genres</th>\n",
       "    </tr>\n",
       "  </thead>\n",
       "  <tbody>\n",
       "    <tr>\n",
       "      <th>8</th>\n",
       "      <td>tt0000009</td>\n",
       "      <td>movie</td>\n",
       "      <td>Miss Jerry</td>\n",
       "      <td>Miss Jerry</td>\n",
       "      <td>0</td>\n",
       "      <td>1894</td>\n",
       "      <td>45</td>\n",
       "      <td>Romance</td>\n",
       "    </tr>\n",
       "    <tr>\n",
       "      <th>144</th>\n",
       "      <td>tt0000147</td>\n",
       "      <td>movie</td>\n",
       "      <td>The Corbett-Fitzsimmons Fight</td>\n",
       "      <td>The Corbett-Fitzsimmons Fight</td>\n",
       "      <td>0</td>\n",
       "      <td>1897</td>\n",
       "      <td>100</td>\n",
       "      <td>Documentary,News,Sport</td>\n",
       "    </tr>\n",
       "    <tr>\n",
       "      <th>498</th>\n",
       "      <td>tt0000502</td>\n",
       "      <td>movie</td>\n",
       "      <td>Bohemios</td>\n",
       "      <td>Bohemios</td>\n",
       "      <td>0</td>\n",
       "      <td>1905</td>\n",
       "      <td>100</td>\n",
       "      <td>NaN</td>\n",
       "    </tr>\n",
       "    <tr>\n",
       "      <th>570</th>\n",
       "      <td>tt0000574</td>\n",
       "      <td>movie</td>\n",
       "      <td>The Story of the Kelly Gang</td>\n",
       "      <td>The Story of the Kelly Gang</td>\n",
       "      <td>0</td>\n",
       "      <td>1906</td>\n",
       "      <td>70</td>\n",
       "      <td>Action,Adventure,Biography</td>\n",
       "    </tr>\n",
       "    <tr>\n",
       "      <th>587</th>\n",
       "      <td>tt0000591</td>\n",
       "      <td>movie</td>\n",
       "      <td>The Prodigal Son</td>\n",
       "      <td>L'enfant prodigue</td>\n",
       "      <td>0</td>\n",
       "      <td>1907</td>\n",
       "      <td>90</td>\n",
       "      <td>Drama</td>\n",
       "    </tr>\n",
       "    <tr>\n",
       "      <th>610</th>\n",
       "      <td>tt0000615</td>\n",
       "      <td>movie</td>\n",
       "      <td>Robbery Under Arms</td>\n",
       "      <td>Robbery Under Arms</td>\n",
       "      <td>0</td>\n",
       "      <td>1907</td>\n",
       "      <td>NaN</td>\n",
       "      <td>Drama</td>\n",
       "    </tr>\n",
       "    <tr>\n",
       "      <th>625</th>\n",
       "      <td>tt0000630</td>\n",
       "      <td>movie</td>\n",
       "      <td>Hamlet</td>\n",
       "      <td>Amleto</td>\n",
       "      <td>0</td>\n",
       "      <td>1908</td>\n",
       "      <td>NaN</td>\n",
       "      <td>Drama</td>\n",
       "    </tr>\n",
       "    <tr>\n",
       "      <th>668</th>\n",
       "      <td>tt0000675</td>\n",
       "      <td>movie</td>\n",
       "      <td>Don Quijote</td>\n",
       "      <td>Don Quijote</td>\n",
       "      <td>0</td>\n",
       "      <td>1908</td>\n",
       "      <td>NaN</td>\n",
       "      <td>Drama</td>\n",
       "    </tr>\n",
       "    <tr>\n",
       "      <th>672</th>\n",
       "      <td>tt0000679</td>\n",
       "      <td>movie</td>\n",
       "      <td>The Fairylogue and Radio-Plays</td>\n",
       "      <td>The Fairylogue and Radio-Plays</td>\n",
       "      <td>0</td>\n",
       "      <td>1908</td>\n",
       "      <td>120</td>\n",
       "      <td>Adventure,Fantasy</td>\n",
       "    </tr>\n",
       "    <tr>\n",
       "      <th>828</th>\n",
       "      <td>tt0000838</td>\n",
       "      <td>movie</td>\n",
       "      <td>A Cultura do Cacau</td>\n",
       "      <td>A Cultura do Cacau</td>\n",
       "      <td>0</td>\n",
       "      <td>1909</td>\n",
       "      <td>NaN</td>\n",
       "      <td>NaN</td>\n",
       "    </tr>\n",
       "  </tbody>\n",
       "</table>\n",
       "<p>Showing only the first 10 rows × 8 columns</p>\n",
       "</div>"
      ],
      "text/plain": [
       "        tconst titleType                    primaryTitle                   originalTitle isAdult startYear runtimeMinutes                      genres\n",
       "8    tt0000009     movie                      Miss Jerry                      Miss Jerry       0      1894             45                     Romance\n",
       "144  tt0000147     movie   The Corbett-Fitzsimmons Fight   The Corbett-Fitzsimmons Fight       0      1897            100      Documentary,News,Sport\n",
       "498  tt0000502     movie                        Bohemios                        Bohemios       0      1905            100                         NaN\n",
       "570  tt0000574     movie     The Story of the Kelly Gang     The Story of the Kelly Gang       0      1906             70  Action,Adventure,Biography\n",
       "587  tt0000591     movie                The Prodigal Son               L'enfant prodigue       0      1907             90                       Drama\n",
       "610  tt0000615     movie              Robbery Under Arms              Robbery Under Arms       0      1907            NaN                       Drama\n",
       "625  tt0000630     movie                          Hamlet                          Amleto       0      1908            NaN                       Drama\n",
       "668  tt0000675     movie                     Don Quijote                     Don Quijote       0      1908            NaN                       Drama\n",
       "672  tt0000679     movie  The Fairylogue and Radio-Plays  The Fairylogue and Radio-Plays       0      1908            120           Adventure,Fantasy\n",
       "828  tt0000838     movie              A Cultura do Cacau              A Cultura do Cacau       0      1909            NaN                         NaN\n",
       "\n",
       "[Showing only the first 10 rows x 8 columns]"
      ]
     },
     "execution_count": 33,
     "metadata": {},
     "output_type": "execute_result"
    }
   ],
   "source": [
    "title_basics_filtered = title_basics.loc[title_basics['titleType'] == 'movie'].drop(columns=['endYear']).replace('\\\\N', np.nan)\n",
    "title_basics_filtered"
   ]
  },
  {
   "cell_type": "code",
   "execution_count": 40,
   "metadata": {},
   "outputs": [
    {
     "data": {
      "text/plain": [
       "8      False\n",
       "144    False\n",
       "498    False\n",
       "570    False\n",
       "587    False\n",
       "610    False\n",
       "625    False\n",
       "668    False\n",
       "672    False\n",
       "828    False\n",
       "Name: genres, dtype: bool\n",
       "Showing only the first 10"
      ]
     },
     "execution_count": 40,
     "metadata": {},
     "output_type": "execute_result"
    }
   ],
   "source": [
    "title_basics_filtered['genres'].isnull()"
   ]
  },
  {
   "cell_type": "code",
   "execution_count": 36,
   "metadata": {},
   "outputs": [
    {
     "data": {
      "text/plain": [
       "tconst            0\n",
       "titleType         0\n",
       "primaryTitle      0\n",
       "originalTitle     0\n",
       "isAdult           0\n",
       "startYear         0\n",
       "runtimeMinutes    0\n",
       "genres            0\n",
       "dtype: int64"
      ]
     },
     "execution_count": 36,
     "metadata": {},
     "output_type": "execute_result"
    }
   ],
   "source": [
    "title_basics_filtered.isnull().sum()"
   ]
  },
  {
   "cell_type": "code",
   "execution_count": 37,
   "metadata": {},
   "outputs": [
    {
     "data": {
      "text/plain": [
       "tconst            0\n",
       "titleType         0\n",
       "primaryTitle      0\n",
       "originalTitle     0\n",
       "isAdult           0\n",
       "startYear         0\n",
       "runtimeMinutes    0\n",
       "genres            0\n",
       "dtype: int64"
      ]
     },
     "execution_count": 37,
     "metadata": {},
     "output_type": "execute_result"
    }
   ],
   "source": [
    "title_basics_filtered.isna().sum()"
   ]
  },
  {
   "cell_type": "markdown",
   "metadata": {},
   "source": [
    "## Concatenate stuff"
   ]
  },
  {
   "cell_type": "code",
   "execution_count": 41,
   "metadata": {},
   "outputs": [
    {
     "data": {
      "text/plain": [
       "0        tvSeries\n",
       "1    tvMiniSeries\n",
       "2         tvMovie\n",
       "3       tvEpisode\n",
       "4           movie\n",
       "5       tvSpecial\n",
       "6           video\n",
       "7       videoGame\n",
       "8         tvShort\n",
       "9           short\n",
       "Name: titleType, dtype: object\n",
       "Showing only the first 10"
      ]
     },
     "execution_count": 41,
     "metadata": {},
     "output_type": "execute_result"
    }
   ],
   "source": [
    "title_basics['titleType'].unique()"
   ]
  },
  {
   "cell_type": "code",
   "execution_count": 44,
   "metadata": {},
   "outputs": [
    {
     "ename": "PandasNotImplementedError",
     "evalue": "The method `pd.Series.__iter__()` is not implemented. If you want to collect your data as an NumPy array, use 'to_numpy()' instead.",
     "output_type": "error",
     "traceback": [
      "\u001b[1;31m---------------------------------------------------------------------------\u001b[0m",
      "\u001b[1;31mPandasNotImplementedError\u001b[0m                 Traceback (most recent call last)",
      "\u001b[1;32mc:\\Users\\pichau\\Desktop\\BigData e Aplicacoes\\IMDB-BigData-Spark\\Code\\explore_imdb.ipynb Cell 17\u001b[0m line \u001b[0;36m3\n\u001b[0;32m      <a href='vscode-notebook-cell:/c%3A/Users/pichau/Desktop/BigData%20e%20Aplicacoes/IMDB-BigData-Spark/Code/explore_imdb.ipynb#X32sZmlsZQ%3D%3D?line=0'>1</a>\u001b[0m title_basics \u001b[39m=\u001b[39m title_basics\u001b[39m.\u001b[39mloc[title_basics[\u001b[39m'\u001b[39m\u001b[39mtitleType\u001b[39m\u001b[39m'\u001b[39m] \u001b[39m==\u001b[39m \u001b[39m'\u001b[39m\u001b[39mmovie\u001b[39m\u001b[39m'\u001b[39m]\n\u001b[0;32m      <a href='vscode-notebook-cell:/c%3A/Users/pichau/Desktop/BigData%20e%20Aplicacoes/IMDB-BigData-Spark/Code/explore_imdb.ipynb#X32sZmlsZQ%3D%3D?line=1'>2</a>\u001b[0m \u001b[39m# title_basics = title_basics.loc[title_basics['genres'] != '\\\\N']\u001b[39;00m\n\u001b[1;32m----> <a href='vscode-notebook-cell:/c%3A/Users/pichau/Desktop/BigData%20e%20Aplicacoes/IMDB-BigData-Spark/Code/explore_imdb.ipynb#X32sZmlsZQ%3D%3D?line=2'>3</a>\u001b[0m title_basics \u001b[39m=\u001b[39m title_basics\u001b[39m.\u001b[39;49mto_pandas()\u001b[39m.\u001b[39;49mloc[title_basics[\u001b[39m'\u001b[39;49m\u001b[39mtconst\u001b[39;49m\u001b[39m'\u001b[39;49m]\u001b[39m.\u001b[39;49misin(title_ratings[\u001b[39m'\u001b[39;49m\u001b[39mtconst\u001b[39;49m\u001b[39m'\u001b[39;49m]\u001b[39m.\u001b[39;49mto_pandas())]\n",
      "File \u001b[1;32mc:\\Users\\pichau\\miniconda3\\envs\\bigdata\\Lib\\site-packages\\pandas\\core\\indexing.py:1153\u001b[0m, in \u001b[0;36m_LocationIndexer.__getitem__\u001b[1;34m(self, key)\u001b[0m\n\u001b[0;32m   1150\u001b[0m axis \u001b[39m=\u001b[39m \u001b[39mself\u001b[39m\u001b[39m.\u001b[39maxis \u001b[39mor\u001b[39;00m \u001b[39m0\u001b[39m\n\u001b[0;32m   1152\u001b[0m maybe_callable \u001b[39m=\u001b[39m com\u001b[39m.\u001b[39mapply_if_callable(key, \u001b[39mself\u001b[39m\u001b[39m.\u001b[39mobj)\n\u001b[1;32m-> 1153\u001b[0m \u001b[39mreturn\u001b[39;00m \u001b[39mself\u001b[39;49m\u001b[39m.\u001b[39;49m_getitem_axis(maybe_callable, axis\u001b[39m=\u001b[39;49maxis)\n",
      "File \u001b[1;32mc:\\Users\\pichau\\miniconda3\\envs\\bigdata\\Lib\\site-packages\\pandas\\core\\indexing.py:1382\u001b[0m, in \u001b[0;36m_LocIndexer._getitem_axis\u001b[1;34m(self, key, axis)\u001b[0m\n\u001b[0;32m   1379\u001b[0m     \u001b[39mif\u001b[39;00m \u001b[39mhasattr\u001b[39m(key, \u001b[39m\"\u001b[39m\u001b[39mndim\u001b[39m\u001b[39m\"\u001b[39m) \u001b[39mand\u001b[39;00m key\u001b[39m.\u001b[39mndim \u001b[39m>\u001b[39m \u001b[39m1\u001b[39m:\n\u001b[0;32m   1380\u001b[0m         \u001b[39mraise\u001b[39;00m \u001b[39mValueError\u001b[39;00m(\u001b[39m\"\u001b[39m\u001b[39mCannot index with multidimensional key\u001b[39m\u001b[39m\"\u001b[39m)\n\u001b[1;32m-> 1382\u001b[0m     \u001b[39mreturn\u001b[39;00m \u001b[39mself\u001b[39;49m\u001b[39m.\u001b[39;49m_getitem_iterable(key, axis\u001b[39m=\u001b[39;49maxis)\n\u001b[0;32m   1384\u001b[0m \u001b[39m# nested tuple slicing\u001b[39;00m\n\u001b[0;32m   1385\u001b[0m \u001b[39mif\u001b[39;00m is_nested_tuple(key, labels):\n",
      "File \u001b[1;32mc:\\Users\\pichau\\miniconda3\\envs\\bigdata\\Lib\\site-packages\\pandas\\core\\indexing.py:1322\u001b[0m, in \u001b[0;36m_LocIndexer._getitem_iterable\u001b[1;34m(self, key, axis)\u001b[0m\n\u001b[0;32m   1319\u001b[0m \u001b[39mself\u001b[39m\u001b[39m.\u001b[39m_validate_key(key, axis)\n\u001b[0;32m   1321\u001b[0m \u001b[39m# A collection of keys\u001b[39;00m\n\u001b[1;32m-> 1322\u001b[0m keyarr, indexer \u001b[39m=\u001b[39m \u001b[39mself\u001b[39;49m\u001b[39m.\u001b[39;49m_get_listlike_indexer(key, axis)\n\u001b[0;32m   1323\u001b[0m \u001b[39mreturn\u001b[39;00m \u001b[39mself\u001b[39m\u001b[39m.\u001b[39mobj\u001b[39m.\u001b[39m_reindex_with_indexers(\n\u001b[0;32m   1324\u001b[0m     {axis: [keyarr, indexer]}, copy\u001b[39m=\u001b[39m\u001b[39mTrue\u001b[39;00m, allow_dups\u001b[39m=\u001b[39m\u001b[39mTrue\u001b[39;00m\n\u001b[0;32m   1325\u001b[0m )\n",
      "File \u001b[1;32mc:\\Users\\pichau\\miniconda3\\envs\\bigdata\\Lib\\site-packages\\pandas\\core\\indexing.py:1520\u001b[0m, in \u001b[0;36m_LocIndexer._get_listlike_indexer\u001b[1;34m(self, key, axis)\u001b[0m\n\u001b[0;32m   1517\u001b[0m ax \u001b[39m=\u001b[39m \u001b[39mself\u001b[39m\u001b[39m.\u001b[39mobj\u001b[39m.\u001b[39m_get_axis(axis)\n\u001b[0;32m   1518\u001b[0m axis_name \u001b[39m=\u001b[39m \u001b[39mself\u001b[39m\u001b[39m.\u001b[39mobj\u001b[39m.\u001b[39m_get_axis_name(axis)\n\u001b[1;32m-> 1520\u001b[0m keyarr, indexer \u001b[39m=\u001b[39m ax\u001b[39m.\u001b[39;49m_get_indexer_strict(key, axis_name)\n\u001b[0;32m   1522\u001b[0m \u001b[39mreturn\u001b[39;00m keyarr, indexer\n",
      "File \u001b[1;32mc:\\Users\\pichau\\miniconda3\\envs\\bigdata\\Lib\\site-packages\\pandas\\core\\indexes\\base.py:6106\u001b[0m, in \u001b[0;36mIndex._get_indexer_strict\u001b[1;34m(self, key, axis_name)\u001b[0m\n\u001b[0;32m   6104\u001b[0m keyarr \u001b[39m=\u001b[39m key\n\u001b[0;32m   6105\u001b[0m \u001b[39mif\u001b[39;00m \u001b[39mnot\u001b[39;00m \u001b[39misinstance\u001b[39m(keyarr, Index):\n\u001b[1;32m-> 6106\u001b[0m     keyarr \u001b[39m=\u001b[39m com\u001b[39m.\u001b[39;49masarray_tuplesafe(keyarr)\n\u001b[0;32m   6108\u001b[0m \u001b[39mif\u001b[39;00m \u001b[39mself\u001b[39m\u001b[39m.\u001b[39m_index_as_unique:\n\u001b[0;32m   6109\u001b[0m     indexer \u001b[39m=\u001b[39m \u001b[39mself\u001b[39m\u001b[39m.\u001b[39mget_indexer_for(keyarr)\n",
      "File \u001b[1;32mc:\\Users\\pichau\\miniconda3\\envs\\bigdata\\Lib\\site-packages\\pandas\\core\\common.py:230\u001b[0m, in \u001b[0;36masarray_tuplesafe\u001b[1;34m(values, dtype)\u001b[0m\n\u001b[0;32m    228\u001b[0m \u001b[39mdef\u001b[39;00m \u001b[39masarray_tuplesafe\u001b[39m(values: Iterable, dtype: NpDtype \u001b[39m|\u001b[39m \u001b[39mNone\u001b[39;00m \u001b[39m=\u001b[39m \u001b[39mNone\u001b[39;00m) \u001b[39m-\u001b[39m\u001b[39m>\u001b[39m ArrayLike:\n\u001b[0;32m    229\u001b[0m     \u001b[39mif\u001b[39;00m \u001b[39mnot\u001b[39;00m (\u001b[39misinstance\u001b[39m(values, (\u001b[39mlist\u001b[39m, \u001b[39mtuple\u001b[39m)) \u001b[39mor\u001b[39;00m \u001b[39mhasattr\u001b[39m(values, \u001b[39m\"\u001b[39m\u001b[39m__array__\u001b[39m\u001b[39m\"\u001b[39m)):\n\u001b[1;32m--> 230\u001b[0m         values \u001b[39m=\u001b[39m \u001b[39mlist\u001b[39;49m(values)\n\u001b[0;32m    231\u001b[0m     \u001b[39melif\u001b[39;00m \u001b[39misinstance\u001b[39m(values, ABCIndex):\n\u001b[0;32m    232\u001b[0m         \u001b[39mreturn\u001b[39;00m values\u001b[39m.\u001b[39m_values\n",
      "File \u001b[1;32mc:\\Users\\pichau\\miniconda3\\envs\\bigdata\\Lib\\site-packages\\pyspark\\pandas\\series.py:7374\u001b[0m, in \u001b[0;36mSeries.__iter__\u001b[1;34m(self)\u001b[0m\n\u001b[0;32m   7373\u001b[0m \u001b[39mdef\u001b[39;00m \u001b[39m__iter__\u001b[39m(\u001b[39mself\u001b[39m) \u001b[39m-\u001b[39m\u001b[39m>\u001b[39m \u001b[39mNone\u001b[39;00m:\n\u001b[1;32m-> 7374\u001b[0m     \u001b[39mreturn\u001b[39;00m MissingPandasLikeSeries\u001b[39m.\u001b[39;49m\u001b[39m__iter__\u001b[39;49m(\u001b[39mself\u001b[39;49m)\n",
      "File \u001b[1;32mc:\\Users\\pichau\\miniconda3\\envs\\bigdata\\Lib\\site-packages\\pyspark\\pandas\\missing\\__init__.py:23\u001b[0m, in \u001b[0;36munsupported_function.<locals>.unsupported_function\u001b[1;34m(*args, **kwargs)\u001b[0m\n\u001b[0;32m     22\u001b[0m \u001b[39mdef\u001b[39;00m \u001b[39munsupported_function\u001b[39m(\u001b[39m*\u001b[39margs, \u001b[39m*\u001b[39m\u001b[39m*\u001b[39mkwargs):\n\u001b[1;32m---> 23\u001b[0m     \u001b[39mraise\u001b[39;00m PandasNotImplementedError(\n\u001b[0;32m     24\u001b[0m         class_name\u001b[39m=\u001b[39mclass_name, method_name\u001b[39m=\u001b[39mmethod_name, reason\u001b[39m=\u001b[39mreason\n\u001b[0;32m     25\u001b[0m     )\n",
      "\u001b[1;31mPandasNotImplementedError\u001b[0m: The method `pd.Series.__iter__()` is not implemented. If you want to collect your data as an NumPy array, use 'to_numpy()' instead."
     ]
    }
   ],
   "source": [
    "# title_basics = title_basics.loc[title_basics['titleType'] == 'movie']\n",
    "# # title_basics = title_basics.loc[title_basics['genres'] != '\\\\N']\n",
    "# title_basics = title_basics.to_pandas().loc[title_basics['tconst'].isin(title_ratings['tconst'].to_pandas())]"
   ]
  }
 ],
 "metadata": {
  "kernelspec": {
   "display_name": "bigdata",
   "language": "python",
   "name": "python3"
  },
  "language_info": {
   "codemirror_mode": {
    "name": "ipython",
    "version": 3
   },
   "file_extension": ".py",
   "mimetype": "text/x-python",
   "name": "python",
   "nbconvert_exporter": "python",
   "pygments_lexer": "ipython3",
   "version": "3.12.0"
  }
 },
 "nbformat": 4,
 "nbformat_minor": 2
}
