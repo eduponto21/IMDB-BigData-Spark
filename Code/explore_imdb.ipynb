{
 "cells": [
  {
   "cell_type": "code",
   "execution_count": 2,
   "metadata": {},
   "outputs": [],
   "source": [
    "from pyspark.sql import SparkSession\n",
    "spark = SparkSession.builder.appName('explore_spark').config('spark.master', 'local').getOrCreate()"
   ]
  },
  {
   "cell_type": "code",
   "execution_count": 8,
   "metadata": {},
   "outputs": [],
   "source": [
    "name_basics = spark.read.load('../Data/name.basics.tsv', format='csv', sep='\\t', inferSchema=True, header=True)\n",
    "title_akas = spark.read.load('../Data/title.akas.tsv', format='csv', sep='\\t', inferSchema=True, header=True)\n",
    "title_basics = spark.read.load('../Data/title.basics.tsv', format='csv', sep='\\t', inferSchema=True, header=True)\n",
    "title_crew = spark.read.load('../Data/title.crew.tsv', format='csv', sep='\\t', inferSchema=True, header=True)\n",
    "title_episode = spark.read.load('../Data/title.episode.tsv', format='csv', sep='\\t', inferSchema=True, header=True)\n",
    "title_principals = spark.read.load('../Data/title.principals.tsv', format='csv', sep='\\t', inferSchema=True, header=True)\n",
    "title_ratings = spark.read.load('../Data/title.ratings.tsv', format='csv', sep='\\t', inferSchema=True, header=True)"
   ]
  },
  {
   "cell_type": "code",
   "execution_count": 10,
   "metadata": {},
   "outputs": [
    {
     "name": "stdout",
     "output_type": "stream",
     "text": [
      "+---------+-------------+---------+---------+--------------------+--------------------+\n",
      "|   nconst|  primaryName|birthYear|deathYear|   primaryProfession|      knownForTitles|\n",
      "+---------+-------------+---------+---------+--------------------+--------------------+\n",
      "|nm0000001| Fred Astaire|     1899|     1987|soundtrack,actor,...|tt0050419,tt00723...|\n",
      "|nm0000002|Lauren Bacall|     1924|     2014|  actress,soundtrack|tt0117057,tt00752...|\n",
      "+---------+-------------+---------+---------+--------------------+--------------------+\n",
      "only showing top 2 rows\n",
      "\n",
      "+---------+--------+----------+------+--------+-----------+-------------+---------------+\n",
      "|  titleId|ordering|     title|region|language|      types|   attributes|isOriginalTitle|\n",
      "+---------+--------+----------+------+--------+-----------+-------------+---------------+\n",
      "|tt0000001|       1|Карменсіта|    UA|      \\N|imdbDisplay|           \\N|              0|\n",
      "|tt0000001|       2|Carmencita|    DE|      \\N|         \\N|literal title|              0|\n",
      "+---------+--------+----------+------+--------+-----------+-------------+---------------+\n",
      "only showing top 2 rows\n",
      "\n",
      "+---------+---------+--------------------+--------------------+-------+---------+-------+--------------+-----------------+\n",
      "|   tconst|titleType|        primaryTitle|       originalTitle|isAdult|startYear|endYear|runtimeMinutes|           genres|\n",
      "+---------+---------+--------------------+--------------------+-------+---------+-------+--------------+-----------------+\n",
      "|tt0000001|    short|          Carmencita|          Carmencita|      0|     1894|     \\N|             1|Documentary,Short|\n",
      "|tt0000002|    short|Le clown et ses c...|Le clown et ses c...|      0|     1892|     \\N|             5|  Animation,Short|\n",
      "+---------+---------+--------------------+--------------------+-------+---------+-------+--------------+-----------------+\n",
      "only showing top 2 rows\n",
      "\n",
      "+---------+---------+-------+\n",
      "|   tconst|directors|writers|\n",
      "+---------+---------+-------+\n",
      "|tt0000001|nm0005690|     \\N|\n",
      "|tt0000002|nm0721526|     \\N|\n",
      "+---------+---------+-------+\n",
      "only showing top 2 rows\n",
      "\n",
      "+---------+------------+------------+-------------+\n",
      "|   tconst|parentTconst|seasonNumber|episodeNumber|\n",
      "+---------+------------+------------+-------------+\n",
      "|tt0041951|   tt0041038|           1|            9|\n",
      "|tt0042816|   tt0989125|           1|           17|\n",
      "+---------+------------+------------+-------------+\n",
      "only showing top 2 rows\n",
      "\n",
      "+---------+--------+---------+--------+---+----------+\n",
      "|   tconst|ordering|   nconst|category|job|characters|\n",
      "+---------+--------+---------+--------+---+----------+\n",
      "|tt0000001|       1|nm1588970|    self| \\N|  [\"Self\"]|\n",
      "|tt0000001|       2|nm0005690|director| \\N|        \\N|\n",
      "+---------+--------+---------+--------+---+----------+\n",
      "only showing top 2 rows\n",
      "\n",
      "+---------+-------------+--------+\n",
      "|   tconst|averageRating|numVotes|\n",
      "+---------+-------------+--------+\n",
      "|tt0000001|          5.7|    2007|\n",
      "|tt0000002|          5.8|     270|\n",
      "+---------+-------------+--------+\n",
      "only showing top 2 rows\n",
      "\n"
     ]
    }
   ],
   "source": [
    "name_basics.show(2)\n",
    "title_akas.show(2)\n",
    "title_basics.show(2)\n",
    "title_crew.show(2)\n",
    "title_episode.show(2)\n",
    "title_principals.show(2)\n",
    "title_ratings.show(2)"
   ]
  },
  {
   "cell_type": "code",
   "execution_count": null,
   "metadata": {},
   "outputs": [],
   "source": []
  }
 ],
 "metadata": {
  "kernelspec": {
   "display_name": "bigdata",
   "language": "python",
   "name": "python3"
  },
  "language_info": {
   "codemirror_mode": {
    "name": "ipython",
    "version": 3
   },
   "file_extension": ".py",
   "mimetype": "text/x-python",
   "name": "python",
   "nbconvert_exporter": "python",
   "pygments_lexer": "ipython3",
   "version": "3.12.0"
  }
 },
 "nbformat": 4,
 "nbformat_minor": 2
}
