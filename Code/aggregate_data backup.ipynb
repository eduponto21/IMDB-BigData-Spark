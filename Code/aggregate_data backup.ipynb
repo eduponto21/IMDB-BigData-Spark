{
 "cells": [
  {
   "cell_type": "code",
   "execution_count": 1,
   "metadata": {},
   "outputs": [],
   "source": [
    "import warnings\n",
    "warnings.filterwarnings(\"ignore\")  # Ignore warnings coming from Arrow optimizations."
   ]
  },
  {
   "cell_type": "code",
   "execution_count": 2,
   "metadata": {},
   "outputs": [],
   "source": [
    "from pyspark.sql import SparkSession\n",
    "from pyspark.sql.functions import *\n",
    "\n",
    "spark = SparkSession.builder.appName('explore_spark').config('spark.master', 'local').getOrCreate()\n",
    "\n",
    "spark.conf.set(\"spark.sql.execution.arrow.pyspark.enabled\", True)\n",
    "# %timeit ps.range(300000).to_pandas()"
   ]
  },
  {
   "cell_type": "markdown",
   "metadata": {},
   "source": [
    "## Carregar dados dos ratings/votos dos títulos"
   ]
  },
  {
   "cell_type": "code",
   "execution_count": 3,
   "metadata": {},
   "outputs": [],
   "source": [
    "title_ratings = spark.read.load('../Data/title.ratings.tsv', format='csv', sep='\\t', inferSchema=True, header=True)"
   ]
  },
  {
   "cell_type": "code",
   "execution_count": 4,
   "metadata": {},
   "outputs": [
    {
     "name": "stdout",
     "output_type": "stream",
     "text": [
      "+---------+-------------+--------+\n",
      "|   tconst|averageRating|numVotes|\n",
      "+---------+-------------+--------+\n",
      "|tt0000001|          5.7|    2007|\n",
      "|tt0000002|          5.8|     270|\n",
      "+---------+-------------+--------+\n",
      "only showing top 2 rows\n",
      "\n"
     ]
    }
   ],
   "source": [
    "title_ratings.show(2)"
   ]
  },
  {
   "cell_type": "markdown",
   "metadata": {},
   "source": [
    "## Carregar dados dos títulos e concatena os ratings/votos com as informações dos titulos\n",
    "- somente aqueles que possuem rating\n",
    "- somente filmes\n",
    "- somente os que possuem algum gênero"
   ]
  },
  {
   "cell_type": "code",
   "execution_count": 5,
   "metadata": {},
   "outputs": [],
   "source": [
    "title_basics = spark.read.load('../Data/title.basics.tsv', format='csv', sep='\\t', inferSchema=True, header=True)"
   ]
  },
  {
   "cell_type": "code",
   "execution_count": 6,
   "metadata": {},
   "outputs": [
    {
     "name": "stdout",
     "output_type": "stream",
     "text": [
      "+------------+-------+\n",
      "|   titleType|  count|\n",
      "+------------+-------+\n",
      "|   tvEpisode|7909714|\n",
      "|       short| 964958|\n",
      "|       movie| 664652|\n",
      "|       video| 283511|\n",
      "|    tvSeries| 253097|\n",
      "|     tvMovie| 143596|\n",
      "|tvMiniSeries|  51367|\n",
      "|   tvSpecial|  44591|\n",
      "|   videoGame|  36627|\n",
      "|     tvShort|  10084|\n",
      "|     tvPilot|      1|\n",
      "+------------+-------+\n",
      "\n"
     ]
    }
   ],
   "source": [
    "# title_basics.select(col('titleType')).distinct().show()\n",
    "title_basics.groupBy('titleType').count().orderBy(col('count').desc()).show()"
   ]
  },
  {
   "cell_type": "code",
   "execution_count": 7,
   "metadata": {},
   "outputs": [],
   "source": [
    "title_basics = title_basics.filter(title_basics['titleType'] == 'movie')\n",
    "title_basics = title_basics.filter(title_basics['genres'] != '\\\\N')"
   ]
  },
  {
   "cell_type": "code",
   "execution_count": 8,
   "metadata": {},
   "outputs": [],
   "source": [
    "# Realiza um join usando 'tconst' como chave e 'inner' como tipo de join\n",
    "# https://sparkbyexamples.com/pyspark/pyspark-join-explained-with-examples/\n",
    "title_basics_filtered = title_basics.join(title_ratings, ['tconst'], 'inner').drop('titleType', 'endYear')"
   ]
  },
  {
   "cell_type": "code",
   "execution_count": 9,
   "metadata": {},
   "outputs": [
    {
     "data": {
      "text/plain": [
       "590391"
      ]
     },
     "execution_count": 9,
     "metadata": {},
     "output_type": "execute_result"
    }
   ],
   "source": [
    "title_basics.count()"
   ]
  },
  {
   "cell_type": "code",
   "execution_count": 10,
   "metadata": {},
   "outputs": [
    {
     "data": {
      "text/plain": [
       "290648"
      ]
     },
     "execution_count": 10,
     "metadata": {},
     "output_type": "execute_result"
    }
   ],
   "source": [
    "title_basics_filtered.count()"
   ]
  },
  {
   "cell_type": "code",
   "execution_count": 11,
   "metadata": {},
   "outputs": [
    {
     "name": "stdout",
     "output_type": "stream",
     "text": [
      "+-------+------+\n",
      "|isAdult| count|\n",
      "+-------+------+\n",
      "|      0|286094|\n",
      "|      1|  4554|\n",
      "+-------+------+\n",
      "\n"
     ]
    }
   ],
   "source": [
    "title_basics_filtered.groupBy('isAdult').count().show()"
   ]
  },
  {
   "cell_type": "code",
   "execution_count": 12,
   "metadata": {},
   "outputs": [],
   "source": [
    "# Criação da nova coluna com a condição de igualdade\n",
    "title_basics_filtered = title_basics_filtered.withColumn('popularIsOriginal', when(title_basics_filtered['primaryTitle'] == title_basics_filtered['originalTitle'], 1).otherwise(0))"
   ]
  },
  {
   "cell_type": "code",
   "execution_count": 13,
   "metadata": {},
   "outputs": [
    {
     "data": {
      "text/plain": [
       "25405"
      ]
     },
     "execution_count": 13,
     "metadata": {},
     "output_type": "execute_result"
    }
   ],
   "source": [
    "# Filtrar as linhas onde 'runtimeMinutes' é igual a '\\N' e contar o número de ocorrências\n",
    "title_basics_filtered.filter(title_basics_filtered['runtimeMinutes'] == '\\\\N').count()"
   ]
  },
  {
   "cell_type": "code",
   "execution_count": 14,
   "metadata": {},
   "outputs": [
    {
     "name": "stdout",
     "output_type": "stream",
     "text": [
      "+---------+--------------------+--------------------+-------+---------+--------------+--------------------+-------------+--------+-----------------+\n",
      "|   tconst|        primaryTitle|       originalTitle|isAdult|startYear|runtimeMinutes|              genres|averageRating|numVotes|popularIsOriginal|\n",
      "+---------+--------------------+--------------------+-------+---------+--------------+--------------------+-------------+--------+-----------------+\n",
      "|tt0000009|          Miss Jerry|          Miss Jerry|      0|     1894|            45|             Romance|          5.3|     208|                1|\n",
      "|tt0000147|The Corbett-Fitzs...|The Corbett-Fitzs...|      0|     1897|           100|Documentary,News,...|          5.3|     485|                1|\n",
      "|tt0000574|The Story of the ...|The Story of the ...|      0|     1906|            70|Action,Adventure,...|          6.0|     855|                1|\n",
      "|tt0000591|    The Prodigal Son|   L'enfant prodigue|      0|     1907|            90|               Drama|          5.0|      21|                0|\n",
      "|tt0000615|  Robbery Under Arms|  Robbery Under Arms|      0|     1907|            \\N|               Drama|          4.3|      25|                1|\n",
      "|tt0000630|              Hamlet|              Amleto|      0|     1908|            \\N|               Drama|          2.9|      27|                0|\n",
      "|tt0000675|         Don Quijote|         Don Quijote|      0|     1908|            \\N|               Drama|          4.2|      20|                1|\n",
      "|tt0000886|Hamlet, Prince of...|              Hamlet|      0|     1910|            \\N|               Drama|          4.7|      40|                0|\n",
      "|tt0000941|      Locura de amor|      Locura de amor|      0|     1909|            45|               Drama|          4.5|      27|                1|\n",
      "|tt0001028|          Salome Mad|          Salome Mad|      0|     1909|            \\N|              Comedy|          4.0|      20|                1|\n",
      "|tt0001049|      Gøngehøvdingen|      Gøngehøvdingen|      0|     1909|            \\N|           Drama,War|          4.2|      18|                1|\n",
      "|tt0001112|              Amleto|              Amleto|      0|     1910|            \\N|               Drama|          3.8|      45|                1|\n",
      "|tt0001115|       Ansigttyven I|       Ansigttyven I|      0|     1910|            \\N|               Crime|          4.3|      20|                1|\n",
      "|tt0001175|             Camille|La dame aux camélias|      0|     1912|            \\N|       Drama,Romance|          5.1|      42|                0|\n",
      "|tt0001184|Don Juan de Serra...|Don Juan de Serra...|      0|     1910|            58|     Adventure,Drama|          3.8|      21|                1|\n",
      "|tt0001240|              Hamlet|              Hamlet|      0|     1911|            \\N|               Drama|          3.8|      22|                1|\n",
      "|tt0001277|         Kapergasten|         Kapergasten|      0|     1910|            \\N|               Drama|          4.4|      25|                1|\n",
      "|tt0001285|   The Life of Moses|   The Life of Moses|      0|     1909|            50|Biography,Drama,F...|          5.4|      59|                1|\n",
      "|tt0001338|      A Night in May|Maiskaya noch, il...|      0|     1910|            \\N|               Drama|          5.2|      18|                0|\n",
      "|tt0001370|Rainha Depois de ...|Rainha Depois de ...|      0|     1910|            \\N|       Drama,History|          5.3|      25|                1|\n",
      "+---------+--------------------+--------------------+-------+---------+--------------+--------------------+-------------+--------+-----------------+\n",
      "only showing top 20 rows\n",
      "\n"
     ]
    }
   ],
   "source": [
    "title_basics_filtered.show()"
   ]
  },
  {
   "cell_type": "code",
   "execution_count": 15,
   "metadata": {},
   "outputs": [
    {
     "name": "stdout",
     "output_type": "stream",
     "text": [
      "root\n",
      " |-- tconst: string (nullable = true)\n",
      " |-- primaryTitle: string (nullable = true)\n",
      " |-- originalTitle: string (nullable = true)\n",
      " |-- isAdult: string (nullable = true)\n",
      " |-- startYear: string (nullable = true)\n",
      " |-- runtimeMinutes: string (nullable = true)\n",
      " |-- genres: string (nullable = true)\n",
      " |-- averageRating: double (nullable = true)\n",
      " |-- numVotes: integer (nullable = true)\n",
      " |-- popularIsOriginal: integer (nullable = false)\n",
      "\n"
     ]
    }
   ],
   "source": [
    "title_basics_filtered.printSchema()"
   ]
  },
  {
   "cell_type": "markdown",
   "metadata": {},
   "source": [
    "## dumificar 'genres'"
   ]
  },
  {
   "cell_type": "code",
   "execution_count": 16,
   "metadata": {},
   "outputs": [
    {
     "name": "stdout",
     "output_type": "stream",
     "text": [
      "+---------+------+-----+---------+---------+---------+------+-----+-----------+-----+------+-------+---------+-------+------+-----+-------+-------+----+----------+-------+------+-----+---------+--------+---+-------+\n",
      "|   tconst|Action|Adult|Adventure|Animation|Biography|Comedy|Crime|Documentary|Drama|Family|Fantasy|Film-Noir|History|Horror|Music|Musical|Mystery|News|Reality-TV|Romance|Sci-Fi|Sport|Talk-Show|Thriller|War|Western|\n",
      "+---------+------+-----+---------+---------+---------+------+-----+-----------+-----+------+-------+---------+-------+------+-----+-------+-------+----+----------+-------+------+-----+---------+--------+---+-------+\n",
      "|tt0000009|     0|    0|        0|        0|        0|     0|    0|          0|    0|     0|      0|        0|      0|     0|    0|      0|      0|   0|         0|      1|     0|    0|        0|       0|  0|      0|\n",
      "|tt0000147|     0|    0|        0|        0|        0|     0|    0|          1|    0|     0|      0|        0|      0|     0|    0|      0|      0|   1|         0|      0|     0|    1|        0|       0|  0|      0|\n",
      "|tt0000574|     1|    0|        1|        0|        1|     0|    0|          0|    0|     0|      0|        0|      0|     0|    0|      0|      0|   0|         0|      0|     0|    0|        0|       0|  0|      0|\n",
      "|tt0000591|     0|    0|        0|        0|        0|     0|    0|          0|    1|     0|      0|        0|      0|     0|    0|      0|      0|   0|         0|      0|     0|    0|        0|       0|  0|      0|\n",
      "|tt0000615|     0|    0|        0|        0|        0|     0|    0|          0|    1|     0|      0|        0|      0|     0|    0|      0|      0|   0|         0|      0|     0|    0|        0|       0|  0|      0|\n",
      "+---------+------+-----+---------+---------+---------+------+-----+-----------+-----+------+-------+---------+-------+------+-----+-------+-------+----+----------+-------+------+-----+---------+--------+---+-------+\n",
      "only showing top 5 rows\n",
      "\n"
     ]
    }
   ],
   "source": [
    "# Dividir a coluna 'genres' por vírgulas e expandir em colunas\n",
    "genres_split = title_basics_filtered.withColumn('genres', split('genres', ','))\n",
    "\n",
    "# Usar a função explode() para criar múltiplas linhas para cada gênero\n",
    "genres_exploded = genres_split.withColumn('genre', explode('genres'))\n",
    "\n",
    "# Criar dummies para cada gênero usando pivot()\n",
    "dummies = genres_exploded.groupBy('tconst').pivot('genre').agg(lit(1)).fillna(0)\n",
    "\n",
    "# Mostrar o DataFrame resultante com as colunas de dummies para gêneros\n",
    "dummies.show(5)"
   ]
  },
  {
   "cell_type": "code",
   "execution_count": 17,
   "metadata": {},
   "outputs": [
    {
     "name": "stdout",
     "output_type": "stream",
     "text": [
      "root\n",
      " |-- tconst: string (nullable = true)\n",
      " |-- Action: integer (nullable = true)\n",
      " |-- Adult: integer (nullable = true)\n",
      " |-- Adventure: integer (nullable = true)\n",
      " |-- Animation: integer (nullable = true)\n",
      " |-- Biography: integer (nullable = true)\n",
      " |-- Comedy: integer (nullable = true)\n",
      " |-- Crime: integer (nullable = true)\n",
      " |-- Documentary: integer (nullable = true)\n",
      " |-- Drama: integer (nullable = true)\n",
      " |-- Family: integer (nullable = true)\n",
      " |-- Fantasy: integer (nullable = true)\n",
      " |-- Film-Noir: integer (nullable = true)\n",
      " |-- History: integer (nullable = true)\n",
      " |-- Horror: integer (nullable = true)\n",
      " |-- Music: integer (nullable = true)\n",
      " |-- Musical: integer (nullable = true)\n",
      " |-- Mystery: integer (nullable = true)\n",
      " |-- News: integer (nullable = true)\n",
      " |-- Reality-TV: integer (nullable = true)\n",
      " |-- Romance: integer (nullable = true)\n",
      " |-- Sci-Fi: integer (nullable = true)\n",
      " |-- Sport: integer (nullable = true)\n",
      " |-- Talk-Show: integer (nullable = true)\n",
      " |-- Thriller: integer (nullable = true)\n",
      " |-- War: integer (nullable = true)\n",
      " |-- Western: integer (nullable = true)\n",
      "\n"
     ]
    }
   ],
   "source": [
    "dummies.printSchema()"
   ]
  },
  {
   "cell_type": "markdown",
   "metadata": {},
   "source": [
    "## Carregar dados dos atores principais/equipe dos títulos\n",
    "- somente dos titulos que possuem rating\n",
    "- somente filmes\n",
    "- somente os que possuem algum gênero\n",
    "- somente atores/atrizes"
   ]
  },
  {
   "cell_type": "code",
   "execution_count": 18,
   "metadata": {},
   "outputs": [],
   "source": [
    "title_principals = spark.read.load('../Data/title.principals.tsv', format='csv', sep='\\t', inferSchema=True, header=True)"
   ]
  },
  {
   "cell_type": "code",
   "execution_count": 19,
   "metadata": {},
   "outputs": [
    {
     "data": {
      "text/plain": [
       "59388712"
      ]
     },
     "execution_count": 19,
     "metadata": {},
     "output_type": "execute_result"
    }
   ],
   "source": [
    "title_principals.count()"
   ]
  },
  {
   "cell_type": "code",
   "execution_count": 20,
   "metadata": {},
   "outputs": [],
   "source": [
    "# Obter os 'tconst' do DataFrame movies\n",
    "tconst_movies = title_basics_filtered.select('tconst')\n",
    "\n",
    "# Filtrar o DataFrame title_principals para manter apenas as linhas em que 'tconst' está presente em movies\n",
    "title_principals_filtered = title_principals.join(tconst_movies, 'tconst', 'inner').drop('job', 'ordering', 'characters')"
   ]
  },
  {
   "cell_type": "code",
   "execution_count": 21,
   "metadata": {},
   "outputs": [
    {
     "data": {
      "text/plain": [
       "2601778"
      ]
     },
     "execution_count": 21,
     "metadata": {},
     "output_type": "execute_result"
    }
   ],
   "source": [
    "title_principals_filtered.count()"
   ]
  },
  {
   "cell_type": "code",
   "execution_count": 22,
   "metadata": {},
   "outputs": [
    {
     "name": "stdout",
     "output_type": "stream",
     "text": [
      "+---------+---------+---------------+\n",
      "|   tconst|   nconst|       category|\n",
      "+---------+---------+---------------+\n",
      "|tt0000941|nm0034453|          actor|\n",
      "|tt0000941|nm0140054|          actor|\n",
      "|tt0000941|nm0243918|          actor|\n",
      "|tt0000941|nm0294022|        actress|\n",
      "|tt0000941|nm0063413|       director|\n",
      "|tt0000941|nm0550220|       director|\n",
      "|tt0000941|nm0848502|         writer|\n",
      "|tt0002026|nm0115982|          actor|\n",
      "|tt0002026|nm0418086|        actress|\n",
      "|tt0002026|nm0027708|          actor|\n",
      "|tt0002026|nm0526167|        actress|\n",
      "|tt0002026|nm0959066|          actor|\n",
      "|tt0002026|nm0259235|       director|\n",
      "|tt0002026|nm0084804|       producer|\n",
      "|tt0002026|nm0064944|          actor|\n",
      "|tt0002026|nm0348052|        actress|\n",
      "|tt0002026|nm0959065|        actress|\n",
      "|tt0002423|nm0913298|cinematographer|\n",
      "|tt0002423|nm0624470|        actress|\n",
      "|tt0002423|nm0417837|          actor|\n",
      "+---------+---------+---------------+\n",
      "only showing top 20 rows\n",
      "\n"
     ]
    }
   ],
   "source": [
    "title_principals_filtered.show()"
   ]
  },
  {
   "cell_type": "code",
   "execution_count": 23,
   "metadata": {},
   "outputs": [
    {
     "name": "stdout",
     "output_type": "stream",
     "text": [
      "+-------------------+\n",
      "|           category|\n",
      "+-------------------+\n",
      "|            actress|\n",
      "|           producer|\n",
      "|             writer|\n",
      "|           composer|\n",
      "|           director|\n",
      "|               self|\n",
      "|              actor|\n",
      "|             editor|\n",
      "|    cinematographer|\n",
      "|      archive_sound|\n",
      "|production_designer|\n",
      "|    archive_footage|\n",
      "+-------------------+\n",
      "\n"
     ]
    }
   ],
   "source": [
    "title_principals_filtered.select('category').distinct().show()"
   ]
  },
  {
   "cell_type": "code",
   "execution_count": 24,
   "metadata": {},
   "outputs": [],
   "source": [
    "# separar as categorias\n",
    "actors = ['actress', 'actor', 'self']\n",
    "producers = ['writer', 'director', 'producer']\n",
    "crew = ['composer', 'editor', 'cinematographer', 'archive_sound', 'production_designer', 'archive_footage']\n",
    "\n",
    "title_principals_filtered_actors = title_principals_filtered.filter(col('category').isin(actors))\n",
    "title_principals_filtered_producers = title_principals_filtered.filter(col('category').isin(producers))\n",
    "title_principals_filtered_crew = title_principals_filtered.filter(col('category').isin(crew))"
   ]
  },
  {
   "cell_type": "code",
   "execution_count": 25,
   "metadata": {},
   "outputs": [
    {
     "data": {
      "text/plain": [
       "1183790"
      ]
     },
     "execution_count": 25,
     "metadata": {},
     "output_type": "execute_result"
    }
   ],
   "source": [
    "title_principals_filtered_actors.count()"
   ]
  },
  {
   "cell_type": "code",
   "execution_count": 26,
   "metadata": {},
   "outputs": [
    {
     "data": {
      "text/plain": [
       "856025"
      ]
     },
     "execution_count": 26,
     "metadata": {},
     "output_type": "execute_result"
    }
   ],
   "source": [
    "title_principals_filtered_producers.count()"
   ]
  },
  {
   "cell_type": "code",
   "execution_count": 27,
   "metadata": {},
   "outputs": [
    {
     "data": {
      "text/plain": [
       "561963"
      ]
     },
     "execution_count": 27,
     "metadata": {},
     "output_type": "execute_result"
    }
   ],
   "source": [
    "title_principals_filtered_crew.count()"
   ]
  },
  {
   "cell_type": "code",
   "execution_count": 28,
   "metadata": {},
   "outputs": [
    {
     "name": "stdout",
     "output_type": "stream",
     "text": [
      "+---------+---------+--------+\n",
      "|   tconst|   nconst|category|\n",
      "+---------+---------+--------+\n",
      "|tt0000630|nm0624446| actress|\n",
      "|tt0000941|nm0034453|   actor|\n",
      "+---------+---------+--------+\n",
      "only showing top 2 rows\n",
      "\n"
     ]
    }
   ],
   "source": [
    "title_principals_filtered_actors.show(2)"
   ]
  },
  {
   "cell_type": "markdown",
   "metadata": {},
   "source": [
    "## Fazer a media de cada grupo pros filmes"
   ]
  },
  {
   "cell_type": "code",
   "execution_count": 29,
   "metadata": {},
   "outputs": [
    {
     "name": "stdout",
     "output_type": "stream",
     "text": [
      "+---------+------------------+------------------+\n",
      "|   nconst|         avgRating|       avgNumVotes|\n",
      "+---------+------------------+------------------+\n",
      "|nm0000847| 5.836363636363637| 92.13636363636364|\n",
      "|nm0709856| 5.933333333333333|160.66666666666666|\n",
      "|nm0689160| 4.333333333333333|36.333333333333336|\n",
      "|nm0733443|               6.2|29.333333333333332|\n",
      "|nm0408172| 6.175000000000001|              75.0|\n",
      "|nm0658029| 5.866666666666667|30.666666666666668|\n",
      "|nm0392340| 6.128571428571428|233.42857142857142|\n",
      "|nm0493491|               7.4|            8312.0|\n",
      "|nm0107574| 6.148148148148148|301.75925925925924|\n",
      "|nm0849800|              6.25|              27.0|\n",
      "|nm0151964| 6.045454545454546| 61.09090909090909|\n",
      "|nm0269647|             6.275|            760.25|\n",
      "|nm0706978|              5.75|           179.625|\n",
      "|nm0018091|6.0032258064516135| 87.41935483870968|\n",
      "|nm0564706| 6.166666666666667|             126.0|\n",
      "|nm0789419|               6.4|             160.0|\n",
      "|nm0932629| 5.936111111111112| 653.4722222222222|\n",
      "|nm0196089|5.5200000000000005|              52.4|\n",
      "|nm0706926| 6.342499999999999|             315.1|\n",
      "|nm0932425|              5.85|           101.625|\n",
      "+---------+------------------+------------------+\n",
      "only showing top 20 rows\n",
      "\n"
     ]
    }
   ],
   "source": [
    "from pyspark.sql.functions import avg\n",
    "\n",
    "# Etapa 1: Obter todos os títulos associados aos nomes presentes no dataset title_principals_filtered_actors\n",
    "titles_for_names = title_principals_filtered_actors.select('nconst', 'tconst').distinct()\n",
    "\n",
    "# Etapa 2: Calcular as médias de 'averageRating' e 'numVotes' para esses títulos\n",
    "avg_ratings_votes = titles_for_names.join(title_basics_filtered, 'tconst', 'inner') \\\n",
    "    .groupBy('nconst') \\\n",
    "    .agg(avg('averageRating').alias('avgRating'), avg('numVotes').alias('avgNumVotes'))\n",
    "\n",
    "# Mostrar o DataFrame resultante com as médias calculadas\n",
    "avg_ratings_votes.show()"
   ]
  },
  {
   "cell_type": "code",
   "execution_count": 30,
   "metadata": {},
   "outputs": [
    {
     "name": "stdout",
     "output_type": "stream",
     "text": [
      "+---------+------------------+------------------+\n",
      "|   tconst|  avgRatingPerFilm|avgNumVotesPerFilm|\n",
      "+---------+------------------+------------------+\n",
      "|tt0090955| 6.665793402289146| 3845.675810787832|\n",
      "|tt0036323| 6.234864333057166| 9289.148685618613|\n",
      "|tt0039305| 6.651033981667784| 7904.853789403086|\n",
      "|tt0021156| 6.370713181420985|3430.0409271175145|\n",
      "|tt0058413| 6.401197756865973|2272.7633587143605|\n",
      "|tt0036277|6.5467464341917925|  4537.81649930474|\n",
      "|tt0045031| 6.308482142857143| 7868.944196428572|\n",
      "|tt0032599| 6.514374271561771|7326.7717942383715|\n",
      "|tt0054152| 6.539334180312441|15050.168534726143|\n",
      "|tt0054412| 6.349295634920635|17177.531448412698|\n",
      "|tt0034269|6.3825033068783075| 5789.548613955737|\n",
      "|tt0035769| 6.440154483953469|4775.8472975620825|\n",
      "|tt0047072| 6.243173532132557| 1886.574114382108|\n",
      "|tt0070077| 6.084701213818861|10357.355666433241|\n",
      "|tt0063210| 6.161137650085763|5064.3422234133795|\n",
      "|tt0046949| 6.397844537815127|3986.6031123560538|\n",
      "|tt0027462|6.1392593198168735|3051.2801133638545|\n",
      "|tt2629506| 6.646527777777778| 7643.402777777777|\n",
      "|tt0083109| 6.111298372588255|2536.8279353991884|\n",
      "|tt0091537| 5.720227027826492| 3220.121614126645|\n",
      "+---------+------------------+------------------+\n",
      "only showing top 20 rows\n",
      "\n"
     ]
    }
   ],
   "source": [
    "# Etapa 1: Obter todos os nomes associados a cada filme no title_basics_filtered\n",
    "names_for_titles = title_principals_filtered_actors.select('tconst', 'nconst').distinct()\n",
    "\n",
    "# Etapa 2: Juntar esses nomes com as médias já calculadas\n",
    "joined_data = avg_ratings_votes.join(names_for_titles, 'nconst', 'inner')\n",
    "\n",
    "# Etapa 3: Calcular as médias dos filmes com base nos nomes associados\n",
    "avg_ratings_per_film = joined_data.groupBy('tconst') \\\n",
    "    .agg(avg('avgRating').alias('avgRatingPerFilm'), avg('avgNumVotes').alias('avgNumVotesPerFilm'))\n",
    "\n",
    "# Mostrar o DataFrame resultante com as médias calculadas para cada filme\n",
    "avg_ratings_per_film.show()"
   ]
  },
  {
   "cell_type": "code",
   "execution_count": null,
   "metadata": {},
   "outputs": [],
   "source": []
  },
  {
   "cell_type": "code",
   "execution_count": 31,
   "metadata": {},
   "outputs": [],
   "source": [
    "# Selecionar apenas a coluna 'tconst' e coletar os valores\n",
    "tconst_values = title_basics_filtered.select('tconst').collect()\n",
    "\n",
    "# Converter os valores coletados em uma lista Python\n",
    "filmes_list = [row['tconst'] for row in tconst_values]"
   ]
  },
  {
   "cell_type": "code",
   "execution_count": 32,
   "metadata": {},
   "outputs": [
    {
     "name": "stdout",
     "output_type": "stream",
     "text": [
      "quantidade total de filmes:  290648\n",
      "filme:  tt0000009\n",
      "['nm0063086', 'nm0183823', 'nm1309758']\n",
      "+---------+---------+--------+\n",
      "|   tconst|   nconst|category|\n",
      "+---------+---------+--------+\n",
      "|tt0000009|nm0063086| actress|\n",
      "|tt0000009|nm0183823|   actor|\n",
      "|tt0000009|nm1309758|   actor|\n",
      "+---------+---------+--------+\n",
      "\n"
     ]
    }
   ],
   "source": [
    "print('quantidade total de filmes: ', len(filmes_list))\n",
    "\n",
    "# para cada filme\n",
    "for filme in filmes_list:\n",
    "\n",
    "    print('filme: ', filme)\n",
    "\n",
    "    ##########################################################################################\n",
    "    #seleciona os atores\n",
    "    atores = title_principals_filtered_actors.filter(col('tconst') == filme)\n",
    "\n",
    "    nconst_values = atores.select('nconst').collect()\n",
    "    atores_list = [row['nconst'] for row in nconst_values]\n",
    "    \n",
    "    print(atores_list)\n",
    "\n",
    "    # separa todos os dados desses atores, para coletar os filmes deles\n",
    "    atores_completo = title_principals_filtered_actors.filter(col('nconst').isin(atores_list))\n",
    "\n",
    "    # pega os IDs unicos dos filmes que esses atores participaram\n",
    "    # Selecionar a coluna 'tconst' e encontrar os filmes únicos\n",
    "    filmes_unicos = atores_completo.select('tconst').distinct().collect()\n",
    "\n",
    "    # Converter os filmes coletados em uma lista Python\n",
    "    lista_filmes_unicos = [row['tconst'] for row in filmes_unicos]\n",
    "\n",
    "    # isolar esses filmes no dataframe com as notas/votos e fazer a média deles\n",
    "    dados_filmes_unicos = title_basics_filtered.filter(col('tconst').isin(lista_filmes_unicos))\n",
    "\n",
    "    \n",
    "    atores.show()\n",
    "    break\n",
    "\n",
    "    ##########################################################################################\n"
   ]
  },
  {
   "cell_type": "code",
   "execution_count": 33,
   "metadata": {},
   "outputs": [
    {
     "name": "stdout",
     "output_type": "stream",
     "text": [
      "+---------+--------------------+--------------------+-------+---------+--------------+--------------------+-------------+--------+-----------------+\n",
      "|   tconst|        primaryTitle|       originalTitle|isAdult|startYear|runtimeMinutes|              genres|averageRating|numVotes|popularIsOriginal|\n",
      "+---------+--------------------+--------------------+-------+---------+--------------+--------------------+-------------+--------+-----------------+\n",
      "|tt0000009|          Miss Jerry|          Miss Jerry|      0|     1894|            45|             Romance|          5.3|     208|                1|\n",
      "|tt0000147|The Corbett-Fitzs...|The Corbett-Fitzs...|      0|     1897|           100|Documentary,News,...|          5.3|     485|                1|\n",
      "+---------+--------------------+--------------------+-------+---------+--------------+--------------------+-------------+--------+-----------------+\n",
      "only showing top 2 rows\n",
      "\n"
     ]
    }
   ],
   "source": [
    "title_basics_filtered.show(2)"
   ]
  },
  {
   "cell_type": "markdown",
   "metadata": {},
   "source": [
    "## Analisar titulos localizados"
   ]
  },
  {
   "cell_type": "code",
   "execution_count": 35,
   "metadata": {},
   "outputs": [],
   "source": [
    "title_akas = spark.read.load('../Data/title.akas.tsv', format='csv', sep='\\t', inferSchema=True, header=True)"
   ]
  },
  {
   "cell_type": "code",
   "execution_count": 36,
   "metadata": {},
   "outputs": [
    {
     "name": "stdout",
     "output_type": "stream",
     "text": [
      "+---------+--------+--------------------+------+--------+-----------+--------------------+---------------+\n",
      "|  titleId|ordering|               title|region|language|      types|          attributes|isOriginalTitle|\n",
      "+---------+--------+--------------------+------+--------+-----------+--------------------+---------------+\n",
      "|tt0000001|       1|          Карменсіта|    UA|      \\N|imdbDisplay|                  \\N|              0|\n",
      "|tt0000001|       2|          Carmencita|    DE|      \\N|         \\N|       literal title|              0|\n",
      "|tt0000001|       3|Carmencita - span...|    HU|      \\N|imdbDisplay|                  \\N|              0|\n",
      "|tt0000001|       4|          Καρμενσίτα|    GR|      \\N|imdbDisplay|                  \\N|              0|\n",
      "|tt0000001|       5|          Карменсита|    RU|      \\N|imdbDisplay|                  \\N|              0|\n",
      "|tt0000001|       6|          Carmencita|    US|      \\N|imdbDisplay|                  \\N|              0|\n",
      "|tt0000001|       7|          Carmencita|    \\N|      \\N|   original|                  \\N|              1|\n",
      "|tt0000001|       8|      カルメンチータ|    JP|      ja|imdbDisplay|                  \\N|              0|\n",
      "|tt0000002|       1|Le clown et ses c...|    \\N|      \\N|   original|                  \\N|              1|\n",
      "|tt0000002|       2|Le clown et ses c...|    FR|      \\N|imdbDisplay|                  \\N|              0|\n",
      "|tt0000002|       3|   A bohóc és kutyái|    HU|      \\N|imdbDisplay|                  \\N|              0|\n",
      "|tt0000002|       4|Der Clown und sei...|    DE|      \\N|         \\N|       literal title|              0|\n",
      "|tt0000002|       5|Clovnul si cainii...|    RO|      \\N|imdbDisplay|                  \\N|              0|\n",
      "|tt0000002|       6|  Клоун и его собаки|    RU|      \\N|imdbDisplay|                  \\N|              0|\n",
      "|tt0000002|       7|The Clown and His...|    US|      \\N|         \\N|literal English t...|              0|\n",
      "|tt0000002|       8|          道化師と犬|    JP|      ja|imdbDisplay|                  \\N|              0|\n",
      "|tt0000003|       1|    Sarmanul Pierrot|    RO|      \\N|imdbDisplay|                  \\N|              0|\n",
      "|tt0000003|       2|     Szegény Pierrot|    HU|      \\N|imdbDisplay|                  \\N|              0|\n",
      "|tt0000003|       3|        哀れなピエロ|    JP|      ja|imdbDisplay|                  \\N|              0|\n",
      "|tt0000003|       4|        Бідний П'єро|    UA|      \\N|imdbDisplay|                  \\N|              0|\n",
      "+---------+--------+--------------------+------+--------+-----------+--------------------+---------------+\n",
      "only showing top 20 rows\n",
      "\n"
     ]
    }
   ],
   "source": [
    "title_akas.show()"
   ]
  },
  {
   "cell_type": "code",
   "execution_count": 38,
   "metadata": {},
   "outputs": [],
   "source": [
    "# Obter os 'tconst' do DataFrame movies\n",
    "# tconst_movies contém os IDs de filmes já selecionados\n",
    "\n",
    "# filtrar somente as entradas de titulos que estamos considerando\n",
    "title_akas_filtered = title_akas.join(tconst_movies, title_akas['titleId'] == tconst_movies['tconst'], 'inner')"
   ]
  },
  {
   "cell_type": "code",
   "execution_count": 39,
   "metadata": {},
   "outputs": [
    {
     "name": "stdout",
     "output_type": "stream",
     "text": [
      "+---------+--------+--------------------+------+--------+-----------+--------------------+---------------+---------+\n",
      "|  titleId|ordering|               title|region|language|      types|          attributes|isOriginalTitle|   tconst|\n",
      "+---------+--------+--------------------+------+--------+-----------+--------------------+---------------+---------+\n",
      "|tt0000941|       1|      Locura de amor|    \\N|      \\N|   original|                  \\N|              1|tt0000941|\n",
      "|tt0000941|       2|          Love Crazy|   XWW|      en|         \\N|informal literal ...|              0|tt0000941|\n",
      "|tt0000941|       3|      Locura de amor|    ES|      \\N|imdbDisplay|                  \\N|              0|tt0000941|\n",
      "|tt0002026|       1|Anny - en gatepig...|    NO|      \\N|imdbDisplay|                  \\N|              0|tt0002026|\n",
      "|tt0002026|       2|Anny - Story of a...|   XWW|      en|         \\N|                  \\N|              0|tt0002026|\n",
      "|tt0002026|       3|Anny - en gatepig...|    \\N|      \\N|   original|                  \\N|              1|tt0002026|\n",
      "|tt0002423|      10|     Kungens Mätress|    SE|      \\N|         \\N|                  \\N|              0|tt0002423|\n",
      "|tt0002423|      11|          パッション|    JP|      ja|imdbDisplay|                  \\N|              0|tt0002423|\n",
      "|tt0002423|      12|             Passion|    FR|      \\N|imdbDisplay|                  \\N|              0|tt0002423|\n",
      "|tt0002423|      13|      Madame DuBarry|    PL|      \\N|         \\N|                  \\N|              0|tt0002423|\n",
      "|tt0002423|      14|      Madame DuBarry|    GB|      \\N|imdbDisplay|                  \\N|              0|tt0002423|\n",
      "|tt0002423|      15|        Мадам ДюБари|    BG|      bg|imdbDisplay|                  \\N|              0|tt0002423|\n",
      "|tt0002423|      16|      Madame Dubarry|    HU|      \\N|imdbDisplay|                  \\N|              0|tt0002423|\n",
      "|tt0002423|      17|      Madame DuBarry|    ES|      \\N|imdbDisplay|                  \\N|              0|tt0002423|\n",
      "|tt0002423|      18|      Madame DuBarry|    BR|      \\N|         \\N|                  \\N|              0|tt0002423|\n",
      "|tt0002423|       1|      Madame DuBarry|    \\N|      \\N|   original|                  \\N|              1|tt0002423|\n",
      "|tt0002423|       2|             Passion|    US|      \\N|imdbDisplay|                  \\N|              0|tt0002423|\n",
      "|tt0002423|       3|      Madame DuBarry|    DK|      \\N|imdbDisplay|                  \\N|              0|tt0002423|\n",
      "|tt0002423|       4|       Мадам ДюБарри|    RU|      \\N|imdbDisplay|                  \\N|              0|tt0002423|\n",
      "|tt0002423|       5|         La Du Barry|    FR|      \\N|         \\N|       reissue title|              0|tt0002423|\n",
      "+---------+--------+--------------------+------+--------+-----------+--------------------+---------------+---------+\n",
      "only showing top 20 rows\n",
      "\n"
     ]
    }
   ],
   "source": [
    "title_akas_filtered.show()"
   ]
  },
  {
   "cell_type": "code",
   "execution_count": 45,
   "metadata": {},
   "outputs": [
    {
     "name": "stdout",
     "output_type": "stream",
     "text": [
      "+---------+--------------------+\n",
      "|   tconst|numberOfTranslations|\n",
      "+---------+--------------------+\n",
      "|tt0000147|                   3|\n",
      "|tt0000574|                   9|\n",
      "|tt0000630|                   5|\n",
      "|tt0000675|                   2|\n",
      "|tt0000886|                   4|\n",
      "|tt0000941|                   3|\n",
      "|tt0001028|                   2|\n",
      "|tt0001049|                   3|\n",
      "|tt0001112|                   4|\n",
      "|tt0001115|                   2|\n",
      "|tt0001184|                   2|\n",
      "|tt0001277|                   2|\n",
      "|tt0001338|                   3|\n",
      "|tt0001370|                   2|\n",
      "|tt0001440|                   3|\n",
      "|tt0001498|                   4|\n",
      "|tt0001530|                   3|\n",
      "|tt0001790|                   6|\n",
      "|tt0001812|                   2|\n",
      "|tt0001911|                   5|\n",
      "+---------+--------------------+\n",
      "only showing top 20 rows\n",
      "\n"
     ]
    }
   ],
   "source": [
    "title_akas_filtered_translations = title_akas_filtered.groupBy('tconst').count().withColumnRenamed('count', 'numberOfTranslations')\n",
    "title_akas_filtered_translations.show()"
   ]
  },
  {
   "cell_type": "markdown",
   "metadata": {},
   "source": [
    "## Agregar dataset de features"
   ]
  },
  {
   "cell_type": "code",
   "execution_count": 44,
   "metadata": {},
   "outputs": [
    {
     "name": "stdout",
     "output_type": "stream",
     "text": [
      "+---------+--------------------+--------------------+-------+---------+--------------+--------------------+-------------+--------+-----------------+\n",
      "|   tconst|        primaryTitle|       originalTitle|isAdult|startYear|runtimeMinutes|              genres|averageRating|numVotes|popularIsOriginal|\n",
      "+---------+--------------------+--------------------+-------+---------+--------------+--------------------+-------------+--------+-----------------+\n",
      "|tt0000009|          Miss Jerry|          Miss Jerry|      0|     1894|            45|             Romance|          5.3|     208|                1|\n",
      "|tt0000147|The Corbett-Fitzs...|The Corbett-Fitzs...|      0|     1897|           100|Documentary,News,...|          5.3|     485|                1|\n",
      "|tt0000574|The Story of the ...|The Story of the ...|      0|     1906|            70|Action,Adventure,...|          6.0|     855|                1|\n",
      "|tt0000591|    The Prodigal Son|   L'enfant prodigue|      0|     1907|            90|               Drama|          5.0|      21|                0|\n",
      "|tt0000615|  Robbery Under Arms|  Robbery Under Arms|      0|     1907|            \\N|               Drama|          4.3|      25|                1|\n",
      "|tt0000630|              Hamlet|              Amleto|      0|     1908|            \\N|               Drama|          2.9|      27|                0|\n",
      "|tt0000675|         Don Quijote|         Don Quijote|      0|     1908|            \\N|               Drama|          4.2|      20|                1|\n",
      "|tt0000886|Hamlet, Prince of...|              Hamlet|      0|     1910|            \\N|               Drama|          4.7|      40|                0|\n",
      "|tt0000941|      Locura de amor|      Locura de amor|      0|     1909|            45|               Drama|          4.5|      27|                1|\n",
      "|tt0001028|          Salome Mad|          Salome Mad|      0|     1909|            \\N|              Comedy|          4.0|      20|                1|\n",
      "|tt0001049|      Gøngehøvdingen|      Gøngehøvdingen|      0|     1909|            \\N|           Drama,War|          4.2|      18|                1|\n",
      "|tt0001112|              Amleto|              Amleto|      0|     1910|            \\N|               Drama|          3.8|      45|                1|\n",
      "|tt0001115|       Ansigttyven I|       Ansigttyven I|      0|     1910|            \\N|               Crime|          4.3|      20|                1|\n",
      "|tt0001175|             Camille|La dame aux camélias|      0|     1912|            \\N|       Drama,Romance|          5.1|      42|                0|\n",
      "|tt0001184|Don Juan de Serra...|Don Juan de Serra...|      0|     1910|            58|     Adventure,Drama|          3.8|      21|                1|\n",
      "|tt0001240|              Hamlet|              Hamlet|      0|     1911|            \\N|               Drama|          3.8|      22|                1|\n",
      "|tt0001277|         Kapergasten|         Kapergasten|      0|     1910|            \\N|               Drama|          4.4|      25|                1|\n",
      "|tt0001285|   The Life of Moses|   The Life of Moses|      0|     1909|            50|Biography,Drama,F...|          5.4|      59|                1|\n",
      "|tt0001338|      A Night in May|Maiskaya noch, il...|      0|     1910|            \\N|               Drama|          5.2|      18|                0|\n",
      "|tt0001370|Rainha Depois de ...|Rainha Depois de ...|      0|     1910|            \\N|       Drama,History|          5.3|      25|                1|\n",
      "+---------+--------------------+--------------------+-------+---------+--------------+--------------------+-------------+--------+-----------------+\n",
      "only showing top 20 rows\n",
      "\n"
     ]
    }
   ],
   "source": [
    "title_basics_filtered.show()"
   ]
  },
  {
   "cell_type": "code",
   "execution_count": 48,
   "metadata": {},
   "outputs": [],
   "source": [
    "titles_features_complete = title_basics_filtered.join(title_akas_filtered_translations, 'tconst', 'inner')\n",
    "titles_features_complete = titles_features_complete.join(dummies, 'tconst', 'inner')"
   ]
  },
  {
   "cell_type": "code",
   "execution_count": 49,
   "metadata": {},
   "outputs": [
    {
     "name": "stdout",
     "output_type": "stream",
     "text": [
      "+---------+--------------------+--------------------+-------+---------+--------------+--------------------+-------------+--------+-----------------+--------------------+------+-----+---------+---------+---------+------+-----+-----------+-----+------+-------+---------+-------+------+-----+-------+-------+----+----------+-------+------+-----+---------+--------+---+-------+\n",
      "|   tconst|        primaryTitle|       originalTitle|isAdult|startYear|runtimeMinutes|              genres|averageRating|numVotes|popularIsOriginal|numberOfTranslations|Action|Adult|Adventure|Animation|Biography|Comedy|Crime|Documentary|Drama|Family|Fantasy|Film-Noir|History|Horror|Music|Musical|Mystery|News|Reality-TV|Romance|Sci-Fi|Sport|Talk-Show|Thriller|War|Western|\n",
      "+---------+--------------------+--------------------+-------+---------+--------------+--------------------+-------------+--------+-----------------+--------------------+------+-----+---------+---------+---------+------+-----+-----------+-----+------+-------+---------+-------+------+-----+-------+-------+----+----------+-------+------+-----+---------+--------+---+-------+\n",
      "|tt0000630|              Hamlet|              Amleto|      0|     1908|            \\N|               Drama|          2.9|      27|                0|                   5|     0|    0|        0|        0|        0|     0|    0|          0|    1|     0|      0|        0|      0|     0|    0|      0|      0|   0|         0|      0|     0|    0|        0|       0|  0|      0|\n",
      "|tt0000675|         Don Quijote|         Don Quijote|      0|     1908|            \\N|               Drama|          4.2|      20|                1|                   2|     0|    0|        0|        0|        0|     0|    0|          0|    1|     0|      0|        0|      0|     0|    0|      0|      0|   0|         0|      0|     0|    0|        0|       0|  0|      0|\n",
      "|tt0000941|      Locura de amor|      Locura de amor|      0|     1909|            45|               Drama|          4.5|      27|                1|                   3|     0|    0|        0|        0|        0|     0|    0|          0|    1|     0|      0|        0|      0|     0|    0|      0|      0|   0|         0|      0|     0|    0|        0|       0|  0|      0|\n",
      "|tt0001028|          Salome Mad|          Salome Mad|      0|     1909|            \\N|              Comedy|          4.0|      20|                1|                   2|     0|    0|        0|        0|        0|     1|    0|          0|    0|     0|      0|        0|      0|     0|    0|      0|      0|   0|         0|      0|     0|    0|        0|       0|  0|      0|\n",
      "|tt0001112|              Amleto|              Amleto|      0|     1910|            \\N|               Drama|          3.8|      45|                1|                   4|     0|    0|        0|        0|        0|     0|    0|          0|    1|     0|      0|        0|      0|     0|    0|      0|      0|   0|         0|      0|     0|    0|        0|       0|  0|      0|\n",
      "|tt0001115|       Ansigttyven I|       Ansigttyven I|      0|     1910|            \\N|               Crime|          4.3|      20|                1|                   2|     0|    0|        0|        0|        0|     0|    1|          0|    0|     0|      0|        0|      0|     0|    0|      0|      0|   0|         0|      0|     0|    0|        0|       0|  0|      0|\n",
      "|tt0001184|Don Juan de Serra...|Don Juan de Serra...|      0|     1910|            58|     Adventure,Drama|          3.8|      21|                1|                   2|     0|    0|        1|        0|        0|     0|    0|          0|    1|     0|      0|        0|      0|     0|    0|      0|      0|   0|         0|      0|     0|    0|        0|       0|  0|      0|\n",
      "|tt0001338|      A Night in May|Maiskaya noch, il...|      0|     1910|            \\N|               Drama|          5.2|      18|                0|                   3|     0|    0|        0|        0|        0|     0|    0|          0|    1|     0|      0|        0|      0|     0|    0|      0|      0|   0|         0|      0|     0|    0|        0|       0|  0|      0|\n",
      "|tt0001498|The Battle of Tra...|The Battle of Tra...|      0|     1911|            51|                 War|          7.8|      14|                1|                   4|     0|    0|        0|        0|        0|     0|    0|          0|    0|     0|      0|        0|      0|     0|    0|      0|      0|   0|         0|      0|     0|    0|        0|       0|  1|      0|\n",
      "|tt0001790|Les Misérables, P...|Les misérables - ...|      0|     1913|            60|               Drama|          6.0|      52|                0|                   6|     0|    0|        0|        0|        0|     0|    0|          0|    1|     0|      0|        0|      0|     0|    0|      0|      0|   0|         0|      0|     0|    0|        0|       0|  0|      0|\n",
      "|tt0001812|         Oedipus Rex|         Oedipus Rex|      0|     1911|            56|               Drama|          5.5|      14|                1|                   2|     0|    0|        0|        0|        0|     0|    0|          0|    1|     0|      0|        0|      0|     0|    0|      0|      0|   0|         0|      0|     0|    0|        0|       0|  0|      0|\n",
      "|tt0001911|         Nell Gwynne|Sweet Nell of Old...|      0|     1911|            50|Biography,Drama,H...|          3.6|      24|                0|                   5|     0|    0|        0|        0|        1|     0|    0|          0|    1|     0|      0|        0|      1|     0|    0|      0|      0|   0|         0|      0|     0|    0|        0|       0|  0|      0|\n",
      "|tt0001998|The Adventures of...|The Adventures of...|      0|     1912|            47|               Drama|          4.6|      41|                1|                   3|     0|    0|        0|        0|        0|     0|    0|          0|    1|     0|      0|        0|      0|     0|    0|      0|      0|   0|         0|      0|     0|    0|        0|       0|  0|      0|\n",
      "|tt0002026|Anny - Story of a...|Anny - en gatepig...|      0|     1912|            68|       Drama,Romance|          4.5|      15|                0|                   3|     0|    0|        0|        0|        0|     0|    0|          0|    1|     0|      0|        0|      0|     0|    0|      0|      0|   0|         0|      1|     0|    0|        0|       0|  0|      0|\n",
      "|tt0002153|The Great Circus ...|Dødsspring til he...|      0|     1912|            45|               Drama|          5.9|      78|                0|                  15|     0|    0|        0|        0|        0|     0|    0|          0|    1|     0|      0|        0|      0|     0|    0|      0|      0|   0|         0|      0|     0|    0|        0|       0|  0|      0|\n",
      "|tt0002199|From the Manger t...|From the Manger t...|      0|     1912|            60|     Biography,Drama|          5.8|     624|                1|                   9|     0|    0|        0|        0|        1|     0|    0|          0|    1|     0|      0|        0|      0|     0|    0|      0|      0|   0|         0|      0|     0|    0|        0|       0|  0|      0|\n",
      "|tt0002406|        Oliver Twist|        Oliver Twist|      0|     1912|            \\N|               Drama|          4.6|      26|                1|                   3|     0|    0|        0|        0|        0|     0|    0|          0|    1|     0|      0|        0|      0|     0|    0|      0|      0|   0|         0|      0|     0|    0|        0|       0|  0|      0|\n",
      "|tt0002423|             Passion|      Madame DuBarry|      0|     1919|            85|Biography,Drama,R...|          6.6|     975|                0|                  18|     0|    0|        0|        0|        1|     0|    0|          0|    1|     0|      0|        0|      0|     0|    0|      0|      0|   0|         0|      1|     0|    0|        0|       0|  0|      0|\n",
      "|tt0002452|The Independence ...|Independenta Roma...|      0|     1912|           120|         History,War|          6.4|     264|                0|                  13|     0|    0|        0|        0|        0|     0|    0|          0|    0|     0|      0|        0|      1|     0|    0|      0|      0|   0|         0|      0|     0|    0|        0|       0|  1|      0|\n",
      "|tt0002500|The Black Chancellor|   Den sorte kansler|      0|     1912|            48|               Drama|          6.0|      23|                0|                   8|     0|    0|        0|        0|        0|     0|    0|          0|    1|     0|      0|        0|      0|     0|    0|      0|      0|   0|         0|      0|     0|    0|        0|       0|  0|      0|\n",
      "+---------+--------------------+--------------------+-------+---------+--------------+--------------------+-------------+--------+-----------------+--------------------+------+-----+---------+---------+---------+------+-----+-----------+-----+------+-------+---------+-------+------+-----+-------+-------+----+----------+-------+------+-----+---------+--------+---+-------+\n",
      "only showing top 20 rows\n",
      "\n"
     ]
    }
   ],
   "source": [
    "titles_features_complete.show()"
   ]
  },
  {
   "cell_type": "markdown",
   "metadata": {},
   "source": [
    "## Salvar os dados selecionados"
   ]
  },
  {
   "cell_type": "code",
   "execution_count": 1,
   "metadata": {},
   "outputs": [
    {
     "ename": "NameError",
     "evalue": "name 'titles_features_complete' is not defined",
     "output_type": "error",
     "traceback": [
      "\u001b[1;31m---------------------------------------------------------------------------\u001b[0m",
      "\u001b[1;31mNameError\u001b[0m                                 Traceback (most recent call last)",
      "\u001b[1;32mc:\\Users\\pichau\\Desktop\\BigData e Aplicacoes\\IMDB-BigData-Spark\\Code\\aggregate_data backup.ipynb Cell 51\u001b[0m line \u001b[0;36m2\n\u001b[0;32m      <a href='vscode-notebook-cell:/c%3A/Users/pichau/Desktop/BigData%20e%20Aplicacoes/IMDB-BigData-Spark/Code/aggregate_data%20backup.ipynb#Y105sZmlsZQ%3D%3D?line=0'>1</a>\u001b[0m \u001b[39m# Salvar como CSV\u001b[39;00m\n\u001b[1;32m----> <a href='vscode-notebook-cell:/c%3A/Users/pichau/Desktop/BigData%20e%20Aplicacoes/IMDB-BigData-Spark/Code/aggregate_data%20backup.ipynb#Y105sZmlsZQ%3D%3D?line=1'>2</a>\u001b[0m titles_features_complete\u001b[39m.\u001b[39mwrite\u001b[39m.\u001b[39mcsv(\u001b[39m'\u001b[39m\u001b[39m../Data/movies.features.complete.csv\u001b[39m\u001b[39m'\u001b[39m, header\u001b[39m=\u001b[39m\u001b[39mTrue\u001b[39;00m)\n",
      "\u001b[1;31mNameError\u001b[0m: name 'titles_features_complete' is not defined"
     ]
    }
   ],
   "source": [
    "# Salvar como CSV\n",
    "titles_features_complete.write.csv('../Data/movies.features.complete.csv', header=True)"
   ]
  }
 ],
 "metadata": {
  "kernelspec": {
   "display_name": "Python 3",
   "language": "python",
   "name": "python3"
  },
  "language_info": {
   "codemirror_mode": {
    "name": "ipython",
    "version": 3
   },
   "file_extension": ".py",
   "mimetype": "text/x-python",
   "name": "python",
   "nbconvert_exporter": "python",
   "pygments_lexer": "ipython3",
   "version": "3.12.0"
  }
 },
 "nbformat": 4,
 "nbformat_minor": 2
}
